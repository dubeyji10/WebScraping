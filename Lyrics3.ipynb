{
    "nbformat_minor": 1, 
    "cells": [
        {
            "source": "# trying to find lyrics of any song by entering it's title of track and artist name", 
            "cell_type": "markdown", 
            "metadata": {}
        }, 
        {
            "source": "import requests\nfrom bs4 import BeautifulSoup as BS", 
            "cell_type": "code", 
            "metadata": {}, 
            "outputs": [], 
            "execution_count": 1
        }, 
        {
            "source": "url = \"https://genius.com/\"", 
            "cell_type": "code", 
            "metadata": {}, 
            "outputs": [], 
            "execution_count": 2
        }, 
        {
            "source": "track = input(\"Enter title of track : \")", 
            "cell_type": "code", 
            "metadata": {}, 
            "outputs": [
                {
                    "output_type": "stream", 
                    "name": "stdout", 
                    "text": "Enter title of track : a dream of you\n"
                }
            ], 
            "execution_count": 3
        }, 
        {
            "source": "track", 
            "cell_type": "code", 
            "metadata": {}, 
            "outputs": [
                {
                    "output_type": "execute_result", 
                    "data": {
                        "text/plain": "'a dream of you'"
                    }, 
                    "execution_count": 4, 
                    "metadata": {}
                }
            ], 
            "execution_count": 4
        }, 
        {
            "source": "track1 = track.replace(' ','-')", 
            "cell_type": "code", 
            "metadata": {}, 
            "outputs": [], 
            "execution_count": 5
        }, 
        {
            "source": "track1", 
            "cell_type": "code", 
            "metadata": {}, 
            "outputs": [
                {
                    "output_type": "execute_result", 
                    "data": {
                        "text/plain": "'a-dream-of-you'"
                    }, 
                    "execution_count": 6, 
                    "metadata": {}
                }
            ], 
            "execution_count": 6
        }, 
        {
            "source": "artist = input(\"Enter artist/band name : \")", 
            "cell_type": "code", 
            "metadata": {}, 
            "outputs": [
                {
                    "output_type": "stream", 
                    "name": "stdout", 
                    "text": "Enter artist/band name : far caspian\n"
                }
            ], 
            "execution_count": 7
        }, 
        {
            "source": "artist", 
            "cell_type": "code", 
            "metadata": {}, 
            "outputs": [
                {
                    "output_type": "execute_result", 
                    "data": {
                        "text/plain": "'far caspian'"
                    }, 
                    "execution_count": 8, 
                    "metadata": {}
                }
            ], 
            "execution_count": 8
        }, 
        {
            "source": "## now we can generate the url", 
            "cell_type": "markdown", 
            "metadata": {}
        }, 
        {
            "source": "## it looks like https://genius.com/band-name-title-lyrics \n## ------------- or https://genius.com/artist-name-title-lyrics \n## e.g. - https://genius.com/Far-caspian-a-dream-of-you-lyrics", 
            "cell_type": "markdown", 
            "metadata": {}
        }, 
        {
            "source": "artist1 = artist.replace(' ','-').capitalize()", 
            "cell_type": "code", 
            "metadata": {}, 
            "outputs": [], 
            "execution_count": 9
        }, 
        {
            "source": "artist1 #since we need hyphen and first letter capitalized ----", 
            "cell_type": "code", 
            "metadata": {}, 
            "outputs": [
                {
                    "output_type": "execute_result", 
                    "data": {
                        "text/plain": "'Far-caspian'"
                    }, 
                    "execution_count": 10, 
                    "metadata": {}
                }
            ], 
            "execution_count": 10
        }, 
        {
            "source": "url1 = url+artist1+\"-\"+track1+\"-lyrics\"", 
            "cell_type": "code", 
            "metadata": {}, 
            "outputs": [], 
            "execution_count": 11
        }, 
        {
            "source": "url1", 
            "cell_type": "code", 
            "metadata": {}, 
            "outputs": [
                {
                    "output_type": "execute_result", 
                    "data": {
                        "text/plain": "'https://genius.com/Far-caspian-a-dream-of-you-lyrics'"
                    }, 
                    "execution_count": 12, 
                    "metadata": {}
                }
            ], 
            "execution_count": 12
        }, 
        {
            "source": "### this is our required url for the lyrics page", 
            "cell_type": "markdown", 
            "metadata": {}
        }, 
        {
            "source": "## now  create a BeautifulSoup object and --\n### Send a HTTP request to the specified URL and save the response from server in a response object called r.\n#### Now, as print r.content to get the raw HTML content of the webpage. It is of \u2018string\u2019 type", 
            "cell_type": "markdown", 
            "metadata": {}
        }, 
        {
            "source": "response = requests.get(url1)", 
            "cell_type": "code", 
            "metadata": {}, 
            "outputs": [], 
            "execution_count": 13
        }, 
        {
            "source": "html = response.content", 
            "cell_type": "code", 
            "metadata": {}, 
            "outputs": [], 
            "execution_count": 14
        }, 
        {
            "source": "soup1 = BS(html,'html.parser')", 
            "cell_type": "code", 
            "metadata": {}, 
            "outputs": [], 
            "execution_count": 15
        }, 
        {
            "source": "body = soup1.findAll('p')", 
            "cell_type": "code", 
            "metadata": {}, 
            "outputs": [], 
            "execution_count": 16
        }, 
        {
            "source": "for div in body:\n    print (div.text)", 
            "cell_type": "code", 
            "metadata": {
                "scrolled": true
            }, 
            "outputs": [
                {
                    "output_type": "stream", 
                    "name": "stdout", 
                    "text": "Could you be wrong about the night\nWhile dreaming of the day\nI stopped to take in what was mine\nSo terrified by nothing\nWaving my hand out in to the road\nMaking your plans, oh I never know\n\nCould you be wrong about the light\nWhile trying to make your way\nI hold your hand and you hold mine\nSo terrified by nothing\nWaving my hand out in to the road\nMaking your plans oh I never know\n\nOh so terrified I've felt it all before\nI already know\nI'm running for my life I've let it in so long\nIt's taking its toll\nHolding on to time oh everything must go\nI already know\nAll with sacrifice I let them move on\nSlow time\nOh there you go\n"
                }
            ], 
            "execution_count": 17
        }, 
        {
            "source": "# <font color = \"#2cee12\"> lyrics of the song are scraped </font>", 
            "cell_type": "markdown", 
            "metadata": {}
        }, 
        {
            "source": "albumname = soup1.findAll('span',{\"class\" : \"metadata_unit-info\"}) # this contains album name", 
            "cell_type": "code", 
            "metadata": {}, 
            "outputs": [], 
            "execution_count": 18
        }, 
        {
            "source": "type(albumname)", 
            "cell_type": "code", 
            "metadata": {
                "scrolled": true
            }, 
            "outputs": [
                {
                    "output_type": "execute_result", 
                    "data": {
                        "text/plain": "bs4.element.ResultSet"
                    }, 
                    "execution_count": 19, 
                    "metadata": {}
                }
            ], 
            "execution_count": 19
        }, 
        {
            "source": "print(\"---------- About Song  --------- \")\nfor i in soup1.findAll('div',{\"class\" : \"metadata_unit\"}):\n    print (i.text.replace('\\n',' '))", 
            "cell_type": "code", 
            "metadata": {}, 
            "outputs": [
                {
                    "output_type": "stream", 
                    "name": "stdout", 
                    "text": "---------- About Song  --------- \n Album The Heights - EP \n Written By  Joel Johnston  \n Release Date March 26, 2019 \n"
                }
            ], 
            "execution_count": 20
        }, 
        {
            "source": "# <font color = \"#1ffeee\" >YAY ! </font>\n## <font color = \"#9c5ec0\" >album name found ! </font>\n### and other details too", 
            "cell_type": "markdown", 
            "metadata": {}
        }, 
        {
            "source": "", 
            "cell_type": "code", 
            "metadata": {}, 
            "outputs": [], 
            "execution_count": null
        }, 
        {
            "source": "", 
            "cell_type": "code", 
            "metadata": {}, 
            "outputs": [], 
            "execution_count": null
        }, 
        {
            "source": "for i in soup1.findAll('span',{\"class\" : \"metadata_unit-info\"}):\n    print(i.text)", 
            "cell_type": "code", 
            "metadata": {}, 
            "outputs": [
                {
                    "output_type": "stream", 
                    "name": "stdout", 
                    "text": "The Heights - EP\n\nJoel Johnston\n\nMarch 26, 2019\n"
                }
            ], 
            "execution_count": 21
        }, 
        {
            "source": "", 
            "cell_type": "code", 
            "metadata": {}, 
            "outputs": [], 
            "execution_count": null
        }
    ], 
    "metadata": {
        "kernelspec": {
            "display_name": "Python 3.5", 
            "name": "python3", 
            "language": "python"
        }, 
        "language_info": {
            "mimetype": "text/x-python", 
            "nbconvert_exporter": "python", 
            "version": "3.5.5", 
            "name": "python", 
            "pygments_lexer": "ipython3", 
            "file_extension": ".py", 
            "codemirror_mode": {
                "version": 3, 
                "name": "ipython"
            }
        }
    }, 
    "nbformat": 4
}