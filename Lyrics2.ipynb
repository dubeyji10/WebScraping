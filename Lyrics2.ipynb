{
    "nbformat_minor": 1, 
    "cells": [
        {
            "source": "import requests\nfrom bs4 import BeautifulSoup as BS", 
            "cell_type": "code", 
            "metadata": {}, 
            "outputs": [], 
            "execution_count": 1
        }, 
        {
            "source": "url = \"https://genius.com/\"", 
            "cell_type": "code", 
            "metadata": {}, 
            "outputs": [], 
            "execution_count": 2
        }, 
        {
            "source": "track = input(\"Enter title of track : \")", 
            "cell_type": "code", 
            "metadata": {}, 
            "outputs": [
                {
                    "output_type": "stream", 
                    "name": "stdout", 
                    "text": "Enter title of track : blue\n"
                }
            ], 
            "execution_count": 3
        }, 
        {
            "source": "track", 
            "cell_type": "code", 
            "metadata": {}, 
            "outputs": [
                {
                    "output_type": "execute_result", 
                    "data": {
                        "text/plain": "'blue'"
                    }, 
                    "execution_count": 4, 
                    "metadata": {}
                }
            ], 
            "execution_count": 4
        }, 
        {
            "source": "artist = input(\"Enter artist/band name : \")", 
            "cell_type": "code", 
            "metadata": {}, 
            "outputs": [
                {
                    "output_type": "stream", 
                    "name": "stdout", 
                    "text": "Enter artist/band name : Far caspian\n"
                }
            ], 
            "execution_count": 5
        }, 
        {
            "source": "artist", 
            "cell_type": "code", 
            "metadata": {}, 
            "outputs": [
                {
                    "output_type": "execute_result", 
                    "data": {
                        "text/plain": "'Far caspian'"
                    }, 
                    "execution_count": 6, 
                    "metadata": {}
                }
            ], 
            "execution_count": 6
        }, 
        {
            "source": "## now we can generate the url", 
            "cell_type": "markdown", 
            "metadata": {}
        }, 
        {
            "source": "## it looks like https://genius.com/band-name-title-lyrics \n## ------------- or https://genius.com/artist-name-title-lyrics \n## e.g. - https://genius.com/Far-caspian-a-dream-of-you-lyrics", 
            "cell_type": "markdown", 
            "metadata": {}
        }, 
        {
            "source": "artist1 = artist.replace(' ','-')", 
            "cell_type": "code", 
            "metadata": {}, 
            "outputs": [], 
            "execution_count": 7
        }, 
        {
            "source": "artist1 #since we need hyphen ----", 
            "cell_type": "code", 
            "metadata": {}, 
            "outputs": [
                {
                    "output_type": "execute_result", 
                    "data": {
                        "text/plain": "'Far-caspian'"
                    }, 
                    "execution_count": 9, 
                    "metadata": {}
                }
            ], 
            "execution_count": 9
        }, 
        {
            "source": "url1 = url+artist1+\"-\"+track+\"-lyrics\"", 
            "cell_type": "code", 
            "metadata": {}, 
            "outputs": [], 
            "execution_count": 13
        }, 
        {
            "source": "url1", 
            "cell_type": "code", 
            "metadata": {}, 
            "outputs": [
                {
                    "output_type": "execute_result", 
                    "data": {
                        "text/plain": "'https://genius.com/Far-caspian-blue-lyrics'"
                    }, 
                    "execution_count": 14, 
                    "metadata": {}
                }
            ], 
            "execution_count": 14
        }, 
        {
            "source": "### this is our required url for the lyrics page", 
            "cell_type": "markdown", 
            "metadata": {}
        }, 
        {
            "source": "## now  create a BeautifulSoup object and --\n### Send a HTTP request to the specified URL and save the response from server in a response object called r.\n#### Now, as print r.content to get the raw HTML content of the webpage. It is of \u2018string\u2019 type", 
            "cell_type": "markdown", 
            "metadata": {}
        }, 
        {
            "source": "response = requests.get(url1)", 
            "cell_type": "code", 
            "metadata": {}, 
            "outputs": [], 
            "execution_count": 15
        }, 
        {
            "source": "html = response.content", 
            "cell_type": "code", 
            "metadata": {}, 
            "outputs": [], 
            "execution_count": 16
        }, 
        {
            "source": "soup1 = BS(html,'html.parser')", 
            "cell_type": "code", 
            "metadata": {}, 
            "outputs": [], 
            "execution_count": 17
        }, 
        {
            "source": "body = soup1.findAll('p')", 
            "cell_type": "code", 
            "metadata": {}, 
            "outputs": [], 
            "execution_count": 18
        }, 
        {
            "source": "for div in body:\n    print (div.text)", 
            "cell_type": "code", 
            "metadata": {
                "scrolled": true
            }, 
            "outputs": [
                {
                    "output_type": "stream", 
                    "name": "stdout", 
                    "text": "Last night the rain blew down\nI called you up with no answer\nIt's all a waste of time\nI\u2019ve wanted this since forever\n\nBut I don't know\nIt's not the way I thought\nI tried for you to see\nBut you\u2019ll never know\n\nOh, It will never work\nDon't you see\nYou gotta let it hurt\n\nOh, It will never work\nDon't you see\nYou gotta let it hurt\nOh\n\nI think of ways to fly\nWe smoked away in the basement\nI kissed your lips slow and dry\nWe danced until we were wasted\n\nOh, It's a dream I'm in\nAnd all I need\nIs many ways to fly away\n\nOh, It will never work\nDon't you see\nYou gotta let it hurt\n\n[Instrumental]\n\nOh, It will never work\nDon't you see\nYou gotta let it hurt\n\nOh, It will never work\nDon't you see\nYou gotta let it hurt\n\nOh\nOh\nYou gotta let it hurt\n\nOh\nOh\nYou gotta let it hurt\n"
                }
            ], 
            "execution_count": 19
        }, 
        {
            "source": "# <font color = \"#2cee12\"> lyrics of the song are scraped </font>", 
            "cell_type": "markdown", 
            "metadata": {}
        }, 
        {
            "source": "albumname = soup1.findAll('span',{\"class\" : \"metadata_unit-info\"}) # this contains album name", 
            "cell_type": "code", 
            "metadata": {}, 
            "outputs": [], 
            "execution_count": 31
        }, 
        {
            "source": "albumname", 
            "cell_type": "code", 
            "metadata": {}, 
            "outputs": [
                {
                    "output_type": "execute_result", 
                    "data": {
                        "text/plain": "[<span class=\"metadata_unit-info\"><a href=\"https://genius.com/albums/Far-caspian/Between-days\">Between Days</a></span>,\n <span class=\"metadata_unit-info metadata_unit-info--text_only\">October 9, 2018</span>]"
                    }, 
                    "execution_count": 32, 
                    "metadata": {}
                }
            ], 
            "execution_count": 32
        }, 
        {
            "source": "for i in soup1.findAll('div',{\"class\" : \"metadata_unit\"}):\n    for j in i.findAll('a'):\n        print(j.text)", 
            "cell_type": "code", 
            "metadata": {}, 
            "outputs": [
                {
                    "output_type": "stream", 
                    "name": "stdout", 
                    "text": "Between Days\n"
                }
            ], 
            "execution_count": 34
        }, 
        {
            "source": "# <font color = \"#1ffeee\" >YAY ! </font>\n## <font color = \"#9c5ec0\" >album name found ! </font>", 
            "cell_type": "markdown", 
            "metadata": {}
        }, 
        {
            "source": "", 
            "cell_type": "code", 
            "metadata": {}, 
            "outputs": [], 
            "execution_count": null
        }
    ], 
    "metadata": {
        "kernelspec": {
            "display_name": "Python 3.5", 
            "name": "python3", 
            "language": "python"
        }, 
        "language_info": {
            "mimetype": "text/x-python", 
            "nbconvert_exporter": "python", 
            "version": "3.5.5", 
            "name": "python", 
            "pygments_lexer": "ipython3", 
            "file_extension": ".py", 
            "codemirror_mode": {
                "version": 3, 
                "name": "ipython"
            }
        }
    }, 
    "nbformat": 4
}