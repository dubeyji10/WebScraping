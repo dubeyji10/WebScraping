{
    "nbformat_minor": 1, 
    "cells": [
        {
            "source": "<h1> table parsing </h1>", 
            "cell_type": "markdown", 
            "metadata": {
                "collapsed": true
            }
        }, 
        {
            "source": "import requests\nfrom bs4 import BeautifulSoup as BS", 
            "cell_type": "code", 
            "metadata": {}, 
            "outputs": [], 
            "execution_count": 1
        }, 
        {
            "source": "url = \"http://www.gla.ac.in/admissions/counselling-offices\"\nresponse = requests.get(url)\nhtml = response.content", 
            "cell_type": "code", 
            "metadata": {}, 
            "outputs": [], 
            "execution_count": 2
        }, 
        {
            "source": "soup1 = BS(html,'html.parser')\ntable = soup1.find('tbody')", 
            "cell_type": "code", 
            "metadata": {}, 
            "outputs": [], 
            "execution_count": 3
        }, 
        {
            "source": "print(table.prettify())", 
            "cell_type": "code", 
            "metadata": {
                "scrolled": true
            }, 
            "outputs": [
                {
                    "output_type": "stream", 
                    "name": "stdout", 
                    "text": "<tbody>\n <tr>\n  <th>\n   State\n  </th>\n  <th>\n   Office Name\n  </th>\n  <th>\n   Address\n  </th>\n  <th>\n   Contact No.\n  </th>\n  <th>\n   Date of Opening\n  </th>\n </tr>\n <tr>\n  <td rowspan=\"4\">\n   Bihar\n  </td>\n  <td>\n   Bhagalpur\n  </td>\n  <td>\n   Hotel Rajhans International, Kachari Chowk , M.G Road, Bhagalpur - 812001(Bihar)\n  </td>\n  <td>\n   +91-8171128356, +918449431935\n  </td>\n  <td>\n   20/05/2019\n  </td>\n </tr>\n <tr>\n  <td>\n   Muzaffarpur\n  </td>\n  <td>\n   Hotel Urmila International,Maripur Main Road, Near Maripur Railway Overbridge, Muzaffarpur, Bihar-842001,\n  </td>\n  <td>\n   +91-9473455001, +91-7250365002\n  </td>\n  <td>\n   15/05/2019\n  </td>\n </tr>\n <tr>\n  <td>\n   Patna\n  </td>\n  <td>\n   Shop No- L M - 7, Dumraon Palace, Fraser Road, Patna-1\n  </td>\n  <td>\n   85349 07971,\u00a095576 07724\n  </td>\n  <td>\n   17/05/2019\n  </td>\n </tr>\n <tr>\n  <td>\n   Sasaram\n  </td>\n  <td>\n   Hotal Natraj International, Old G. T. Road (Near Model Thana), Beside Fazalganj Gas Agency, Sasaram(Rohtas), Bihar-821115,\n  </td>\n  <td>\n   +91-9431866244, +91-9128057373\n  </td>\n  <td>\n   25/05/2019\n  </td>\n </tr>\n <tr>\n  <td>\n   Haryana\n  </td>\n  <td>\n   Faridabad\n  </td>\n  <td>\n   Shop No. SB-14 Second Floor, Crown Plaza, Sector 15A, Mathura Road, Faridabad-121007(H.R.)\n  </td>\n  <td>\n   +91-9643957318 +91-8130971422\n  </td>\n  <td>\n   15/05/2019\n  </td>\n </tr>\n <tr>\n  <td>\n   Jharkhand\n  </td>\n  <td>\n   Ranchi\n  </td>\n  <td>\n   First Floor, Avinash Complex, Opposite Dr Amit Mukherjee, East Jail Road,Lalpur, Ranchi-834001(J.K.)\n  </td>\n  <td>\n   +91-8084394307, 9117639430\n  </td>\n  <td>\n   15/05/2019\n  </td>\n </tr>\n <tr>\n  <td rowspan=\"4\">\n   Madhya Pradesh\n  </td>\n  <td>\n   Bhopal\n  </td>\n  <td>\n   170, IIFT Campus, Beside Allahabad Bank, Near Sargam Cinema, Zone II M.P Nagar Bhopal-462011(M.P.)\n  </td>\n  <td>\n   +91-8474901787, +91-7060772531\n  </td>\n  <td>\n   15/05/2019\n  </td>\n </tr>\n <tr>\n  <td>\n   Gwalior\n  </td>\n  <td>\n   Shop No. 38, Rajiv Plaza Jayendraganj Lashkar Gwalior-474009(M.P.)\n  </td>\n  <td>\n   +91-9568145600, +91-8979380626, +9412353140\n  </td>\n  <td>\n   15/05/2019\n  </td>\n </tr>\n <tr>\n  <td>\n   Indore\n  </td>\n  <td>\n   103, Sukhmani Apartment, 5 Vishnupuri Colony, A.B. Road, Above Union Bank, Bhawarkuan, Indore-452001( M.P.)\n  </td>\n  <td>\n   +91-9412159467, +91-9760079135\n  </td>\n  <td>\n   15/05/2019\n  </td>\n </tr>\n <tr>\n  <td>\n   Shivpuri\n  </td>\n  <td>\n   Hotel Shivam Paradise Seth Estate Near Vishnu Mandir, Sidheshwar road Shivpuri\u00a0 -473551(M.P.)\n  </td>\n  <td>\n   +91-8755447139, +919926215890\n  </td>\n  <td>\n   15/05/2019\n  </td>\n </tr>\n <tr>\n  <td rowspan=\"3\">\n   Rajasthan\n  </td>\n  <td>\n   Alwar\n  </td>\n  <td>\n   Shop No. G-16 Wonder Mall Alwar\u00a0 (Raj)-301001\n  </td>\n  <td>\n   +91-7357286900,+91-8955391416\n  </td>\n  <td>\n   15/05/2019\n  </td>\n </tr>\n <tr>\n  <td>\n   Bharatpur\n  </td>\n  <td>\n   Infront of Hanuman Mandir, Suraj pole Chauraha, circular road, Bharatpur - 321001 (Raj.)\n  </td>\n  <td>\n   +91-6376645030, +91-9672002340\n  </td>\n  <td>\n   01/05/2019\n  </td>\n </tr>\n <tr>\n  <td>\n   Dholpur\n  </td>\n  <td>\n   Hotel Gaurav, Hospital Road, Near Kotwali, Dholpur - 328001 (Raj.)\n  </td>\n  <td>\n   +91-7727979427, +91-8273093425\n  </td>\n  <td>\n   15/05/2019\n  </td>\n </tr>\n <tr>\n  <td>\n   Uttaranchal\n  </td>\n  <td>\n   Dehradun\n  </td>\n  <td>\n   B 34, IInd Floor, Meedo Plaza, Bhel Chowk, Rajpur Road, Dehradun, -248001(U.K.)\n  </td>\n  <td>\n   +91-7060001917, +91-7302008809, +91-9761608809\n  </td>\n  <td>\n   15/05/2019\n  </td>\n </tr>\n <tr>\n  <td rowspan=\"25\">\n   Uttar Pradesh\n  </td>\n  <td>\n   Agra\n  </td>\n  <td>\n   8 A/M, 808-A 1st Floor, Near Khandari Crossing, Near Sagar Ratna Hotel NH-2, Agra, -282002(U.P.)\n  </td>\n  <td>\n   +91-9927584178, +91-7900389707\n  </td>\n  <td>\n   1/04/2019\n  </td>\n </tr>\n <tr>\n  <td>\n   Aligarh\n  </td>\n  <td>\n   Mahajan Plaza, III Floor, Near Minakshi Fly over Ram ghat Aligarh-202001(U.P.)\n  </td>\n  <td>\n   +91-9084301580, +91-9084301565\n  </td>\n  <td>\n   01/04/2019\n  </td>\n </tr>\n <tr>\n  <td>\n   Mathura\n  </td>\n  <td>\n   17km stone, NH-2, Mathura-Delhi road p.o. Chaumuhan, Mathura-281 406 (u.p.) India\n  </td>\n  <td>\n   8937099911, 6399020004, 6399020005\n  </td>\n  <td>\n   01/04/2019\n  </td>\n </tr>\n <tr>\n  <td>\n   Allahabad\n  </td>\n  <td>\n   Hotel Tepso (Beside\u00a0 Coffe House) 123/27 A Mahatma Gandhi Marg Civil Lines Allahabad-211001(U.P.)\n  </td>\n  <td>\n   8917885320, 9519776497, 9412179002\n  </td>\n  <td>\n   15/05/2019\n  </td>\n </tr>\n <tr>\n  <td>\n   Banda\n  </td>\n  <td>\n   Hotel Gurudev Palace Civil Line Banda-210001(U.P.)\n  </td>\n  <td>\n   +91-9456009465, +91-8171089585, +91-8171866111\n  </td>\n  <td>\n   15/05/2019\n  </td>\n </tr>\n <tr>\n  <td>\n   Bareilly\n  </td>\n  <td>\n   148 Civil Lines, Second Floor TLC Building, Opposite ADM(E) Residence, Near Mandakini Hotel, Bareilly-243001(U.P.)\n  </td>\n  <td>\n   +91-9568236377, +91-8954084897\n  </td>\n  <td>\n   15/05/2019\n  </td>\n </tr>\n <tr>\n  <td>\n   Basti\n  </td>\n  <td>\n   Room No 107, Hotel NR Group, Opposite Govt. Inter College Ground Gandhinagar Road, Dist- Basti U.P. 272001\n  </td>\n  <td>\n   +91-8175074551,+91-8795453727\n  </td>\n  <td>\n   15/05/2019\n  </td>\n </tr>\n <tr>\n  <td>\n   Bulandshahr\n  </td>\n  <td>\n   Near PNB Bank, Opposite Raj Darbar Hotel, D.M.Colony Road, Bulandshahr-203001 (U.P)\n  </td>\n  <td>\n   +91-7302068771, +91-7302068742\n  </td>\n  <td>\n   15/05/2019\n  </td>\n </tr>\n <tr>\n  <td>\n   Etah\n  </td>\n  <td>\n   127, Aruna Nagar, Railway Road, Etah - 207001 (U.P.)\n  </td>\n  <td>\n   +91-7900542260, +91-8923300590\n  </td>\n  <td>\n   12/05/2019\n  </td>\n </tr>\n <tr>\n  <td>\n   Etawah\n  </td>\n  <td>\n   NIMACT Campus, 15, Civil Lines, Near Dr. Sanjeev Yadav (DMC Hospital), Etawah \u2013 206001(U.P.)\n  </td>\n  <td>\n   +91-7518228095\n  </td>\n  <td>\n   15/05/2019\n  </td>\n </tr>\n <tr>\n  <td>\n   Firozabad\n  </td>\n  <td>\n   D-16, IS Plaza, Near Yes Bank, Station Road, Firozabad-283203(U.P.)\n  </td>\n  <td>\n   +91-7452821342, +91-8057258075\n  </td>\n  <td>\n   15/05/2019\n  </td>\n </tr>\n <tr>\n  <td>\n   Gorakhpur\n  </td>\n  <td>\n   Ist Floor Shop No.4, Cross Road The Mall, Bank Road Gorakhpur-273001(U.P.)\n  </td>\n  <td>\n   +91-8077716159,+91-6396211328\n  </td>\n  <td>\n   15/05/2019\n  </td>\n </tr>\n <tr>\n  <td>\n   Hathras\n  </td>\n  <td>\n   II Floor, Near Agra Hospital, Vasudev Nagar, Agra Road, Hathras-282006(U.P.)\n  </td>\n  <td>\n   +91-7060238189, +91-9568255917\n  </td>\n  <td>\n   01/05/2019\n  </td>\n </tr>\n <tr>\n  <td>\n   Jhansi\n  </td>\n  <td>\n   Hotel Yatrik, Elite Crossing, Janki Puram, Civil Lines, Jhansi - 284001 (U.P.)\n  </td>\n  <td>\n   +91-7500446622, +91-8979669911\n  </td>\n  <td>\n   15/05/2019\n  </td>\n </tr>\n <tr>\n  <td>\n   Kanpur\n  </td>\n  <td>\n   117/N/88, Kakadeo, Deoki Talkies Lane, Opposite CCD, Kanpur - 208025(U.P.)\n  </td>\n  <td>\n   +91-8009509191, +91-9506035005\n  </td>\n  <td>\n   15/05/2019\n  </td>\n </tr>\n <tr>\n  <td>\n   Kasganj\n  </td>\n  <td>\n   Near Axis Bank, Laxmiganj, Kasganj- 207123(U.P.)\n  </td>\n  <td>\n   +91-8006044401, +91-7037119023\n  </td>\n  <td>\n   15/05/2019\n  </td>\n </tr>\n <tr>\n  <td>\n   Lucknow\n  </td>\n  <td>\n   1st Floor, A-Block, Suraj Deep Complex, Near Dainik Jagran Chauraha,1 Jopling Road Lucknow-226001(U.P.)\n  </td>\n  <td>\n   +91-8737070303, +91-7081252359\n  </td>\n  <td>\n   15/05/2019\n  </td>\n </tr>\n <tr>\n  <td>\n   Mainpuri\n  </td>\n  <td>\n   Krishna Marriage Hall, Near IDBI Bank, Station Road, Manipuri-205001(U.P.)\n  </td>\n  <td>\n   +91-7037839960\n  </td>\n  <td>\n   15/05/2019\n  </td>\n </tr>\n <tr>\n  <td>\n   Meerut\n  </td>\n  <td>\n   347/1, Ground Floor, Prem G Plaza, Western Kutchery Road, Near Bombay Paint House, Meerut City, Meerut - 250001 (UP)\n  </td>\n  <td>\n   +91-7060239364, +91-7060239335\n  </td>\n  <td>\n   5/05/2019\n  </td>\n </tr>\n <tr>\n  <td>\n   Moradabad\n  </td>\n  <td>\n   Nosegay Senior Secondary School, Madhubani Colony, Kanth Road, Near 23rd Btn. P.A.C., Moradabad-244001(UP)\n  </td>\n  <td>\n   +91-6399122005, +91-6399122006\n  </td>\n  <td>\n   14/05/2019\n  </td>\n </tr>\n <tr>\n  <td>\n   Muzaffarnagar\n  </td>\n  <td>\n   35/22/3, M.G. Complex, Near Liberty &amp; Action Showroom, Lane No. 2, Sadar Bazar, Muzaffarnagar- 251001(U.P.)\n  </td>\n  <td>\n   +91-8868963310, +91-8868823310\n  </td>\n  <td>\n   15/05/2019\n  </td>\n </tr>\n <tr>\n  <td>\n   Noida\n  </td>\n  <td>\n   H 50, Sector \u2013 63, Noida- 201307(U.P.)\n  </td>\n  <td>\n   +91-9560800670, +91-7428841918\n  </td>\n  <td>\n   15/05/2019\n  </td>\n </tr>\n <tr>\n  <td>\n   Orai\n  </td>\n  <td>\n   Hotel Sunrise, 1684, Patel Nagar (Near Kalpi Bus Stand), ORAI- 285001, Distt. Jalaun (UP)\n  </td>\n  <td>\n   +91-9452683498, +91-8171633514, +91-8171630011\n  </td>\n  <td>\n   15/05/2019\n  </td>\n </tr>\n <tr>\n  <td>\n   Sitapur\n  </td>\n  <td>\n   Hotel Apple, Opposite Sitapur Junction (Cantt Station), Avas Vikas Colony, Sitapur-261001\n  </td>\n  <td>\n   +91-8737070202, +91-7081251886\n  </td>\n  <td>\n   15/05/2019\n  </td>\n </tr>\n <tr>\n  <td>\n   Varanasi\n  </td>\n  <td>\n   Shop No. 5, 3rd Floor, Kuber Complex (Mall), Rathyatra Chauraha, Singra Varanasi,\u00a0 221010(U.P.)\n  </td>\n  <td>\n   +91-6399288635, +91-9084301609\n  </td>\n  <td>\n   01/05/2019\n  </td>\n </tr>\n</tbody>\n\n"
                }
            ], 
            "execution_count": 4
        }, 
        {
            "source": "for row in table.findAll('tr'):\n    print (row.prettify())", 
            "cell_type": "code", 
            "metadata": {}, 
            "outputs": [
                {
                    "output_type": "stream", 
                    "name": "stdout", 
                    "text": "<tr>\n <th>\n  State\n </th>\n <th>\n  Office Name\n </th>\n <th>\n  Address\n </th>\n <th>\n  Contact No.\n </th>\n <th>\n  Date of Opening\n </th>\n</tr>\n\n<tr>\n <td rowspan=\"4\">\n  Bihar\n </td>\n <td>\n  Bhagalpur\n </td>\n <td>\n  Hotel Rajhans International, Kachari Chowk , M.G Road, Bhagalpur - 812001(Bihar)\n </td>\n <td>\n  +91-8171128356, +918449431935\n </td>\n <td>\n  20/05/2019\n </td>\n</tr>\n\n<tr>\n <td>\n  Muzaffarpur\n </td>\n <td>\n  Hotel Urmila International,Maripur Main Road, Near Maripur Railway Overbridge, Muzaffarpur, Bihar-842001,\n </td>\n <td>\n  +91-9473455001, +91-7250365002\n </td>\n <td>\n  15/05/2019\n </td>\n</tr>\n\n<tr>\n <td>\n  Patna\n </td>\n <td>\n  Shop No- L M - 7, Dumraon Palace, Fraser Road, Patna-1\n </td>\n <td>\n  85349 07971,\u00a095576 07724\n </td>\n <td>\n  17/05/2019\n </td>\n</tr>\n\n<tr>\n <td>\n  Sasaram\n </td>\n <td>\n  Hotal Natraj International, Old G. T. Road (Near Model Thana), Beside Fazalganj Gas Agency, Sasaram(Rohtas), Bihar-821115,\n </td>\n <td>\n  +91-9431866244, +91-9128057373\n </td>\n <td>\n  25/05/2019\n </td>\n</tr>\n\n<tr>\n <td>\n  Haryana\n </td>\n <td>\n  Faridabad\n </td>\n <td>\n  Shop No. SB-14 Second Floor, Crown Plaza, Sector 15A, Mathura Road, Faridabad-121007(H.R.)\n </td>\n <td>\n  +91-9643957318 +91-8130971422\n </td>\n <td>\n  15/05/2019\n </td>\n</tr>\n\n<tr>\n <td>\n  Jharkhand\n </td>\n <td>\n  Ranchi\n </td>\n <td>\n  First Floor, Avinash Complex, Opposite Dr Amit Mukherjee, East Jail Road,Lalpur, Ranchi-834001(J.K.)\n </td>\n <td>\n  +91-8084394307, 9117639430\n </td>\n <td>\n  15/05/2019\n </td>\n</tr>\n\n<tr>\n <td rowspan=\"4\">\n  Madhya Pradesh\n </td>\n <td>\n  Bhopal\n </td>\n <td>\n  170, IIFT Campus, Beside Allahabad Bank, Near Sargam Cinema, Zone II M.P Nagar Bhopal-462011(M.P.)\n </td>\n <td>\n  +91-8474901787, +91-7060772531\n </td>\n <td>\n  15/05/2019\n </td>\n</tr>\n\n<tr>\n <td>\n  Gwalior\n </td>\n <td>\n  Shop No. 38, Rajiv Plaza Jayendraganj Lashkar Gwalior-474009(M.P.)\n </td>\n <td>\n  +91-9568145600, +91-8979380626, +9412353140\n </td>\n <td>\n  15/05/2019\n </td>\n</tr>\n\n<tr>\n <td>\n  Indore\n </td>\n <td>\n  103, Sukhmani Apartment, 5 Vishnupuri Colony, A.B. Road, Above Union Bank, Bhawarkuan, Indore-452001( M.P.)\n </td>\n <td>\n  +91-9412159467, +91-9760079135\n </td>\n <td>\n  15/05/2019\n </td>\n</tr>\n\n<tr>\n <td>\n  Shivpuri\n </td>\n <td>\n  Hotel Shivam Paradise Seth Estate Near Vishnu Mandir, Sidheshwar road Shivpuri\u00a0 -473551(M.P.)\n </td>\n <td>\n  +91-8755447139, +919926215890\n </td>\n <td>\n  15/05/2019\n </td>\n</tr>\n\n<tr>\n <td rowspan=\"3\">\n  Rajasthan\n </td>\n <td>\n  Alwar\n </td>\n <td>\n  Shop No. G-16 Wonder Mall Alwar\u00a0 (Raj)-301001\n </td>\n <td>\n  +91-7357286900,+91-8955391416\n </td>\n <td>\n  15/05/2019\n </td>\n</tr>\n\n<tr>\n <td>\n  Bharatpur\n </td>\n <td>\n  Infront of Hanuman Mandir, Suraj pole Chauraha, circular road, Bharatpur - 321001 (Raj.)\n </td>\n <td>\n  +91-6376645030, +91-9672002340\n </td>\n <td>\n  01/05/2019\n </td>\n</tr>\n\n<tr>\n <td>\n  Dholpur\n </td>\n <td>\n  Hotel Gaurav, Hospital Road, Near Kotwali, Dholpur - 328001 (Raj.)\n </td>\n <td>\n  +91-7727979427, +91-8273093425\n </td>\n <td>\n  15/05/2019\n </td>\n</tr>\n\n<tr>\n <td>\n  Uttaranchal\n </td>\n <td>\n  Dehradun\n </td>\n <td>\n  B 34, IInd Floor, Meedo Plaza, Bhel Chowk, Rajpur Road, Dehradun, -248001(U.K.)\n </td>\n <td>\n  +91-7060001917, +91-7302008809, +91-9761608809\n </td>\n <td>\n  15/05/2019\n </td>\n</tr>\n\n<tr>\n <td rowspan=\"25\">\n  Uttar Pradesh\n </td>\n <td>\n  Agra\n </td>\n <td>\n  8 A/M, 808-A 1st Floor, Near Khandari Crossing, Near Sagar Ratna Hotel NH-2, Agra, -282002(U.P.)\n </td>\n <td>\n  +91-9927584178, +91-7900389707\n </td>\n <td>\n  1/04/2019\n </td>\n</tr>\n\n<tr>\n <td>\n  Aligarh\n </td>\n <td>\n  Mahajan Plaza, III Floor, Near Minakshi Fly over Ram ghat Aligarh-202001(U.P.)\n </td>\n <td>\n  +91-9084301580, +91-9084301565\n </td>\n <td>\n  01/04/2019\n </td>\n</tr>\n\n<tr>\n <td>\n  Mathura\n </td>\n <td>\n  17km stone, NH-2, Mathura-Delhi road p.o. Chaumuhan, Mathura-281 406 (u.p.) India\n </td>\n <td>\n  8937099911, 6399020004, 6399020005\n </td>\n <td>\n  01/04/2019\n </td>\n</tr>\n\n<tr>\n <td>\n  Allahabad\n </td>\n <td>\n  Hotel Tepso (Beside\u00a0 Coffe House) 123/27 A Mahatma Gandhi Marg Civil Lines Allahabad-211001(U.P.)\n </td>\n <td>\n  8917885320, 9519776497, 9412179002\n </td>\n <td>\n  15/05/2019\n </td>\n</tr>\n\n<tr>\n <td>\n  Banda\n </td>\n <td>\n  Hotel Gurudev Palace Civil Line Banda-210001(U.P.)\n </td>\n <td>\n  +91-9456009465, +91-8171089585, +91-8171866111\n </td>\n <td>\n  15/05/2019\n </td>\n</tr>\n\n<tr>\n <td>\n  Bareilly\n </td>\n <td>\n  148 Civil Lines, Second Floor TLC Building, Opposite ADM(E) Residence, Near Mandakini Hotel, Bareilly-243001(U.P.)\n </td>\n <td>\n  +91-9568236377, +91-8954084897\n </td>\n <td>\n  15/05/2019\n </td>\n</tr>\n\n<tr>\n <td>\n  Basti\n </td>\n <td>\n  Room No 107, Hotel NR Group, Opposite Govt. Inter College Ground Gandhinagar Road, Dist- Basti U.P. 272001\n </td>\n <td>\n  +91-8175074551,+91-8795453727\n </td>\n <td>\n  15/05/2019\n </td>\n</tr>\n\n<tr>\n <td>\n  Bulandshahr\n </td>\n <td>\n  Near PNB Bank, Opposite Raj Darbar Hotel, D.M.Colony Road, Bulandshahr-203001 (U.P)\n </td>\n <td>\n  +91-7302068771, +91-7302068742\n </td>\n <td>\n  15/05/2019\n </td>\n</tr>\n\n<tr>\n <td>\n  Etah\n </td>\n <td>\n  127, Aruna Nagar, Railway Road, Etah - 207001 (U.P.)\n </td>\n <td>\n  +91-7900542260, +91-8923300590\n </td>\n <td>\n  12/05/2019\n </td>\n</tr>\n\n<tr>\n <td>\n  Etawah\n </td>\n <td>\n  NIMACT Campus, 15, Civil Lines, Near Dr. Sanjeev Yadav (DMC Hospital), Etawah \u2013 206001(U.P.)\n </td>\n <td>\n  +91-7518228095\n </td>\n <td>\n  15/05/2019\n </td>\n</tr>\n\n<tr>\n <td>\n  Firozabad\n </td>\n <td>\n  D-16, IS Plaza, Near Yes Bank, Station Road, Firozabad-283203(U.P.)\n </td>\n <td>\n  +91-7452821342, +91-8057258075\n </td>\n <td>\n  15/05/2019\n </td>\n</tr>\n\n<tr>\n <td>\n  Gorakhpur\n </td>\n <td>\n  Ist Floor Shop No.4, Cross Road The Mall, Bank Road Gorakhpur-273001(U.P.)\n </td>\n <td>\n  +91-8077716159,+91-6396211328\n </td>\n <td>\n  15/05/2019\n </td>\n</tr>\n\n<tr>\n <td>\n  Hathras\n </td>\n <td>\n  II Floor, Near Agra Hospital, Vasudev Nagar, Agra Road, Hathras-282006(U.P.)\n </td>\n <td>\n  +91-7060238189, +91-9568255917\n </td>\n <td>\n  01/05/2019\n </td>\n</tr>\n\n<tr>\n <td>\n  Jhansi\n </td>\n <td>\n  Hotel Yatrik, Elite Crossing, Janki Puram, Civil Lines, Jhansi - 284001 (U.P.)\n </td>\n <td>\n  +91-7500446622, +91-8979669911\n </td>\n <td>\n  15/05/2019\n </td>\n</tr>\n\n<tr>\n <td>\n  Kanpur\n </td>\n <td>\n  117/N/88, Kakadeo, Deoki Talkies Lane, Opposite CCD, Kanpur - 208025(U.P.)\n </td>\n <td>\n  +91-8009509191, +91-9506035005\n </td>\n <td>\n  15/05/2019\n </td>\n</tr>\n\n<tr>\n <td>\n  Kasganj\n </td>\n <td>\n  Near Axis Bank, Laxmiganj, Kasganj- 207123(U.P.)\n </td>\n <td>\n  +91-8006044401, +91-7037119023\n </td>\n <td>\n  15/05/2019\n </td>\n</tr>\n\n<tr>\n <td>\n  Lucknow\n </td>\n <td>\n  1st Floor, A-Block, Suraj Deep Complex, Near Dainik Jagran Chauraha,1 Jopling Road Lucknow-226001(U.P.)\n </td>\n <td>\n  +91-8737070303, +91-7081252359\n </td>\n <td>\n  15/05/2019\n </td>\n</tr>\n\n<tr>\n <td>\n  Mainpuri\n </td>\n <td>\n  Krishna Marriage Hall, Near IDBI Bank, Station Road, Manipuri-205001(U.P.)\n </td>\n <td>\n  +91-7037839960\n </td>\n <td>\n  15/05/2019\n </td>\n</tr>\n\n<tr>\n <td>\n  Meerut\n </td>\n <td>\n  347/1, Ground Floor, Prem G Plaza, Western Kutchery Road, Near Bombay Paint House, Meerut City, Meerut - 250001 (UP)\n </td>\n <td>\n  +91-7060239364, +91-7060239335\n </td>\n <td>\n  5/05/2019\n </td>\n</tr>\n\n<tr>\n <td>\n  Moradabad\n </td>\n <td>\n  Nosegay Senior Secondary School, Madhubani Colony, Kanth Road, Near 23rd Btn. P.A.C., Moradabad-244001(UP)\n </td>\n <td>\n  +91-6399122005, +91-6399122006\n </td>\n <td>\n  14/05/2019\n </td>\n</tr>\n\n<tr>\n <td>\n  Muzaffarnagar\n </td>\n <td>\n  35/22/3, M.G. Complex, Near Liberty &amp; Action Showroom, Lane No. 2, Sadar Bazar, Muzaffarnagar- 251001(U.P.)\n </td>\n <td>\n  +91-8868963310, +91-8868823310\n </td>\n <td>\n  15/05/2019\n </td>\n</tr>\n\n<tr>\n <td>\n  Noida\n </td>\n <td>\n  H 50, Sector \u2013 63, Noida- 201307(U.P.)\n </td>\n <td>\n  +91-9560800670, +91-7428841918\n </td>\n <td>\n  15/05/2019\n </td>\n</tr>\n\n<tr>\n <td>\n  Orai\n </td>\n <td>\n  Hotel Sunrise, 1684, Patel Nagar (Near Kalpi Bus Stand), ORAI- 285001, Distt. Jalaun (UP)\n </td>\n <td>\n  +91-9452683498, +91-8171633514, +91-8171630011\n </td>\n <td>\n  15/05/2019\n </td>\n</tr>\n\n<tr>\n <td>\n  Sitapur\n </td>\n <td>\n  Hotel Apple, Opposite Sitapur Junction (Cantt Station), Avas Vikas Colony, Sitapur-261001\n </td>\n <td>\n  +91-8737070202, +91-7081251886\n </td>\n <td>\n  15/05/2019\n </td>\n</tr>\n\n<tr>\n <td>\n  Varanasi\n </td>\n <td>\n  Shop No. 5, 3rd Floor, Kuber Complex (Mall), Rathyatra Chauraha, Singra Varanasi,\u00a0 221010(U.P.)\n </td>\n <td>\n  +91-6399288635, +91-9084301609\n </td>\n <td>\n  01/05/2019\n </td>\n</tr>\n\n"
                }
            ], 
            "execution_count": 5
        }, 
        {
            "source": "for row in table.findAll('tr'):\n    for cell in row.findAll('td'):\n        print(cell.text)", 
            "cell_type": "code", 
            "metadata": {}, 
            "outputs": [
                {
                    "output_type": "stream", 
                    "name": "stdout", 
                    "text": "\r\n\t\t\t\t\t\t\tBihar\n\r\n\t\t\t\t\t\t\tBhagalpur\n\r\n\t\t\t\t\t\t\tHotel Rajhans International, Kachari Chowk , M.G Road, Bhagalpur - 812001(Bihar)\n\r\n\t\t\t\t\t\t\t+91-8171128356, +918449431935\n\r\n\t\t\t\t\t\t\t20/05/2019\n\r\n\t\t\t\t\t\t\tMuzaffarpur\n\r\n\t\t\t\t\t\t\tHotel Urmila International,Maripur Main Road, Near Maripur Railway Overbridge, Muzaffarpur, Bihar-842001,\n\r\n\t\t\t\t\t\t\t+91-9473455001, +91-7250365002\n\r\n\t\t\t\t\t\t\t15/05/2019\n\r\n\t\t\t\t\t\t\tPatna\n\r\n\t\t\t\t\t\t\tShop No- L M - 7, Dumraon Palace, Fraser Road, Patna-1\n\r\n\t\t\t\t\t\t\t\u00a085349 07971,\u00a095576 07724\n\r\n\t\t\t\t\t\t\t17/05/2019\n\r\n\t\t\t\t\t\t\tSasaram\n\r\n\t\t\t\t\t\t\tHotal Natraj International, Old G. T. Road (Near Model Thana), Beside Fazalganj Gas Agency, Sasaram(Rohtas), Bihar-821115,\n\r\n\t\t\t\t\t\t\t+91-9431866244, +91-9128057373\n\r\n\t\t\t\t\t\t\t25/05/2019\n\r\n\t\t\t\t\t\t\tHaryana\n\r\n\t\t\t\t\t\t\tFaridabad\n\r\n\t\t\t\t\t\t\tShop No. SB-14 Second Floor, Crown Plaza, Sector 15A, Mathura Road, Faridabad-121007(H.R.)\n\r\n\t\t\t\t\t\t\t+91-9643957318 +91-8130971422\n\r\n\t\t\t\t\t\t\t15/05/2019\n\r\n\t\t\t\t\t\t\tJharkhand\n\r\n\t\t\t\t\t\t\tRanchi\n\r\n\t\t\t\t\t\t\tFirst Floor, Avinash Complex, Opposite Dr Amit Mukherjee, East Jail Road,Lalpur, Ranchi-834001(J.K.)\n\r\n\t\t\t\t\t\t\t+91-8084394307, 9117639430\n\r\n\t\t\t\t\t\t\t15/05/2019\n\r\n\t\t\t\t\t\t\tMadhya Pradesh\n\r\n\t\t\t\t\t\t\tBhopal\n\r\n\t\t\t\t\t\t\t170, IIFT Campus, Beside Allahabad Bank, Near Sargam Cinema, Zone II M.P Nagar Bhopal-462011(M.P.)\n\r\n\t\t\t\t\t\t\t+91-8474901787, +91-7060772531\n\r\n\t\t\t\t\t\t\t15/05/2019\n\r\n\t\t\t\t\t\t\tGwalior\n\r\n\t\t\t\t\t\t\tShop No. 38, Rajiv Plaza Jayendraganj Lashkar Gwalior-474009(M.P.)\n\r\n\t\t\t\t\t\t\t+91-9568145600, +91-8979380626, +9412353140\n\r\n\t\t\t\t\t\t\t15/05/2019\n\r\n\t\t\t\t\t\t\tIndore\n\r\n\t\t\t\t\t\t\t103, Sukhmani Apartment, 5 Vishnupuri Colony, A.B. Road, Above Union Bank, Bhawarkuan, Indore-452001( M.P.)\n\r\n\t\t\t\t\t\t\t\u00a0+91-9412159467, +91-9760079135\n\r\n\t\t\t\t\t\t\t15/05/2019\n\r\n\t\t\t\t\t\t\tShivpuri\n\r\n\t\t\t\t\t\t\tHotel Shivam Paradise Seth Estate Near Vishnu Mandir, Sidheshwar road Shivpuri\u00a0 -473551(M.P.)\n\r\n\t\t\t\t\t\t\t+91-8755447139, +919926215890\n\r\n\t\t\t\t\t\t\t15/05/2019\n\r\n\t\t\t\t\t\t\tRajasthan\n\r\n\t\t\t\t\t\t\tAlwar\n\r\n\t\t\t\t\t\t\tShop No. G-16 Wonder Mall Alwar\u00a0 (Raj)-301001\n\r\n\t\t\t\t\t\t\t+91-7357286900,+91-8955391416\n\r\n\t\t\t\t\t\t\t15/05/2019\n\r\n\t\t\t\t\t\t\tBharatpur\n\r\n\t\t\t\t\t\t\tInfront of Hanuman Mandir, Suraj pole Chauraha, circular road, Bharatpur - 321001 (Raj.)\n\r\n\t\t\t\t\t\t\t+91-6376645030, +91-9672002340\n\r\n\t\t\t\t\t\t\t01/05/2019\n\r\n\t\t\t\t\t\t\tDholpur\n\r\n\t\t\t\t\t\t\tHotel Gaurav, Hospital Road, Near Kotwali, Dholpur - 328001 (Raj.)\n\r\n\t\t\t\t\t\t\t+91-7727979427, +91-8273093425\n\r\n\t\t\t\t\t\t\t15/05/2019\n\r\n\t\t\t\t\t\t\tUttaranchal\n\r\n\t\t\t\t\t\t\tDehradun\n\r\n\t\t\t\t\t\t\tB 34, IInd Floor, Meedo Plaza, Bhel Chowk, Rajpur Road, Dehradun, -248001(U.K.)\n\r\n\t\t\t\t\t\t\t+91-7060001917, +91-7302008809, +91-9761608809\n\r\n\t\t\t\t\t\t\t15/05/2019\n\r\n\t\t\t\t\t\t\tUttar Pradesh\n\r\n\t\t\t\t\t\t\tAgra\n\r\n\t\t\t\t\t\t\t8 A/M, 808-A 1st Floor, Near Khandari Crossing, Near Sagar Ratna Hotel NH-2, Agra, -282002(U.P.)\n\r\n\t\t\t\t\t\t\t+91-9927584178, +91-7900389707\n\r\n\t\t\t\t\t\t\t1/04/2019\n\r\n\t\t\t\t\t\t\tAligarh\n\r\n\t\t\t\t\t\t\tMahajan Plaza, III Floor, Near Minakshi Fly over Ram ghat Aligarh-202001(U.P.)\n\r\n\t\t\t\t\t\t\t+91-9084301580, +91-9084301565\n\r\n\t\t\t\t\t\t\t01/04/2019\n\r\n\t\t\t\t\t\t\tMathura\n\r\n\t\t\t\t\t\t\t17km stone, NH-2, Mathura-Delhi road p.o. Chaumuhan, Mathura-281 406 (u.p.) India\n\r\n\t\t\t\t\t\t\t8937099911, 6399020004, 6399020005\n\r\n\t\t\t\t\t\t\t01/04/2019\n\r\n\t\t\t\t\t\t\tAllahabad\n\r\n\t\t\t\t\t\t\tHotel Tepso (Beside\u00a0 Coffe House) 123/27 A Mahatma Gandhi Marg Civil Lines Allahabad-211001(U.P.)\n\r\n\t\t\t\t\t\t\t8917885320, 9519776497, 9412179002\n\r\n\t\t\t\t\t\t\t15/05/2019\n\r\n\t\t\t\t\t\t\tBanda\n\r\n\t\t\t\t\t\t\tHotel Gurudev Palace Civil Line Banda-210001(U.P.)\n\r\n\t\t\t\t\t\t\t+91-9456009465, +91-8171089585, +91-8171866111\n\r\n\t\t\t\t\t\t\t15/05/2019\n\r\n\t\t\t\t\t\t\tBareilly\n\r\n\t\t\t\t\t\t\t148 Civil Lines, Second Floor TLC Building, Opposite ADM(E) Residence, Near Mandakini Hotel, Bareilly-243001(U.P.)\n\r\n\t\t\t\t\t\t\t+91-9568236377, +91-8954084897\n\r\n\t\t\t\t\t\t\t15/05/2019\n\r\n\t\t\t\t\t\t\tBasti\n\r\n\t\t\t\t\t\t\tRoom No 107, Hotel NR Group, Opposite Govt. Inter College Ground Gandhinagar Road, Dist- Basti U.P. 272001\n\r\n\t\t\t\t\t\t\t+91-8175074551,+91-8795453727\n\r\n\t\t\t\t\t\t\t15/05/2019\n\r\n\t\t\t\t\t\t\tBulandshahr\n\r\n\t\t\t\t\t\t\tNear PNB Bank, Opposite Raj Darbar Hotel, D.M.Colony Road, Bulandshahr-203001 (U.P)\n\r\n\t\t\t\t\t\t\t+91-7302068771, +91-7302068742\n\r\n\t\t\t\t\t\t\t15/05/2019\n\r\n\t\t\t\t\t\t\tEtah\n\r\n\t\t\t\t\t\t\t127, Aruna Nagar, Railway Road, Etah - 207001 (U.P.)\n\r\n\t\t\t\t\t\t\t+91-7900542260, +91-8923300590\n\r\n\t\t\t\t\t\t\t12/05/2019\n\r\n\t\t\t\t\t\t\tEtawah\n\r\n\t\t\t\t\t\t\tNIMACT Campus, 15, Civil Lines, Near Dr. Sanjeev Yadav (DMC Hospital), Etawah \u2013 206001(U.P.)\n\r\n\t\t\t\t\t\t\t+91-7518228095\n\r\n\t\t\t\t\t\t\t15/05/2019\n\r\n\t\t\t\t\t\t\tFirozabad\n\r\n\t\t\t\t\t\t\tD-16, IS Plaza, Near Yes Bank, Station Road, Firozabad-283203(U.P.)\n\r\n\t\t\t\t\t\t\t+91-7452821342, +91-8057258075\n\r\n\t\t\t\t\t\t\t15/05/2019\n\r\n\t\t\t\t\t\t\tGorakhpur\n\r\n\t\t\t\t\t\t\tIst Floor Shop No.4, Cross Road The Mall, Bank Road Gorakhpur-273001(U.P.)\n\r\n\t\t\t\t\t\t\t+91-8077716159,+91-6396211328\n\r\n\t\t\t\t\t\t\t15/05/2019\n\r\n\t\t\t\t\t\t\tHathras\n\r\n\t\t\t\t\t\t\tII Floor, Near Agra Hospital, Vasudev Nagar, Agra Road, Hathras-282006(U.P.)\n\r\n\t\t\t\t\t\t\t+91-7060238189, +91-9568255917\n\r\n\t\t\t\t\t\t\t01/05/2019\n\r\n\t\t\t\t\t\t\tJhansi\n\r\n\t\t\t\t\t\t\tHotel Yatrik, Elite Crossing, Janki Puram, Civil Lines, Jhansi - 284001 (U.P.)\n\r\n\t\t\t\t\t\t\t+91-7500446622, +91-8979669911\n\r\n\t\t\t\t\t\t\t15/05/2019\n\r\n\t\t\t\t\t\t\tKanpur\n\r\n\t\t\t\t\t\t\t117/N/88, Kakadeo, Deoki Talkies Lane, Opposite CCD, Kanpur - 208025(U.P.)\n\r\n\t\t\t\t\t\t\t+91-8009509191, +91-9506035005\n\r\n\t\t\t\t\t\t\t15/05/2019\n\r\n\t\t\t\t\t\t\tKasganj\n\r\n\t\t\t\t\t\t\tNear Axis Bank, Laxmiganj, Kasganj- 207123(U.P.)\n\r\n\t\t\t\t\t\t\t+91-8006044401, +91-7037119023\n\r\n\t\t\t\t\t\t\t15/05/2019\n\r\n\t\t\t\t\t\t\tLucknow\n\r\n\t\t\t\t\t\t\t1st Floor, A-Block, Suraj Deep Complex, Near Dainik Jagran Chauraha,1 Jopling Road Lucknow-226001(U.P.)\n\r\n\t\t\t\t\t\t\t+91-8737070303, +91-7081252359\n\r\n\t\t\t\t\t\t\t15/05/2019\n\r\n\t\t\t\t\t\t\tMainpuri\n\r\n\t\t\t\t\t\t\tKrishna Marriage Hall, Near IDBI Bank, Station Road, Manipuri-205001(U.P.)\n\r\n\t\t\t\t\t\t\t+91-7037839960\n\r\n\t\t\t\t\t\t\t15/05/2019\n\r\n\t\t\t\t\t\t\tMeerut\n\r\n\t\t\t\t\t\t\t347/1, Ground Floor, Prem G Plaza, Western Kutchery Road, Near Bombay Paint House, Meerut City, Meerut - 250001 (UP)\n\r\n\t\t\t\t\t\t\t+91-7060239364, +91-7060239335\n\r\n\t\t\t\t\t\t\t5/05/2019\n\r\n\t\t\t\t\t\t\tMoradabad\n\r\n\t\t\t\t\t\t\tNosegay Senior Secondary School, Madhubani Colony, Kanth Road, Near 23rd Btn. P.A.C., Moradabad-244001(UP)\n\r\n\t\t\t\t\t\t\t+91-6399122005, +91-6399122006\n\r\n\t\t\t\t\t\t\t14/05/2019\n\r\n\t\t\t\t\t\t\tMuzaffarnagar\n\r\n\t\t\t\t\t\t\t35/22/3, M.G. Complex, Near Liberty & Action Showroom, Lane No. 2, Sadar Bazar, Muzaffarnagar- 251001(U.P.)\n\r\n\t\t\t\t\t\t\t+91-8868963310, +91-8868823310\n\r\n\t\t\t\t\t\t\t15/05/2019\n\r\n\t\t\t\t\t\t\tNoida\n\r\n\t\t\t\t\t\t\tH 50, Sector \u2013 63, Noida- 201307(U.P.)\n\r\n\t\t\t\t\t\t\t+91-9560800670, +91-7428841918\n\r\n\t\t\t\t\t\t\t15/05/2019\n\r\n\t\t\t\t\t\t\tOrai\n\r\n\t\t\t\t\t\t\tHotel Sunrise, 1684, Patel Nagar (Near Kalpi Bus Stand), ORAI- 285001, Distt. Jalaun (UP)\n\r\n\t\t\t\t\t\t\t+91-9452683498, +91-8171633514, +91-8171630011\n\r\n\t\t\t\t\t\t\t15/05/2019\n\r\n\t\t\t\t\t\t\tSitapur\n\r\n\t\t\t\t\t\t\tHotel Apple, Opposite Sitapur Junction (Cantt Station), Avas Vikas Colony, Sitapur-261001\n\r\n\t\t\t\t\t\t\t+91-8737070202, +91-7081251886\n\r\n\t\t\t\t\t\t\t15/05/2019\n\r\n\t\t\t\t\t\t\tVaranasi\n\r\n\t\t\t\t\t\t\tShop No. 5, 3rd Floor, Kuber Complex (Mall), Rathyatra Chauraha, Singra Varanasi,\u00a0 221010(U.P.)\n\r\n\t\t\t\t\t\t\t+91-6399288635, +91-9084301609\n\r\n\t\t\t\t\t\t\t01/05/2019\n"
                }
            ], 
            "execution_count": 6
        }, 
        {
            "source": "for row in table.findAll('tr'):\n    for cell in row.findAll('td'):\n        print(cell.text.replace('&nbsp;','')) #&nbsp is html code for non-breaking space", 
            "cell_type": "code", 
            "metadata": {}, 
            "outputs": [
                {
                    "output_type": "stream", 
                    "name": "stdout", 
                    "text": "\r\n\t\t\t\t\t\t\tBihar\n\r\n\t\t\t\t\t\t\tBhagalpur\n\r\n\t\t\t\t\t\t\tHotel Rajhans International, Kachari Chowk , M.G Road, Bhagalpur - 812001(Bihar)\n\r\n\t\t\t\t\t\t\t+91-8171128356, +918449431935\n\r\n\t\t\t\t\t\t\t20/05/2019\n\r\n\t\t\t\t\t\t\tMuzaffarpur\n\r\n\t\t\t\t\t\t\tHotel Urmila International,Maripur Main Road, Near Maripur Railway Overbridge, Muzaffarpur, Bihar-842001,\n\r\n\t\t\t\t\t\t\t+91-9473455001, +91-7250365002\n\r\n\t\t\t\t\t\t\t15/05/2019\n\r\n\t\t\t\t\t\t\tPatna\n\r\n\t\t\t\t\t\t\tShop No- L M - 7, Dumraon Palace, Fraser Road, Patna-1\n\r\n\t\t\t\t\t\t\t\u00a085349 07971,\u00a095576 07724\n\r\n\t\t\t\t\t\t\t17/05/2019\n\r\n\t\t\t\t\t\t\tSasaram\n\r\n\t\t\t\t\t\t\tHotal Natraj International, Old G. T. Road (Near Model Thana), Beside Fazalganj Gas Agency, Sasaram(Rohtas), Bihar-821115,\n\r\n\t\t\t\t\t\t\t+91-9431866244, +91-9128057373\n\r\n\t\t\t\t\t\t\t25/05/2019\n\r\n\t\t\t\t\t\t\tHaryana\n\r\n\t\t\t\t\t\t\tFaridabad\n\r\n\t\t\t\t\t\t\tShop No. SB-14 Second Floor, Crown Plaza, Sector 15A, Mathura Road, Faridabad-121007(H.R.)\n\r\n\t\t\t\t\t\t\t+91-9643957318 +91-8130971422\n\r\n\t\t\t\t\t\t\t15/05/2019\n\r\n\t\t\t\t\t\t\tJharkhand\n\r\n\t\t\t\t\t\t\tRanchi\n\r\n\t\t\t\t\t\t\tFirst Floor, Avinash Complex, Opposite Dr Amit Mukherjee, East Jail Road,Lalpur, Ranchi-834001(J.K.)\n\r\n\t\t\t\t\t\t\t+91-8084394307, 9117639430\n\r\n\t\t\t\t\t\t\t15/05/2019\n\r\n\t\t\t\t\t\t\tMadhya Pradesh\n\r\n\t\t\t\t\t\t\tBhopal\n\r\n\t\t\t\t\t\t\t170, IIFT Campus, Beside Allahabad Bank, Near Sargam Cinema, Zone II M.P Nagar Bhopal-462011(M.P.)\n\r\n\t\t\t\t\t\t\t+91-8474901787, +91-7060772531\n\r\n\t\t\t\t\t\t\t15/05/2019\n\r\n\t\t\t\t\t\t\tGwalior\n\r\n\t\t\t\t\t\t\tShop No. 38, Rajiv Plaza Jayendraganj Lashkar Gwalior-474009(M.P.)\n\r\n\t\t\t\t\t\t\t+91-9568145600, +91-8979380626, +9412353140\n\r\n\t\t\t\t\t\t\t15/05/2019\n\r\n\t\t\t\t\t\t\tIndore\n\r\n\t\t\t\t\t\t\t103, Sukhmani Apartment, 5 Vishnupuri Colony, A.B. Road, Above Union Bank, Bhawarkuan, Indore-452001( M.P.)\n\r\n\t\t\t\t\t\t\t\u00a0+91-9412159467, +91-9760079135\n\r\n\t\t\t\t\t\t\t15/05/2019\n\r\n\t\t\t\t\t\t\tShivpuri\n\r\n\t\t\t\t\t\t\tHotel Shivam Paradise Seth Estate Near Vishnu Mandir, Sidheshwar road Shivpuri\u00a0 -473551(M.P.)\n\r\n\t\t\t\t\t\t\t+91-8755447139, +919926215890\n\r\n\t\t\t\t\t\t\t15/05/2019\n\r\n\t\t\t\t\t\t\tRajasthan\n\r\n\t\t\t\t\t\t\tAlwar\n\r\n\t\t\t\t\t\t\tShop No. G-16 Wonder Mall Alwar\u00a0 (Raj)-301001\n\r\n\t\t\t\t\t\t\t+91-7357286900,+91-8955391416\n\r\n\t\t\t\t\t\t\t15/05/2019\n\r\n\t\t\t\t\t\t\tBharatpur\n\r\n\t\t\t\t\t\t\tInfront of Hanuman Mandir, Suraj pole Chauraha, circular road, Bharatpur - 321001 (Raj.)\n\r\n\t\t\t\t\t\t\t+91-6376645030, +91-9672002340\n\r\n\t\t\t\t\t\t\t01/05/2019\n\r\n\t\t\t\t\t\t\tDholpur\n\r\n\t\t\t\t\t\t\tHotel Gaurav, Hospital Road, Near Kotwali, Dholpur - 328001 (Raj.)\n\r\n\t\t\t\t\t\t\t+91-7727979427, +91-8273093425\n\r\n\t\t\t\t\t\t\t15/05/2019\n\r\n\t\t\t\t\t\t\tUttaranchal\n\r\n\t\t\t\t\t\t\tDehradun\n\r\n\t\t\t\t\t\t\tB 34, IInd Floor, Meedo Plaza, Bhel Chowk, Rajpur Road, Dehradun, -248001(U.K.)\n\r\n\t\t\t\t\t\t\t+91-7060001917, +91-7302008809, +91-9761608809\n\r\n\t\t\t\t\t\t\t15/05/2019\n\r\n\t\t\t\t\t\t\tUttar Pradesh\n\r\n\t\t\t\t\t\t\tAgra\n\r\n\t\t\t\t\t\t\t8 A/M, 808-A 1st Floor, Near Khandari Crossing, Near Sagar Ratna Hotel NH-2, Agra, -282002(U.P.)\n\r\n\t\t\t\t\t\t\t+91-9927584178, +91-7900389707\n\r\n\t\t\t\t\t\t\t1/04/2019\n\r\n\t\t\t\t\t\t\tAligarh\n\r\n\t\t\t\t\t\t\tMahajan Plaza, III Floor, Near Minakshi Fly over Ram ghat Aligarh-202001(U.P.)\n\r\n\t\t\t\t\t\t\t+91-9084301580, +91-9084301565\n\r\n\t\t\t\t\t\t\t01/04/2019\n\r\n\t\t\t\t\t\t\tMathura\n\r\n\t\t\t\t\t\t\t17km stone, NH-2, Mathura-Delhi road p.o. Chaumuhan, Mathura-281 406 (u.p.) India\n\r\n\t\t\t\t\t\t\t8937099911, 6399020004, 6399020005\n\r\n\t\t\t\t\t\t\t01/04/2019\n\r\n\t\t\t\t\t\t\tAllahabad\n\r\n\t\t\t\t\t\t\tHotel Tepso (Beside\u00a0 Coffe House) 123/27 A Mahatma Gandhi Marg Civil Lines Allahabad-211001(U.P.)\n\r\n\t\t\t\t\t\t\t8917885320, 9519776497, 9412179002\n\r\n\t\t\t\t\t\t\t15/05/2019\n\r\n\t\t\t\t\t\t\tBanda\n\r\n\t\t\t\t\t\t\tHotel Gurudev Palace Civil Line Banda-210001(U.P.)\n\r\n\t\t\t\t\t\t\t+91-9456009465, +91-8171089585, +91-8171866111\n\r\n\t\t\t\t\t\t\t15/05/2019\n\r\n\t\t\t\t\t\t\tBareilly\n\r\n\t\t\t\t\t\t\t148 Civil Lines, Second Floor TLC Building, Opposite ADM(E) Residence, Near Mandakini Hotel, Bareilly-243001(U.P.)\n\r\n\t\t\t\t\t\t\t+91-9568236377, +91-8954084897\n\r\n\t\t\t\t\t\t\t15/05/2019\n\r\n\t\t\t\t\t\t\tBasti\n\r\n\t\t\t\t\t\t\tRoom No 107, Hotel NR Group, Opposite Govt. Inter College Ground Gandhinagar Road, Dist- Basti U.P. 272001\n\r\n\t\t\t\t\t\t\t+91-8175074551,+91-8795453727\n\r\n\t\t\t\t\t\t\t15/05/2019\n\r\n\t\t\t\t\t\t\tBulandshahr\n\r\n\t\t\t\t\t\t\tNear PNB Bank, Opposite Raj Darbar Hotel, D.M.Colony Road, Bulandshahr-203001 (U.P)\n\r\n\t\t\t\t\t\t\t+91-7302068771, +91-7302068742\n\r\n\t\t\t\t\t\t\t15/05/2019\n\r\n\t\t\t\t\t\t\tEtah\n\r\n\t\t\t\t\t\t\t127, Aruna Nagar, Railway Road, Etah - 207001 (U.P.)\n\r\n\t\t\t\t\t\t\t+91-7900542260, +91-8923300590\n\r\n\t\t\t\t\t\t\t12/05/2019\n\r\n\t\t\t\t\t\t\tEtawah\n\r\n\t\t\t\t\t\t\tNIMACT Campus, 15, Civil Lines, Near Dr. Sanjeev Yadav (DMC Hospital), Etawah \u2013 206001(U.P.)\n\r\n\t\t\t\t\t\t\t+91-7518228095\n\r\n\t\t\t\t\t\t\t15/05/2019\n\r\n\t\t\t\t\t\t\tFirozabad\n\r\n\t\t\t\t\t\t\tD-16, IS Plaza, Near Yes Bank, Station Road, Firozabad-283203(U.P.)\n\r\n\t\t\t\t\t\t\t+91-7452821342, +91-8057258075\n\r\n\t\t\t\t\t\t\t15/05/2019\n\r\n\t\t\t\t\t\t\tGorakhpur\n\r\n\t\t\t\t\t\t\tIst Floor Shop No.4, Cross Road The Mall, Bank Road Gorakhpur-273001(U.P.)\n\r\n\t\t\t\t\t\t\t+91-8077716159,+91-6396211328\n\r\n\t\t\t\t\t\t\t15/05/2019\n\r\n\t\t\t\t\t\t\tHathras\n\r\n\t\t\t\t\t\t\tII Floor, Near Agra Hospital, Vasudev Nagar, Agra Road, Hathras-282006(U.P.)\n\r\n\t\t\t\t\t\t\t+91-7060238189, +91-9568255917\n\r\n\t\t\t\t\t\t\t01/05/2019\n\r\n\t\t\t\t\t\t\tJhansi\n\r\n\t\t\t\t\t\t\tHotel Yatrik, Elite Crossing, Janki Puram, Civil Lines, Jhansi - 284001 (U.P.)\n\r\n\t\t\t\t\t\t\t+91-7500446622, +91-8979669911\n\r\n\t\t\t\t\t\t\t15/05/2019\n\r\n\t\t\t\t\t\t\tKanpur\n\r\n\t\t\t\t\t\t\t117/N/88, Kakadeo, Deoki Talkies Lane, Opposite CCD, Kanpur - 208025(U.P.)\n\r\n\t\t\t\t\t\t\t+91-8009509191, +91-9506035005\n\r\n\t\t\t\t\t\t\t15/05/2019\n\r\n\t\t\t\t\t\t\tKasganj\n\r\n\t\t\t\t\t\t\tNear Axis Bank, Laxmiganj, Kasganj- 207123(U.P.)\n\r\n\t\t\t\t\t\t\t+91-8006044401, +91-7037119023\n\r\n\t\t\t\t\t\t\t15/05/2019\n\r\n\t\t\t\t\t\t\tLucknow\n\r\n\t\t\t\t\t\t\t1st Floor, A-Block, Suraj Deep Complex, Near Dainik Jagran Chauraha,1 Jopling Road Lucknow-226001(U.P.)\n\r\n\t\t\t\t\t\t\t+91-8737070303, +91-7081252359\n\r\n\t\t\t\t\t\t\t15/05/2019\n\r\n\t\t\t\t\t\t\tMainpuri\n\r\n\t\t\t\t\t\t\tKrishna Marriage Hall, Near IDBI Bank, Station Road, Manipuri-205001(U.P.)\n\r\n\t\t\t\t\t\t\t+91-7037839960\n\r\n\t\t\t\t\t\t\t15/05/2019\n\r\n\t\t\t\t\t\t\tMeerut\n\r\n\t\t\t\t\t\t\t347/1, Ground Floor, Prem G Plaza, Western Kutchery Road, Near Bombay Paint House, Meerut City, Meerut - 250001 (UP)\n\r\n\t\t\t\t\t\t\t+91-7060239364, +91-7060239335\n\r\n\t\t\t\t\t\t\t5/05/2019\n\r\n\t\t\t\t\t\t\tMoradabad\n\r\n\t\t\t\t\t\t\tNosegay Senior Secondary School, Madhubani Colony, Kanth Road, Near 23rd Btn. P.A.C., Moradabad-244001(UP)\n\r\n\t\t\t\t\t\t\t+91-6399122005, +91-6399122006\n\r\n\t\t\t\t\t\t\t14/05/2019\n\r\n\t\t\t\t\t\t\tMuzaffarnagar\n\r\n\t\t\t\t\t\t\t35/22/3, M.G. Complex, Near Liberty & Action Showroom, Lane No. 2, Sadar Bazar, Muzaffarnagar- 251001(U.P.)\n\r\n\t\t\t\t\t\t\t+91-8868963310, +91-8868823310\n\r\n\t\t\t\t\t\t\t15/05/2019\n\r\n\t\t\t\t\t\t\tNoida\n\r\n\t\t\t\t\t\t\tH 50, Sector \u2013 63, Noida- 201307(U.P.)\n\r\n\t\t\t\t\t\t\t+91-9560800670, +91-7428841918\n\r\n\t\t\t\t\t\t\t15/05/2019\n\r\n\t\t\t\t\t\t\tOrai\n\r\n\t\t\t\t\t\t\tHotel Sunrise, 1684, Patel Nagar (Near Kalpi Bus Stand), ORAI- 285001, Distt. Jalaun (UP)\n\r\n\t\t\t\t\t\t\t+91-9452683498, +91-8171633514, +91-8171630011\n\r\n\t\t\t\t\t\t\t15/05/2019\n\r\n\t\t\t\t\t\t\tSitapur\n\r\n\t\t\t\t\t\t\tHotel Apple, Opposite Sitapur Junction (Cantt Station), Avas Vikas Colony, Sitapur-261001\n\r\n\t\t\t\t\t\t\t+91-8737070202, +91-7081251886\n\r\n\t\t\t\t\t\t\t15/05/2019\n\r\n\t\t\t\t\t\t\tVaranasi\n\r\n\t\t\t\t\t\t\tShop No. 5, 3rd Floor, Kuber Complex (Mall), Rathyatra Chauraha, Singra Varanasi,\u00a0 221010(U.P.)\n\r\n\t\t\t\t\t\t\t+91-6399288635, +91-9084301609\n\r\n\t\t\t\t\t\t\t01/05/2019\n"
                }
            ], 
            "execution_count": 7
        }, 
        {
            "source": "<h1> # here we replace \\t with nothing ......... !! </h1>", 
            "cell_type": "markdown", 
            "metadata": {}
        }, 
        {
            "source": "for row in table.findAll('tr'):\n    for cell in row.findAll('td'):\n        print(cell.text.replace('\\t','')) # here we replace \\t with nothing ......... !!", 
            "cell_type": "code", 
            "metadata": {}, 
            "outputs": [
                {
                    "output_type": "stream", 
                    "name": "stdout", 
                    "text": "\r\nBihar\n\r\nBhagalpur\n\r\nHotel Rajhans International, Kachari Chowk , M.G Road, Bhagalpur - 812001(Bihar)\n\r\n+91-8171128356, +918449431935\n\r\n20/05/2019\n\r\nMuzaffarpur\n\r\nHotel Urmila International,Maripur Main Road, Near Maripur Railway Overbridge, Muzaffarpur, Bihar-842001,\n\r\n+91-9473455001, +91-7250365002\n\r\n15/05/2019\n\r\nPatna\n\r\nShop No- L M - 7, Dumraon Palace, Fraser Road, Patna-1\n\r\n\u00a085349 07971,\u00a095576 07724\n\r\n17/05/2019\n\r\nSasaram\n\r\nHotal Natraj International, Old G. T. Road (Near Model Thana), Beside Fazalganj Gas Agency, Sasaram(Rohtas), Bihar-821115,\n\r\n+91-9431866244, +91-9128057373\n\r\n25/05/2019\n\r\nHaryana\n\r\nFaridabad\n\r\nShop No. SB-14 Second Floor, Crown Plaza, Sector 15A, Mathura Road, Faridabad-121007(H.R.)\n\r\n+91-9643957318 +91-8130971422\n\r\n15/05/2019\n\r\nJharkhand\n\r\nRanchi\n\r\nFirst Floor, Avinash Complex, Opposite Dr Amit Mukherjee, East Jail Road,Lalpur, Ranchi-834001(J.K.)\n\r\n+91-8084394307, 9117639430\n\r\n15/05/2019\n\r\nMadhya Pradesh\n\r\nBhopal\n\r\n170, IIFT Campus, Beside Allahabad Bank, Near Sargam Cinema, Zone II M.P Nagar Bhopal-462011(M.P.)\n\r\n+91-8474901787, +91-7060772531\n\r\n15/05/2019\n\r\nGwalior\n\r\nShop No. 38, Rajiv Plaza Jayendraganj Lashkar Gwalior-474009(M.P.)\n\r\n+91-9568145600, +91-8979380626, +9412353140\n\r\n15/05/2019\n\r\nIndore\n\r\n103, Sukhmani Apartment, 5 Vishnupuri Colony, A.B. Road, Above Union Bank, Bhawarkuan, Indore-452001( M.P.)\n\r\n\u00a0+91-9412159467, +91-9760079135\n\r\n15/05/2019\n\r\nShivpuri\n\r\nHotel Shivam Paradise Seth Estate Near Vishnu Mandir, Sidheshwar road Shivpuri\u00a0 -473551(M.P.)\n\r\n+91-8755447139, +919926215890\n\r\n15/05/2019\n\r\nRajasthan\n\r\nAlwar\n\r\nShop No. G-16 Wonder Mall Alwar\u00a0 (Raj)-301001\n\r\n+91-7357286900,+91-8955391416\n\r\n15/05/2019\n\r\nBharatpur\n\r\nInfront of Hanuman Mandir, Suraj pole Chauraha, circular road, Bharatpur - 321001 (Raj.)\n\r\n+91-6376645030, +91-9672002340\n\r\n01/05/2019\n\r\nDholpur\n\r\nHotel Gaurav, Hospital Road, Near Kotwali, Dholpur - 328001 (Raj.)\n\r\n+91-7727979427, +91-8273093425\n\r\n15/05/2019\n\r\nUttaranchal\n\r\nDehradun\n\r\nB 34, IInd Floor, Meedo Plaza, Bhel Chowk, Rajpur Road, Dehradun, -248001(U.K.)\n\r\n+91-7060001917, +91-7302008809, +91-9761608809\n\r\n15/05/2019\n\r\nUttar Pradesh\n\r\nAgra\n\r\n8 A/M, 808-A 1st Floor, Near Khandari Crossing, Near Sagar Ratna Hotel NH-2, Agra, -282002(U.P.)\n\r\n+91-9927584178, +91-7900389707\n\r\n1/04/2019\n\r\nAligarh\n\r\nMahajan Plaza, III Floor, Near Minakshi Fly over Ram ghat Aligarh-202001(U.P.)\n\r\n+91-9084301580, +91-9084301565\n\r\n01/04/2019\n\r\nMathura\n\r\n17km stone, NH-2, Mathura-Delhi road p.o. Chaumuhan, Mathura-281 406 (u.p.) India\n\r\n8937099911, 6399020004, 6399020005\n\r\n01/04/2019\n\r\nAllahabad\n\r\nHotel Tepso (Beside\u00a0 Coffe House) 123/27 A Mahatma Gandhi Marg Civil Lines Allahabad-211001(U.P.)\n\r\n8917885320, 9519776497, 9412179002\n\r\n15/05/2019\n\r\nBanda\n\r\nHotel Gurudev Palace Civil Line Banda-210001(U.P.)\n\r\n+91-9456009465, +91-8171089585, +91-8171866111\n\r\n15/05/2019\n\r\nBareilly\n\r\n148 Civil Lines, Second Floor TLC Building, Opposite ADM(E) Residence, Near Mandakini Hotel, Bareilly-243001(U.P.)\n\r\n+91-9568236377, +91-8954084897\n\r\n15/05/2019\n\r\nBasti\n\r\nRoom No 107, Hotel NR Group, Opposite Govt. Inter College Ground Gandhinagar Road, Dist- Basti U.P. 272001\n\r\n+91-8175074551,+91-8795453727\n\r\n15/05/2019\n\r\nBulandshahr\n\r\nNear PNB Bank, Opposite Raj Darbar Hotel, D.M.Colony Road, Bulandshahr-203001 (U.P)\n\r\n+91-7302068771, +91-7302068742\n\r\n15/05/2019\n\r\nEtah\n\r\n127, Aruna Nagar, Railway Road, Etah - 207001 (U.P.)\n\r\n+91-7900542260, +91-8923300590\n\r\n12/05/2019\n\r\nEtawah\n\r\nNIMACT Campus, 15, Civil Lines, Near Dr. Sanjeev Yadav (DMC Hospital), Etawah \u2013 206001(U.P.)\n\r\n+91-7518228095\n\r\n15/05/2019\n\r\nFirozabad\n\r\nD-16, IS Plaza, Near Yes Bank, Station Road, Firozabad-283203(U.P.)\n\r\n+91-7452821342, +91-8057258075\n\r\n15/05/2019\n\r\nGorakhpur\n\r\nIst Floor Shop No.4, Cross Road The Mall, Bank Road Gorakhpur-273001(U.P.)\n\r\n+91-8077716159,+91-6396211328\n\r\n15/05/2019\n\r\nHathras\n\r\nII Floor, Near Agra Hospital, Vasudev Nagar, Agra Road, Hathras-282006(U.P.)\n\r\n+91-7060238189, +91-9568255917\n\r\n01/05/2019\n\r\nJhansi\n\r\nHotel Yatrik, Elite Crossing, Janki Puram, Civil Lines, Jhansi - 284001 (U.P.)\n\r\n+91-7500446622, +91-8979669911\n\r\n15/05/2019\n\r\nKanpur\n\r\n117/N/88, Kakadeo, Deoki Talkies Lane, Opposite CCD, Kanpur - 208025(U.P.)\n\r\n+91-8009509191, +91-9506035005\n\r\n15/05/2019\n\r\nKasganj\n\r\nNear Axis Bank, Laxmiganj, Kasganj- 207123(U.P.)\n\r\n+91-8006044401, +91-7037119023\n\r\n15/05/2019\n\r\nLucknow\n\r\n1st Floor, A-Block, Suraj Deep Complex, Near Dainik Jagran Chauraha,1 Jopling Road Lucknow-226001(U.P.)\n\r\n+91-8737070303, +91-7081252359\n\r\n15/05/2019\n\r\nMainpuri\n\r\nKrishna Marriage Hall, Near IDBI Bank, Station Road, Manipuri-205001(U.P.)\n\r\n+91-7037839960\n\r\n15/05/2019\n\r\nMeerut\n\r\n347/1, Ground Floor, Prem G Plaza, Western Kutchery Road, Near Bombay Paint House, Meerut City, Meerut - 250001 (UP)\n\r\n+91-7060239364, +91-7060239335\n\r\n5/05/2019\n\r\nMoradabad\n\r\nNosegay Senior Secondary School, Madhubani Colony, Kanth Road, Near 23rd Btn. P.A.C., Moradabad-244001(UP)\n\r\n+91-6399122005, +91-6399122006\n\r\n14/05/2019\n\r\nMuzaffarnagar\n\r\n35/22/3, M.G. Complex, Near Liberty & Action Showroom, Lane No. 2, Sadar Bazar, Muzaffarnagar- 251001(U.P.)\n\r\n+91-8868963310, +91-8868823310\n\r\n15/05/2019\n\r\nNoida\n\r\nH 50, Sector \u2013 63, Noida- 201307(U.P.)\n\r\n+91-9560800670, +91-7428841918\n\r\n15/05/2019\n\r\nOrai\n\r\nHotel Sunrise, 1684, Patel Nagar (Near Kalpi Bus Stand), ORAI- 285001, Distt. Jalaun (UP)\n\r\n+91-9452683498, +91-8171633514, +91-8171630011\n\r\n15/05/2019\n\r\nSitapur\n\r\nHotel Apple, Opposite Sitapur Junction (Cantt Station), Avas Vikas Colony, Sitapur-261001\n\r\n+91-8737070202, +91-7081251886\n\r\n15/05/2019\n\r\nVaranasi\n\r\nShop No. 5, 3rd Floor, Kuber Complex (Mall), Rathyatra Chauraha, Singra Varanasi,\u00a0 221010(U.P.)\n\r\n+91-6399288635, +91-9084301609\n\r\n01/05/2019\n"
                }
            ], 
            "execution_count": 8
        }, 
        {
            "source": "<h1> using replace method again ... <br> to remove \\n <br> !!!!</h1>", 
            "cell_type": "markdown", 
            "metadata": {}
        }, 
        {
            "source": "for row in table.findAll('tr'):\n    for cell in row.findAll('td'):\n        print(cell.text.replace('\\t','').replace('\\n','')) # here we replace \\t with nothing ......... !!", 
            "cell_type": "code", 
            "metadata": {}, 
            "outputs": [
                {
                    "output_type": "stream", 
                    "name": "stdout", 
                    "text": "\rBihar\n\rBhagalpur\n\rHotel Rajhans International, Kachari Chowk , M.G Road, Bhagalpur - 812001(Bihar)\n\r+91-8171128356, +918449431935\n\r20/05/2019\n\rMuzaffarpur\n\rHotel Urmila International,Maripur Main Road, Near Maripur Railway Overbridge, Muzaffarpur, Bihar-842001,\n\r+91-9473455001, +91-7250365002\n\r15/05/2019\n\rPatna\n\rShop No- L M - 7, Dumraon Palace, Fraser Road, Patna-1\n\r\u00a085349 07971,\u00a095576 07724\n\r17/05/2019\n\rSasaram\n\rHotal Natraj International, Old G. T. Road (Near Model Thana), Beside Fazalganj Gas Agency, Sasaram(Rohtas), Bihar-821115,\n\r+91-9431866244, +91-9128057373\n\r25/05/2019\n\rHaryana\n\rFaridabad\n\rShop No. SB-14 Second Floor, Crown Plaza, Sector 15A, Mathura Road, Faridabad-121007(H.R.)\n\r+91-9643957318 +91-8130971422\n\r15/05/2019\n\rJharkhand\n\rRanchi\n\rFirst Floor, Avinash Complex, Opposite Dr Amit Mukherjee, East Jail Road,Lalpur, Ranchi-834001(J.K.)\n\r+91-8084394307, 9117639430\n\r15/05/2019\n\rMadhya Pradesh\n\rBhopal\n\r170, IIFT Campus, Beside Allahabad Bank, Near Sargam Cinema, Zone II M.P Nagar Bhopal-462011(M.P.)\n\r+91-8474901787, +91-7060772531\n\r15/05/2019\n\rGwalior\n\rShop No. 38, Rajiv Plaza Jayendraganj Lashkar Gwalior-474009(M.P.)\n\r+91-9568145600, +91-8979380626, +9412353140\n\r15/05/2019\n\rIndore\n\r103, Sukhmani Apartment, 5 Vishnupuri Colony, A.B. Road, Above Union Bank, Bhawarkuan, Indore-452001( M.P.)\n\r\u00a0+91-9412159467, +91-9760079135\n\r15/05/2019\n\rShivpuri\n\rHotel Shivam Paradise Seth Estate Near Vishnu Mandir, Sidheshwar road Shivpuri\u00a0 -473551(M.P.)\n\r+91-8755447139, +919926215890\n\r15/05/2019\n\rRajasthan\n\rAlwar\n\rShop No. G-16 Wonder Mall Alwar\u00a0 (Raj)-301001\n\r+91-7357286900,+91-8955391416\n\r15/05/2019\n\rBharatpur\n\rInfront of Hanuman Mandir, Suraj pole Chauraha, circular road, Bharatpur - 321001 (Raj.)\n\r+91-6376645030, +91-9672002340\n\r01/05/2019\n\rDholpur\n\rHotel Gaurav, Hospital Road, Near Kotwali, Dholpur - 328001 (Raj.)\n\r+91-7727979427, +91-8273093425\n\r15/05/2019\n\rUttaranchal\n\rDehradun\n\rB 34, IInd Floor, Meedo Plaza, Bhel Chowk, Rajpur Road, Dehradun, -248001(U.K.)\n\r+91-7060001917, +91-7302008809, +91-9761608809\n\r15/05/2019\n\rUttar Pradesh\n\rAgra\n\r8 A/M, 808-A 1st Floor, Near Khandari Crossing, Near Sagar Ratna Hotel NH-2, Agra, -282002(U.P.)\n\r+91-9927584178, +91-7900389707\n\r1/04/2019\n\rAligarh\n\rMahajan Plaza, III Floor, Near Minakshi Fly over Ram ghat Aligarh-202001(U.P.)\n\r+91-9084301580, +91-9084301565\n\r01/04/2019\n\rMathura\n\r17km stone, NH-2, Mathura-Delhi road p.o. Chaumuhan, Mathura-281 406 (u.p.) India\n\r8937099911, 6399020004, 6399020005\n\r01/04/2019\n\rAllahabad\n\rHotel Tepso (Beside\u00a0 Coffe House) 123/27 A Mahatma Gandhi Marg Civil Lines Allahabad-211001(U.P.)\n\r8917885320, 9519776497, 9412179002\n\r15/05/2019\n\rBanda\n\rHotel Gurudev Palace Civil Line Banda-210001(U.P.)\n\r+91-9456009465, +91-8171089585, +91-8171866111\n\r15/05/2019\n\rBareilly\n\r148 Civil Lines, Second Floor TLC Building, Opposite ADM(E) Residence, Near Mandakini Hotel, Bareilly-243001(U.P.)\n\r+91-9568236377, +91-8954084897\n\r15/05/2019\n\rBasti\n\rRoom No 107, Hotel NR Group, Opposite Govt. Inter College Ground Gandhinagar Road, Dist- Basti U.P. 272001\n\r+91-8175074551,+91-8795453727\n\r15/05/2019\n\rBulandshahr\n\rNear PNB Bank, Opposite Raj Darbar Hotel, D.M.Colony Road, Bulandshahr-203001 (U.P)\n\r+91-7302068771, +91-7302068742\n\r15/05/2019\n\rEtah\n\r127, Aruna Nagar, Railway Road, Etah - 207001 (U.P.)\n\r+91-7900542260, +91-8923300590\n\r12/05/2019\n\rEtawah\n\rNIMACT Campus, 15, Civil Lines, Near Dr. Sanjeev Yadav (DMC Hospital), Etawah \u2013 206001(U.P.)\n\r+91-7518228095\n\r15/05/2019\n\rFirozabad\n\rD-16, IS Plaza, Near Yes Bank, Station Road, Firozabad-283203(U.P.)\n\r+91-7452821342, +91-8057258075\n\r15/05/2019\n\rGorakhpur\n\rIst Floor Shop No.4, Cross Road The Mall, Bank Road Gorakhpur-273001(U.P.)\n\r+91-8077716159,+91-6396211328\n\r15/05/2019\n\rHathras\n\rII Floor, Near Agra Hospital, Vasudev Nagar, Agra Road, Hathras-282006(U.P.)\n\r+91-7060238189, +91-9568255917\n\r01/05/2019\n\rJhansi\n\rHotel Yatrik, Elite Crossing, Janki Puram, Civil Lines, Jhansi - 284001 (U.P.)\n\r+91-7500446622, +91-8979669911\n\r15/05/2019\n\rKanpur\n\r117/N/88, Kakadeo, Deoki Talkies Lane, Opposite CCD, Kanpur - 208025(U.P.)\n\r+91-8009509191, +91-9506035005\n\r15/05/2019\n\rKasganj\n\rNear Axis Bank, Laxmiganj, Kasganj- 207123(U.P.)\n\r+91-8006044401, +91-7037119023\n\r15/05/2019\n\rLucknow\n\r1st Floor, A-Block, Suraj Deep Complex, Near Dainik Jagran Chauraha,1 Jopling Road Lucknow-226001(U.P.)\n\r+91-8737070303, +91-7081252359\n\r15/05/2019\n\rMainpuri\n\rKrishna Marriage Hall, Near IDBI Bank, Station Road, Manipuri-205001(U.P.)\n\r+91-7037839960\n\r15/05/2019\n\rMeerut\n\r347/1, Ground Floor, Prem G Plaza, Western Kutchery Road, Near Bombay Paint House, Meerut City, Meerut - 250001 (UP)\n\r+91-7060239364, +91-7060239335\n\r5/05/2019\n\rMoradabad\n\rNosegay Senior Secondary School, Madhubani Colony, Kanth Road, Near 23rd Btn. P.A.C., Moradabad-244001(UP)\n\r+91-6399122005, +91-6399122006\n\r14/05/2019\n\rMuzaffarnagar\n\r35/22/3, M.G. Complex, Near Liberty & Action Showroom, Lane No. 2, Sadar Bazar, Muzaffarnagar- 251001(U.P.)\n\r+91-8868963310, +91-8868823310\n\r15/05/2019\n\rNoida\n\rH 50, Sector \u2013 63, Noida- 201307(U.P.)\n\r+91-9560800670, +91-7428841918\n\r15/05/2019\n\rOrai\n\rHotel Sunrise, 1684, Patel Nagar (Near Kalpi Bus Stand), ORAI- 285001, Distt. Jalaun (UP)\n\r+91-9452683498, +91-8171633514, +91-8171630011\n\r15/05/2019\n\rSitapur\n\rHotel Apple, Opposite Sitapur Junction (Cantt Station), Avas Vikas Colony, Sitapur-261001\n\r+91-8737070202, +91-7081251886\n\r15/05/2019\n\rVaranasi\n\rShop No. 5, 3rd Floor, Kuber Complex (Mall), Rathyatra Chauraha, Singra Varanasi,\u00a0 221010(U.P.)\n\r+91-6399288635, +91-9084301609\n\r01/05/2019\n"
                }
            ], 
            "execution_count": 9
        }, 
        {
            "source": " <h1> <font color = \"red\">it worked !!!!!!!!!! </font> <font color = \"#0e0ef2\" > <br> but there is still \\r so we will remove it now </font> </h1>", 
            "cell_type": "markdown", 
            "metadata": {}
        }, 
        {
            "source": "for row in table.findAll('tr'):\n    for cell in row.findAll('td'):\n        print(cell.text.replace('\\t','').replace('\\n','').replace('\\r','')) # here we replace \\t with nothing ......... !!", 
            "cell_type": "code", 
            "metadata": {}, 
            "outputs": [
                {
                    "output_type": "stream", 
                    "name": "stdout", 
                    "text": "Bihar\nBhagalpur\nHotel Rajhans International, Kachari Chowk , M.G Road, Bhagalpur - 812001(Bihar)\n+91-8171128356, +918449431935\n20/05/2019\nMuzaffarpur\nHotel Urmila International,Maripur Main Road, Near Maripur Railway Overbridge, Muzaffarpur, Bihar-842001,\n+91-9473455001, +91-7250365002\n15/05/2019\nPatna\nShop No- L M - 7, Dumraon Palace, Fraser Road, Patna-1\n\u00a085349 07971,\u00a095576 07724\n17/05/2019\nSasaram\nHotal Natraj International, Old G. T. Road (Near Model Thana), Beside Fazalganj Gas Agency, Sasaram(Rohtas), Bihar-821115,\n+91-9431866244, +91-9128057373\n25/05/2019\nHaryana\nFaridabad\nShop No. SB-14 Second Floor, Crown Plaza, Sector 15A, Mathura Road, Faridabad-121007(H.R.)\n+91-9643957318 +91-8130971422\n15/05/2019\nJharkhand\nRanchi\nFirst Floor, Avinash Complex, Opposite Dr Amit Mukherjee, East Jail Road,Lalpur, Ranchi-834001(J.K.)\n+91-8084394307, 9117639430\n15/05/2019\nMadhya Pradesh\nBhopal\n170, IIFT Campus, Beside Allahabad Bank, Near Sargam Cinema, Zone II M.P Nagar Bhopal-462011(M.P.)\n+91-8474901787, +91-7060772531\n15/05/2019\nGwalior\nShop No. 38, Rajiv Plaza Jayendraganj Lashkar Gwalior-474009(M.P.)\n+91-9568145600, +91-8979380626, +9412353140\n15/05/2019\nIndore\n103, Sukhmani Apartment, 5 Vishnupuri Colony, A.B. Road, Above Union Bank, Bhawarkuan, Indore-452001( M.P.)\n\u00a0+91-9412159467, +91-9760079135\n15/05/2019\nShivpuri\nHotel Shivam Paradise Seth Estate Near Vishnu Mandir, Sidheshwar road Shivpuri\u00a0 -473551(M.P.)\n+91-8755447139, +919926215890\n15/05/2019\nRajasthan\nAlwar\nShop No. G-16 Wonder Mall Alwar\u00a0 (Raj)-301001\n+91-7357286900,+91-8955391416\n15/05/2019\nBharatpur\nInfront of Hanuman Mandir, Suraj pole Chauraha, circular road, Bharatpur - 321001 (Raj.)\n+91-6376645030, +91-9672002340\n01/05/2019\nDholpur\nHotel Gaurav, Hospital Road, Near Kotwali, Dholpur - 328001 (Raj.)\n+91-7727979427, +91-8273093425\n15/05/2019\nUttaranchal\nDehradun\nB 34, IInd Floor, Meedo Plaza, Bhel Chowk, Rajpur Road, Dehradun, -248001(U.K.)\n+91-7060001917, +91-7302008809, +91-9761608809\n15/05/2019\nUttar Pradesh\nAgra\n8 A/M, 808-A 1st Floor, Near Khandari Crossing, Near Sagar Ratna Hotel NH-2, Agra, -282002(U.P.)\n+91-9927584178, +91-7900389707\n1/04/2019\nAligarh\nMahajan Plaza, III Floor, Near Minakshi Fly over Ram ghat Aligarh-202001(U.P.)\n+91-9084301580, +91-9084301565\n01/04/2019\nMathura\n17km stone, NH-2, Mathura-Delhi road p.o. Chaumuhan, Mathura-281 406 (u.p.) India\n8937099911, 6399020004, 6399020005\n01/04/2019\nAllahabad\nHotel Tepso (Beside\u00a0 Coffe House) 123/27 A Mahatma Gandhi Marg Civil Lines Allahabad-211001(U.P.)\n8917885320, 9519776497, 9412179002\n15/05/2019\nBanda\nHotel Gurudev Palace Civil Line Banda-210001(U.P.)\n+91-9456009465, +91-8171089585, +91-8171866111\n15/05/2019\nBareilly\n148 Civil Lines, Second Floor TLC Building, Opposite ADM(E) Residence, Near Mandakini Hotel, Bareilly-243001(U.P.)\n+91-9568236377, +91-8954084897\n15/05/2019\nBasti\nRoom No 107, Hotel NR Group, Opposite Govt. Inter College Ground Gandhinagar Road, Dist- Basti U.P. 272001\n+91-8175074551,+91-8795453727\n15/05/2019\nBulandshahr\nNear PNB Bank, Opposite Raj Darbar Hotel, D.M.Colony Road, Bulandshahr-203001 (U.P)\n+91-7302068771, +91-7302068742\n15/05/2019\nEtah\n127, Aruna Nagar, Railway Road, Etah - 207001 (U.P.)\n+91-7900542260, +91-8923300590\n12/05/2019\nEtawah\nNIMACT Campus, 15, Civil Lines, Near Dr. Sanjeev Yadav (DMC Hospital), Etawah \u2013 206001(U.P.)\n+91-7518228095\n15/05/2019\nFirozabad\nD-16, IS Plaza, Near Yes Bank, Station Road, Firozabad-283203(U.P.)\n+91-7452821342, +91-8057258075\n15/05/2019\nGorakhpur\nIst Floor Shop No.4, Cross Road The Mall, Bank Road Gorakhpur-273001(U.P.)\n+91-8077716159,+91-6396211328\n15/05/2019\nHathras\nII Floor, Near Agra Hospital, Vasudev Nagar, Agra Road, Hathras-282006(U.P.)\n+91-7060238189, +91-9568255917\n01/05/2019\nJhansi\nHotel Yatrik, Elite Crossing, Janki Puram, Civil Lines, Jhansi - 284001 (U.P.)\n+91-7500446622, +91-8979669911\n15/05/2019\nKanpur\n117/N/88, Kakadeo, Deoki Talkies Lane, Opposite CCD, Kanpur - 208025(U.P.)\n+91-8009509191, +91-9506035005\n15/05/2019\nKasganj\nNear Axis Bank, Laxmiganj, Kasganj- 207123(U.P.)\n+91-8006044401, +91-7037119023\n15/05/2019\nLucknow\n1st Floor, A-Block, Suraj Deep Complex, Near Dainik Jagran Chauraha,1 Jopling Road Lucknow-226001(U.P.)\n+91-8737070303, +91-7081252359\n15/05/2019\nMainpuri\nKrishna Marriage Hall, Near IDBI Bank, Station Road, Manipuri-205001(U.P.)\n+91-7037839960\n15/05/2019\nMeerut\n347/1, Ground Floor, Prem G Plaza, Western Kutchery Road, Near Bombay Paint House, Meerut City, Meerut - 250001 (UP)\n+91-7060239364, +91-7060239335\n5/05/2019\nMoradabad\nNosegay Senior Secondary School, Madhubani Colony, Kanth Road, Near 23rd Btn. P.A.C., Moradabad-244001(UP)\n+91-6399122005, +91-6399122006\n14/05/2019\nMuzaffarnagar\n35/22/3, M.G. Complex, Near Liberty & Action Showroom, Lane No. 2, Sadar Bazar, Muzaffarnagar- 251001(U.P.)\n+91-8868963310, +91-8868823310\n15/05/2019\nNoida\nH 50, Sector \u2013 63, Noida- 201307(U.P.)\n+91-9560800670, +91-7428841918\n15/05/2019\nOrai\nHotel Sunrise, 1684, Patel Nagar (Near Kalpi Bus Stand), ORAI- 285001, Distt. Jalaun (UP)\n+91-9452683498, +91-8171633514, +91-8171630011\n15/05/2019\nSitapur\nHotel Apple, Opposite Sitapur Junction (Cantt Station), Avas Vikas Colony, Sitapur-261001\n+91-8737070202, +91-7081251886\n15/05/2019\nVaranasi\nShop No. 5, 3rd Floor, Kuber Complex (Mall), Rathyatra Chauraha, Singra Varanasi,\u00a0 221010(U.P.)\n+91-6399288635, +91-9084301609\n01/05/2019\n"
                }
            ], 
            "execution_count": 10
        }, 
        {
            "source": "### now we have our required data ......  !!!!!!!!!!!!!!!!!!!!!!!!! <br> in the correct format !!!!! </br>", 
            "cell_type": "markdown", 
            "metadata": {}
        }, 
        {
            "source": "# <font color = \"#f112ee\"> now we will append all data into list </font>", 
            "cell_type": "markdown", 
            "metadata": {}
        }, 
        {
            "source": "listrow1 = []\nfor row in table.findAll('tr'):\n    listcell1 = []\n    for cell in row.findAll('td'):\n        text = cell.text.replace('\\t','').replace('\\n','').replace('\\r','')\n        listcell1.append(text)\n    listrow1.append(listcell1)", 
            "cell_type": "code", 
            "metadata": {}, 
            "outputs": [], 
            "execution_count": 11
        }, 
        {
            "source": "print(type(listcell1))\nprint(type(listrow1))", 
            "cell_type": "code", 
            "metadata": {}, 
            "outputs": [
                {
                    "output_type": "stream", 
                    "name": "stdout", 
                    "text": "<class 'list'>\n<class 'list'>\n"
                }
            ], 
            "execution_count": 12
        }, 
        {
            "source": "# now well will see our list", 
            "cell_type": "markdown", 
            "metadata": {}
        }, 
        {
            "source": "print(listrow1)", 
            "cell_type": "code", 
            "metadata": {
                "scrolled": true
            }, 
            "outputs": [
                {
                    "output_type": "stream", 
                    "name": "stdout", 
                    "text": "[[], ['Bihar', 'Bhagalpur', 'Hotel Rajhans International, Kachari Chowk , M.G Road, Bhagalpur - 812001(Bihar)', '+91-8171128356, +918449431935', '20/05/2019'], ['Muzaffarpur', 'Hotel Urmila International,Maripur Main Road, Near Maripur Railway Overbridge, Muzaffarpur, Bihar-842001,', '+91-9473455001, +91-7250365002', '15/05/2019'], ['Patna', 'Shop No- L M - 7, Dumraon Palace, Fraser Road, Patna-1', '\\xa085349 07971,\\xa095576 07724', '17/05/2019'], ['Sasaram', 'Hotal Natraj International, Old G. T. Road (Near Model Thana), Beside Fazalganj Gas Agency, Sasaram(Rohtas), Bihar-821115,', '+91-9431866244, +91-9128057373', '25/05/2019'], ['Haryana', 'Faridabad', 'Shop No. SB-14 Second Floor, Crown Plaza, Sector 15A, Mathura Road, Faridabad-121007(H.R.)', '+91-9643957318 +91-8130971422', '15/05/2019'], ['Jharkhand', 'Ranchi', 'First Floor, Avinash Complex, Opposite Dr Amit Mukherjee, East Jail Road,Lalpur, Ranchi-834001(J.K.)', '+91-8084394307, 9117639430', '15/05/2019'], ['Madhya Pradesh', 'Bhopal', '170, IIFT Campus, Beside Allahabad Bank, Near Sargam Cinema, Zone II M.P Nagar Bhopal-462011(M.P.)', '+91-8474901787, +91-7060772531', '15/05/2019'], ['Gwalior', 'Shop No. 38, Rajiv Plaza Jayendraganj Lashkar Gwalior-474009(M.P.)', '+91-9568145600, +91-8979380626, +9412353140', '15/05/2019'], ['Indore', '103, Sukhmani Apartment, 5 Vishnupuri Colony, A.B. Road, Above Union Bank, Bhawarkuan, Indore-452001( M.P.)', '\\xa0+91-9412159467, +91-9760079135', '15/05/2019'], ['Shivpuri', 'Hotel Shivam Paradise Seth Estate Near Vishnu Mandir, Sidheshwar road Shivpuri\\xa0 -473551(M.P.)', '+91-8755447139, +919926215890', '15/05/2019'], ['Rajasthan', 'Alwar', 'Shop No. G-16 Wonder Mall Alwar\\xa0 (Raj)-301001', '+91-7357286900,+91-8955391416', '15/05/2019'], ['Bharatpur', 'Infront of Hanuman Mandir, Suraj pole Chauraha, circular road, Bharatpur - 321001 (Raj.)', '+91-6376645030, +91-9672002340', '01/05/2019'], ['Dholpur', 'Hotel Gaurav, Hospital Road, Near Kotwali, Dholpur - 328001 (Raj.)', '+91-7727979427, +91-8273093425', '15/05/2019'], ['Uttaranchal', 'Dehradun', 'B 34, IInd Floor, Meedo Plaza, Bhel Chowk, Rajpur Road, Dehradun, -248001(U.K.)', '+91-7060001917, +91-7302008809, +91-9761608809', '15/05/2019'], ['Uttar Pradesh', 'Agra', '8 A/M, 808-A 1st Floor, Near Khandari Crossing, Near Sagar Ratna Hotel NH-2, Agra, -282002(U.P.)', '+91-9927584178, +91-7900389707', '1/04/2019'], ['Aligarh', 'Mahajan Plaza, III Floor, Near Minakshi Fly over Ram ghat Aligarh-202001(U.P.)', '+91-9084301580, +91-9084301565', '01/04/2019'], ['Mathura', '17km stone, NH-2, Mathura-Delhi road p.o. Chaumuhan, Mathura-281 406 (u.p.) India', '8937099911, 6399020004, 6399020005', '01/04/2019'], ['Allahabad', 'Hotel Tepso (Beside\\xa0 Coffe House) 123/27 A Mahatma Gandhi Marg Civil Lines Allahabad-211001(U.P.)', '8917885320, 9519776497, 9412179002', '15/05/2019'], ['Banda', 'Hotel Gurudev Palace Civil Line Banda-210001(U.P.)', '+91-9456009465, +91-8171089585, +91-8171866111', '15/05/2019'], ['Bareilly', '148 Civil Lines, Second Floor TLC Building, Opposite ADM(E) Residence, Near Mandakini Hotel, Bareilly-243001(U.P.)', '+91-9568236377, +91-8954084897', '15/05/2019'], ['Basti', 'Room No 107, Hotel NR Group, Opposite Govt. Inter College Ground Gandhinagar Road, Dist- Basti U.P. 272001', '+91-8175074551,+91-8795453727', '15/05/2019'], ['Bulandshahr', 'Near PNB Bank, Opposite Raj Darbar Hotel, D.M.Colony Road, Bulandshahr-203001 (U.P)', '+91-7302068771, +91-7302068742', '15/05/2019'], ['Etah', '127, Aruna Nagar, Railway Road, Etah - 207001 (U.P.)', '+91-7900542260, +91-8923300590', '12/05/2019'], ['Etawah', 'NIMACT Campus, 15, Civil Lines, Near Dr. Sanjeev Yadav (DMC Hospital), Etawah \u2013 206001(U.P.)', '+91-7518228095', '15/05/2019'], ['Firozabad', 'D-16, IS Plaza, Near Yes Bank, Station Road, Firozabad-283203(U.P.)', '+91-7452821342, +91-8057258075', '15/05/2019'], ['Gorakhpur', 'Ist Floor Shop No.4, Cross Road The Mall, Bank Road Gorakhpur-273001(U.P.)', '+91-8077716159,+91-6396211328', '15/05/2019'], ['Hathras', 'II Floor, Near Agra Hospital, Vasudev Nagar, Agra Road, Hathras-282006(U.P.)', '+91-7060238189, +91-9568255917', '01/05/2019'], ['Jhansi', 'Hotel Yatrik, Elite Crossing, Janki Puram, Civil Lines, Jhansi - 284001 (U.P.)', '+91-7500446622, +91-8979669911', '15/05/2019'], ['Kanpur', '117/N/88, Kakadeo, Deoki Talkies Lane, Opposite CCD, Kanpur - 208025(U.P.)', '+91-8009509191, +91-9506035005', '15/05/2019'], ['Kasganj', 'Near Axis Bank, Laxmiganj, Kasganj- 207123(U.P.)', '+91-8006044401, +91-7037119023', '15/05/2019'], ['Lucknow', '1st Floor, A-Block, Suraj Deep Complex, Near Dainik Jagran Chauraha,1 Jopling Road Lucknow-226001(U.P.)', '+91-8737070303, +91-7081252359', '15/05/2019'], ['Mainpuri', 'Krishna Marriage Hall, Near IDBI Bank, Station Road, Manipuri-205001(U.P.)', '+91-7037839960', '15/05/2019'], ['Meerut', '347/1, Ground Floor, Prem G Plaza, Western Kutchery Road, Near Bombay Paint House, Meerut City, Meerut - 250001 (UP)', '+91-7060239364, +91-7060239335', '5/05/2019'], ['Moradabad', 'Nosegay Senior Secondary School, Madhubani Colony, Kanth Road, Near 23rd Btn. P.A.C., Moradabad-244001(UP)', '+91-6399122005, +91-6399122006', '14/05/2019'], ['Muzaffarnagar', '35/22/3, M.G. Complex, Near Liberty & Action Showroom, Lane No. 2, Sadar Bazar, Muzaffarnagar- 251001(U.P.)', '+91-8868963310, +91-8868823310', '15/05/2019'], ['Noida', 'H 50, Sector \u2013 63, Noida- 201307(U.P.)', '+91-9560800670, +91-7428841918', '15/05/2019'], ['Orai', 'Hotel Sunrise, 1684, Patel Nagar (Near Kalpi Bus Stand), ORAI- 285001, Distt. Jalaun (UP)', '+91-9452683498, +91-8171633514, +91-8171630011', '15/05/2019'], ['Sitapur', 'Hotel Apple, Opposite Sitapur Junction (Cantt Station), Avas Vikas Colony, Sitapur-261001', '+91-8737070202, +91-7081251886', '15/05/2019'], ['Varanasi', 'Shop No. 5, 3rd Floor, Kuber Complex (Mall), Rathyatra Chauraha, Singra Varanasi,\\xa0 221010(U.P.)', '+91-6399288635, +91-9084301609', '01/05/2019']]\n"
                }
            ], 
            "execution_count": 13
        }, 
        {
            "source": "## it has five elements just like the table has 5 elements \n# <font color =\"#1feef1\" > yay !!!!!! <br> it worked", 
            "cell_type": "markdown", 
            "metadata": {}
        }, 
        {
            "source": "#  first row is : ", 
            "cell_type": "markdown", 
            "metadata": {}
        }, 
        {
            "source": "print(listrow1[0])", 
            "cell_type": "code", 
            "metadata": {}, 
            "outputs": [
                {
                    "output_type": "stream", 
                    "name": "stdout", 
                    "text": "[]\n"
                }
            ], 
            "execution_count": 14
        }, 
        {
            "source": "# creating another list and saving the created list into it ------  a copy of it ...... ", 
            "cell_type": "markdown", 
            "metadata": {}
        }, 
        {
            "source": "listrow2 = list()", 
            "cell_type": "code", 
            "metadata": {}, 
            "outputs": [], 
            "execution_count": 15
        }, 
        {
            "source": "print(listrow2)", 
            "cell_type": "code", 
            "metadata": {}, 
            "outputs": [
                {
                    "output_type": "stream", 
                    "name": "stdout", 
                    "text": "[]\n"
                }
            ], 
            "execution_count": 16
        }, 
        {
            "source": "listrow2 = listrow1", 
            "cell_type": "code", 
            "metadata": {}, 
            "outputs": [], 
            "execution_count": 17
        }, 
        {
            "source": "print(listrow2)", 
            "cell_type": "code", 
            "metadata": {
                "scrolled": true
            }, 
            "outputs": [
                {
                    "output_type": "stream", 
                    "name": "stdout", 
                    "text": "[[], ['Bihar', 'Bhagalpur', 'Hotel Rajhans International, Kachari Chowk , M.G Road, Bhagalpur - 812001(Bihar)', '+91-8171128356, +918449431935', '20/05/2019'], ['Muzaffarpur', 'Hotel Urmila International,Maripur Main Road, Near Maripur Railway Overbridge, Muzaffarpur, Bihar-842001,', '+91-9473455001, +91-7250365002', '15/05/2019'], ['Patna', 'Shop No- L M - 7, Dumraon Palace, Fraser Road, Patna-1', '\\xa085349 07971,\\xa095576 07724', '17/05/2019'], ['Sasaram', 'Hotal Natraj International, Old G. T. Road (Near Model Thana), Beside Fazalganj Gas Agency, Sasaram(Rohtas), Bihar-821115,', '+91-9431866244, +91-9128057373', '25/05/2019'], ['Haryana', 'Faridabad', 'Shop No. SB-14 Second Floor, Crown Plaza, Sector 15A, Mathura Road, Faridabad-121007(H.R.)', '+91-9643957318 +91-8130971422', '15/05/2019'], ['Jharkhand', 'Ranchi', 'First Floor, Avinash Complex, Opposite Dr Amit Mukherjee, East Jail Road,Lalpur, Ranchi-834001(J.K.)', '+91-8084394307, 9117639430', '15/05/2019'], ['Madhya Pradesh', 'Bhopal', '170, IIFT Campus, Beside Allahabad Bank, Near Sargam Cinema, Zone II M.P Nagar Bhopal-462011(M.P.)', '+91-8474901787, +91-7060772531', '15/05/2019'], ['Gwalior', 'Shop No. 38, Rajiv Plaza Jayendraganj Lashkar Gwalior-474009(M.P.)', '+91-9568145600, +91-8979380626, +9412353140', '15/05/2019'], ['Indore', '103, Sukhmani Apartment, 5 Vishnupuri Colony, A.B. Road, Above Union Bank, Bhawarkuan, Indore-452001( M.P.)', '\\xa0+91-9412159467, +91-9760079135', '15/05/2019'], ['Shivpuri', 'Hotel Shivam Paradise Seth Estate Near Vishnu Mandir, Sidheshwar road Shivpuri\\xa0 -473551(M.P.)', '+91-8755447139, +919926215890', '15/05/2019'], ['Rajasthan', 'Alwar', 'Shop No. G-16 Wonder Mall Alwar\\xa0 (Raj)-301001', '+91-7357286900,+91-8955391416', '15/05/2019'], ['Bharatpur', 'Infront of Hanuman Mandir, Suraj pole Chauraha, circular road, Bharatpur - 321001 (Raj.)', '+91-6376645030, +91-9672002340', '01/05/2019'], ['Dholpur', 'Hotel Gaurav, Hospital Road, Near Kotwali, Dholpur - 328001 (Raj.)', '+91-7727979427, +91-8273093425', '15/05/2019'], ['Uttaranchal', 'Dehradun', 'B 34, IInd Floor, Meedo Plaza, Bhel Chowk, Rajpur Road, Dehradun, -248001(U.K.)', '+91-7060001917, +91-7302008809, +91-9761608809', '15/05/2019'], ['Uttar Pradesh', 'Agra', '8 A/M, 808-A 1st Floor, Near Khandari Crossing, Near Sagar Ratna Hotel NH-2, Agra, -282002(U.P.)', '+91-9927584178, +91-7900389707', '1/04/2019'], ['Aligarh', 'Mahajan Plaza, III Floor, Near Minakshi Fly over Ram ghat Aligarh-202001(U.P.)', '+91-9084301580, +91-9084301565', '01/04/2019'], ['Mathura', '17km stone, NH-2, Mathura-Delhi road p.o. Chaumuhan, Mathura-281 406 (u.p.) India', '8937099911, 6399020004, 6399020005', '01/04/2019'], ['Allahabad', 'Hotel Tepso (Beside\\xa0 Coffe House) 123/27 A Mahatma Gandhi Marg Civil Lines Allahabad-211001(U.P.)', '8917885320, 9519776497, 9412179002', '15/05/2019'], ['Banda', 'Hotel Gurudev Palace Civil Line Banda-210001(U.P.)', '+91-9456009465, +91-8171089585, +91-8171866111', '15/05/2019'], ['Bareilly', '148 Civil Lines, Second Floor TLC Building, Opposite ADM(E) Residence, Near Mandakini Hotel, Bareilly-243001(U.P.)', '+91-9568236377, +91-8954084897', '15/05/2019'], ['Basti', 'Room No 107, Hotel NR Group, Opposite Govt. Inter College Ground Gandhinagar Road, Dist- Basti U.P. 272001', '+91-8175074551,+91-8795453727', '15/05/2019'], ['Bulandshahr', 'Near PNB Bank, Opposite Raj Darbar Hotel, D.M.Colony Road, Bulandshahr-203001 (U.P)', '+91-7302068771, +91-7302068742', '15/05/2019'], ['Etah', '127, Aruna Nagar, Railway Road, Etah - 207001 (U.P.)', '+91-7900542260, +91-8923300590', '12/05/2019'], ['Etawah', 'NIMACT Campus, 15, Civil Lines, Near Dr. Sanjeev Yadav (DMC Hospital), Etawah \u2013 206001(U.P.)', '+91-7518228095', '15/05/2019'], ['Firozabad', 'D-16, IS Plaza, Near Yes Bank, Station Road, Firozabad-283203(U.P.)', '+91-7452821342, +91-8057258075', '15/05/2019'], ['Gorakhpur', 'Ist Floor Shop No.4, Cross Road The Mall, Bank Road Gorakhpur-273001(U.P.)', '+91-8077716159,+91-6396211328', '15/05/2019'], ['Hathras', 'II Floor, Near Agra Hospital, Vasudev Nagar, Agra Road, Hathras-282006(U.P.)', '+91-7060238189, +91-9568255917', '01/05/2019'], ['Jhansi', 'Hotel Yatrik, Elite Crossing, Janki Puram, Civil Lines, Jhansi - 284001 (U.P.)', '+91-7500446622, +91-8979669911', '15/05/2019'], ['Kanpur', '117/N/88, Kakadeo, Deoki Talkies Lane, Opposite CCD, Kanpur - 208025(U.P.)', '+91-8009509191, +91-9506035005', '15/05/2019'], ['Kasganj', 'Near Axis Bank, Laxmiganj, Kasganj- 207123(U.P.)', '+91-8006044401, +91-7037119023', '15/05/2019'], ['Lucknow', '1st Floor, A-Block, Suraj Deep Complex, Near Dainik Jagran Chauraha,1 Jopling Road Lucknow-226001(U.P.)', '+91-8737070303, +91-7081252359', '15/05/2019'], ['Mainpuri', 'Krishna Marriage Hall, Near IDBI Bank, Station Road, Manipuri-205001(U.P.)', '+91-7037839960', '15/05/2019'], ['Meerut', '347/1, Ground Floor, Prem G Plaza, Western Kutchery Road, Near Bombay Paint House, Meerut City, Meerut - 250001 (UP)', '+91-7060239364, +91-7060239335', '5/05/2019'], ['Moradabad', 'Nosegay Senior Secondary School, Madhubani Colony, Kanth Road, Near 23rd Btn. P.A.C., Moradabad-244001(UP)', '+91-6399122005, +91-6399122006', '14/05/2019'], ['Muzaffarnagar', '35/22/3, M.G. Complex, Near Liberty & Action Showroom, Lane No. 2, Sadar Bazar, Muzaffarnagar- 251001(U.P.)', '+91-8868963310, +91-8868823310', '15/05/2019'], ['Noida', 'H 50, Sector \u2013 63, Noida- 201307(U.P.)', '+91-9560800670, +91-7428841918', '15/05/2019'], ['Orai', 'Hotel Sunrise, 1684, Patel Nagar (Near Kalpi Bus Stand), ORAI- 285001, Distt. Jalaun (UP)', '+91-9452683498, +91-8171633514, +91-8171630011', '15/05/2019'], ['Sitapur', 'Hotel Apple, Opposite Sitapur Junction (Cantt Station), Avas Vikas Colony, Sitapur-261001', '+91-8737070202, +91-7081251886', '15/05/2019'], ['Varanasi', 'Shop No. 5, 3rd Floor, Kuber Complex (Mall), Rathyatra Chauraha, Singra Varanasi,\\xa0 221010(U.P.)', '+91-6399288635, +91-9084301609', '01/05/2019']]\n"
                }
            ], 
            "execution_count": 18
        }, 
        {
            "source": "## now i'll do further manipulation and let's delete first empty element ..\n ### it is annoying :p ", 
            "cell_type": "markdown", 
            "metadata": {}
        }, 
        {
            "source": "listrow2.pop(0)", 
            "cell_type": "code", 
            "metadata": {}, 
            "outputs": [
                {
                    "output_type": "execute_result", 
                    "data": {
                        "text/plain": "[]"
                    }, 
                    "execution_count": 19, 
                    "metadata": {}
                }
            ], 
            "execution_count": 19
        }, 
        {
            "source": "print(listrow2)", 
            "cell_type": "code", 
            "metadata": {
                "scrolled": true
            }, 
            "outputs": [
                {
                    "output_type": "stream", 
                    "name": "stdout", 
                    "text": "[['Bihar', 'Bhagalpur', 'Hotel Rajhans International, Kachari Chowk , M.G Road, Bhagalpur - 812001(Bihar)', '+91-8171128356, +918449431935', '20/05/2019'], ['Muzaffarpur', 'Hotel Urmila International,Maripur Main Road, Near Maripur Railway Overbridge, Muzaffarpur, Bihar-842001,', '+91-9473455001, +91-7250365002', '15/05/2019'], ['Patna', 'Shop No- L M - 7, Dumraon Palace, Fraser Road, Patna-1', '\\xa085349 07971,\\xa095576 07724', '17/05/2019'], ['Sasaram', 'Hotal Natraj International, Old G. T. Road (Near Model Thana), Beside Fazalganj Gas Agency, Sasaram(Rohtas), Bihar-821115,', '+91-9431866244, +91-9128057373', '25/05/2019'], ['Haryana', 'Faridabad', 'Shop No. SB-14 Second Floor, Crown Plaza, Sector 15A, Mathura Road, Faridabad-121007(H.R.)', '+91-9643957318 +91-8130971422', '15/05/2019'], ['Jharkhand', 'Ranchi', 'First Floor, Avinash Complex, Opposite Dr Amit Mukherjee, East Jail Road,Lalpur, Ranchi-834001(J.K.)', '+91-8084394307, 9117639430', '15/05/2019'], ['Madhya Pradesh', 'Bhopal', '170, IIFT Campus, Beside Allahabad Bank, Near Sargam Cinema, Zone II M.P Nagar Bhopal-462011(M.P.)', '+91-8474901787, +91-7060772531', '15/05/2019'], ['Gwalior', 'Shop No. 38, Rajiv Plaza Jayendraganj Lashkar Gwalior-474009(M.P.)', '+91-9568145600, +91-8979380626, +9412353140', '15/05/2019'], ['Indore', '103, Sukhmani Apartment, 5 Vishnupuri Colony, A.B. Road, Above Union Bank, Bhawarkuan, Indore-452001( M.P.)', '\\xa0+91-9412159467, +91-9760079135', '15/05/2019'], ['Shivpuri', 'Hotel Shivam Paradise Seth Estate Near Vishnu Mandir, Sidheshwar road Shivpuri\\xa0 -473551(M.P.)', '+91-8755447139, +919926215890', '15/05/2019'], ['Rajasthan', 'Alwar', 'Shop No. G-16 Wonder Mall Alwar\\xa0 (Raj)-301001', '+91-7357286900,+91-8955391416', '15/05/2019'], ['Bharatpur', 'Infront of Hanuman Mandir, Suraj pole Chauraha, circular road, Bharatpur - 321001 (Raj.)', '+91-6376645030, +91-9672002340', '01/05/2019'], ['Dholpur', 'Hotel Gaurav, Hospital Road, Near Kotwali, Dholpur - 328001 (Raj.)', '+91-7727979427, +91-8273093425', '15/05/2019'], ['Uttaranchal', 'Dehradun', 'B 34, IInd Floor, Meedo Plaza, Bhel Chowk, Rajpur Road, Dehradun, -248001(U.K.)', '+91-7060001917, +91-7302008809, +91-9761608809', '15/05/2019'], ['Uttar Pradesh', 'Agra', '8 A/M, 808-A 1st Floor, Near Khandari Crossing, Near Sagar Ratna Hotel NH-2, Agra, -282002(U.P.)', '+91-9927584178, +91-7900389707', '1/04/2019'], ['Aligarh', 'Mahajan Plaza, III Floor, Near Minakshi Fly over Ram ghat Aligarh-202001(U.P.)', '+91-9084301580, +91-9084301565', '01/04/2019'], ['Mathura', '17km stone, NH-2, Mathura-Delhi road p.o. Chaumuhan, Mathura-281 406 (u.p.) India', '8937099911, 6399020004, 6399020005', '01/04/2019'], ['Allahabad', 'Hotel Tepso (Beside\\xa0 Coffe House) 123/27 A Mahatma Gandhi Marg Civil Lines Allahabad-211001(U.P.)', '8917885320, 9519776497, 9412179002', '15/05/2019'], ['Banda', 'Hotel Gurudev Palace Civil Line Banda-210001(U.P.)', '+91-9456009465, +91-8171089585, +91-8171866111', '15/05/2019'], ['Bareilly', '148 Civil Lines, Second Floor TLC Building, Opposite ADM(E) Residence, Near Mandakini Hotel, Bareilly-243001(U.P.)', '+91-9568236377, +91-8954084897', '15/05/2019'], ['Basti', 'Room No 107, Hotel NR Group, Opposite Govt. Inter College Ground Gandhinagar Road, Dist- Basti U.P. 272001', '+91-8175074551,+91-8795453727', '15/05/2019'], ['Bulandshahr', 'Near PNB Bank, Opposite Raj Darbar Hotel, D.M.Colony Road, Bulandshahr-203001 (U.P)', '+91-7302068771, +91-7302068742', '15/05/2019'], ['Etah', '127, Aruna Nagar, Railway Road, Etah - 207001 (U.P.)', '+91-7900542260, +91-8923300590', '12/05/2019'], ['Etawah', 'NIMACT Campus, 15, Civil Lines, Near Dr. Sanjeev Yadav (DMC Hospital), Etawah \u2013 206001(U.P.)', '+91-7518228095', '15/05/2019'], ['Firozabad', 'D-16, IS Plaza, Near Yes Bank, Station Road, Firozabad-283203(U.P.)', '+91-7452821342, +91-8057258075', '15/05/2019'], ['Gorakhpur', 'Ist Floor Shop No.4, Cross Road The Mall, Bank Road Gorakhpur-273001(U.P.)', '+91-8077716159,+91-6396211328', '15/05/2019'], ['Hathras', 'II Floor, Near Agra Hospital, Vasudev Nagar, Agra Road, Hathras-282006(U.P.)', '+91-7060238189, +91-9568255917', '01/05/2019'], ['Jhansi', 'Hotel Yatrik, Elite Crossing, Janki Puram, Civil Lines, Jhansi - 284001 (U.P.)', '+91-7500446622, +91-8979669911', '15/05/2019'], ['Kanpur', '117/N/88, Kakadeo, Deoki Talkies Lane, Opposite CCD, Kanpur - 208025(U.P.)', '+91-8009509191, +91-9506035005', '15/05/2019'], ['Kasganj', 'Near Axis Bank, Laxmiganj, Kasganj- 207123(U.P.)', '+91-8006044401, +91-7037119023', '15/05/2019'], ['Lucknow', '1st Floor, A-Block, Suraj Deep Complex, Near Dainik Jagran Chauraha,1 Jopling Road Lucknow-226001(U.P.)', '+91-8737070303, +91-7081252359', '15/05/2019'], ['Mainpuri', 'Krishna Marriage Hall, Near IDBI Bank, Station Road, Manipuri-205001(U.P.)', '+91-7037839960', '15/05/2019'], ['Meerut', '347/1, Ground Floor, Prem G Plaza, Western Kutchery Road, Near Bombay Paint House, Meerut City, Meerut - 250001 (UP)', '+91-7060239364, +91-7060239335', '5/05/2019'], ['Moradabad', 'Nosegay Senior Secondary School, Madhubani Colony, Kanth Road, Near 23rd Btn. P.A.C., Moradabad-244001(UP)', '+91-6399122005, +91-6399122006', '14/05/2019'], ['Muzaffarnagar', '35/22/3, M.G. Complex, Near Liberty & Action Showroom, Lane No. 2, Sadar Bazar, Muzaffarnagar- 251001(U.P.)', '+91-8868963310, +91-8868823310', '15/05/2019'], ['Noida', 'H 50, Sector \u2013 63, Noida- 201307(U.P.)', '+91-9560800670, +91-7428841918', '15/05/2019'], ['Orai', 'Hotel Sunrise, 1684, Patel Nagar (Near Kalpi Bus Stand), ORAI- 285001, Distt. Jalaun (UP)', '+91-9452683498, +91-8171633514, +91-8171630011', '15/05/2019'], ['Sitapur', 'Hotel Apple, Opposite Sitapur Junction (Cantt Station), Avas Vikas Colony, Sitapur-261001', '+91-8737070202, +91-7081251886', '15/05/2019'], ['Varanasi', 'Shop No. 5, 3rd Floor, Kuber Complex (Mall), Rathyatra Chauraha, Singra Varanasi,\\xa0 221010(U.P.)', '+91-6399288635, +91-9084301609', '01/05/2019']]\n"
                }
            ], 
            "execution_count": 20
        }, 
        {
            "source": "# removed it and it is obvious that lists are nested here ! \n# now let's access elements", 
            "cell_type": "markdown", 
            "metadata": {}
        }, 
        {
            "source": "# now that we have removed the first empty annoying element -------- \n\n\n## our first row is -----------", 
            "cell_type": "markdown", 
            "metadata": {}
        }, 
        {
            "source": "print(listrow2[0])", 
            "cell_type": "code", 
            "metadata": {}, 
            "outputs": [
                {
                    "output_type": "stream", 
                    "name": "stdout", 
                    "text": "['Bihar', 'Bhagalpur', 'Hotel Rajhans International, Kachari Chowk , M.G Road, Bhagalpur - 812001(Bihar)', '+91-8171128356, +918449431935', '20/05/2019']\n"
                }
            ], 
            "execution_count": 21
        }, 
        {
            "source": "## first element is ---", 
            "cell_type": "markdown", 
            "metadata": {}
        }, 
        {
            "source": "print(listrow2[0][0])", 
            "cell_type": "code", 
            "metadata": {}, 
            "outputs": [
                {
                    "output_type": "stream", 
                    "name": "stdout", 
                    "text": "Bihar\n"
                }
            ], 
            "execution_count": 22
        }, 
        {
            "source": "## second element is ---- ", 
            "cell_type": "markdown", 
            "metadata": {}
        }, 
        {
            "source": "print(listrow2[0][1])", 
            "cell_type": "code", 
            "metadata": {}, 
            "outputs": [
                {
                    "output_type": "stream", 
                    "name": "stdout", 
                    "text": "Bhagalpur\n"
                }
            ], 
            "execution_count": 23
        }, 
        {
            "source": "## third element is ---", 
            "cell_type": "markdown", 
            "metadata": {}
        }, 
        {
            "source": "print(listrow2[0][2])", 
            "cell_type": "code", 
            "metadata": {}, 
            "outputs": [
                {
                    "output_type": "stream", 
                    "name": "stdout", 
                    "text": "Hotel Rajhans International, Kachari Chowk , M.G Road, Bhagalpur - 812001(Bihar)\n"
                }
            ], 
            "execution_count": 24
        }, 
        {
            "source": "## fourth element is ---", 
            "cell_type": "markdown", 
            "metadata": {}
        }, 
        {
            "source": "print(listrow2[0][3])", 
            "cell_type": "code", 
            "metadata": {}, 
            "outputs": [
                {
                    "output_type": "stream", 
                    "name": "stdout", 
                    "text": "+91-8171128356, +918449431935\n"
                }
            ], 
            "execution_count": 25
        }, 
        {
            "source": "## fifth element is ---", 
            "cell_type": "markdown", 
            "metadata": {}
        }, 
        {
            "source": "print(listrow2[0][4])", 
            "cell_type": "code", 
            "metadata": {}, 
            "outputs": [
                {
                    "output_type": "stream", 
                    "name": "stdout", 
                    "text": "20/05/2019\n"
                }
            ], 
            "execution_count": 26
        }, 
        {
            "source": "### and since there are now further elements --- upon running next cell we will get an error ", 
            "cell_type": "markdown", 
            "metadata": {}
        }, 
        {
            "source": "#print(listrow2[0][5]) #accessing 6th element ---- there isn't any !  \n\n#i have commented it remove pound sign run again if want to see", 
            "cell_type": "code", 
            "metadata": {}, 
            "outputs": [], 
            "execution_count": 27
        }, 
        {
            "source": "# printing all element of the 1st row using a loop and there type", 
            "cell_type": "markdown", 
            "metadata": {}
        }, 
        {
            "source": "for i in listrow2[0]:\n    print(i,\"----------\",type(i),end='\\n')", 
            "cell_type": "code", 
            "metadata": {}, 
            "outputs": [
                {
                    "output_type": "stream", 
                    "name": "stdout", 
                    "text": "Bihar ---------- <class 'str'>\nBhagalpur ---------- <class 'str'>\nHotel Rajhans International, Kachari Chowk , M.G Road, Bhagalpur - 812001(Bihar) ---------- <class 'str'>\n+91-8171128356, +918449431935 ---------- <class 'str'>\n20/05/2019 ---------- <class 'str'>\n"
                }
            ], 
            "execution_count": 28
        }, 
        {
            "source": "# how many enteries are there ?", 
            "cell_type": "markdown", 
            "metadata": {}
        }, 
        {
            "source": "print(len(listrow2),\"enteries\")", 
            "cell_type": "code", 
            "metadata": {}, 
            "outputs": [], 
            "execution_count": null
        }, 
        {
            "source": "listrow2[0]", 
            "cell_type": "code", 
            "metadata": {}, 
            "outputs": [], 
            "execution_count": null
        }, 
        {
            "source": "listrow2[0][0]", 
            "cell_type": "code", 
            "metadata": {}, 
            "outputs": [], 
            "execution_count": null
        }, 
        {
            "source": "states = list()", 
            "cell_type": "code", 
            "metadata": {}, 
            "outputs": [], 
            "execution_count": null
        }, 
        {
            "source": "print(states)", 
            "cell_type": "code", 
            "metadata": {}, 
            "outputs": [], 
            "execution_count": null
        }, 
        {
            "source": "listrow2", 
            "cell_type": "code", 
            "metadata": {}, 
            "outputs": [], 
            "execution_count": null
        }, 
        {
            "source": "final_list = []\nfor sub_list in listrow2:\n    final_list.append(sub_list[0])", 
            "cell_type": "code", 
            "metadata": {}, 
            "outputs": [], 
            "execution_count": null
        }, 
        {
            "source": "print(final_list)", 
            "cell_type": "code", 
            "metadata": {}, 
            "outputs": [], 
            "execution_count": null
        }, 
        {
            "source": "for i in final_list:\n    print(i,end=' \\n ')", 
            "cell_type": "code", 
            "metadata": {}, 
            "outputs": [], 
            "execution_count": null
        }, 
        {
            "source": "# there is a problem with the table ---------------------------\n ## first entries have 5 elements and rest have 4 ---------- \n \n # first city of state is included in the sta", 
            "cell_type": "markdown", 
            "metadata": {}
        }, 
        {
            "source": "## printing listrow2[1] element", 
            "cell_type": "markdown", 
            "metadata": {}
        }, 
        {
            "source": "print(listrow2[1])", 
            "cell_type": "code", 
            "metadata": {}, 
            "outputs": [
                {
                    "output_type": "stream", 
                    "name": "stdout", 
                    "text": "['Muzaffarpur', 'Hotel Urmila International,Maripur Main Road, Near Maripur Railway Overbridge, Muzaffarpur, Bihar-842001,', '+91-9473455001, +91-7250365002', '15/05/2019']\n"
                }
            ], 
            "execution_count": 29
        }, 
        {
            "source": "## it has 4 elements", 
            "cell_type": "markdown", 
            "metadata": {}
        }, 
        {
            "source": "", 
            "cell_type": "code", 
            "metadata": {}, 
            "outputs": [], 
            "execution_count": null
        }, 
        {
            "source": "", 
            "cell_type": "code", 
            "metadata": {}, 
            "outputs": [], 
            "execution_count": null
        }, 
        {
            "source": "", 
            "cell_type": "code", 
            "metadata": {}, 
            "outputs": [], 
            "execution_count": null
        }, 
        {
            "source": "", 
            "cell_type": "code", 
            "metadata": {}, 
            "outputs": [], 
            "execution_count": null
        }, 
        {
            "source": "", 
            "cell_type": "code", 
            "metadata": {}, 
            "outputs": [], 
            "execution_count": null
        }, 
        {
            "source": "", 
            "cell_type": "code", 
            "metadata": {}, 
            "outputs": [], 
            "execution_count": null
        }, 
        {
            "source": "", 
            "cell_type": "code", 
            "metadata": {}, 
            "outputs": [], 
            "execution_count": null
        }, 
        {
            "source": "", 
            "cell_type": "code", 
            "metadata": {}, 
            "outputs": [], 
            "execution_count": null
        }, 
        {
            "source": "", 
            "cell_type": "code", 
            "metadata": {}, 
            "outputs": [], 
            "execution_count": null
        }, 
        {
            "source": "", 
            "cell_type": "code", 
            "metadata": {}, 
            "outputs": [], 
            "execution_count": null
        }, 
        {
            "source": "", 
            "cell_type": "code", 
            "metadata": {}, 
            "outputs": [], 
            "execution_count": null
        }, 
        {
            "source": "", 
            "cell_type": "code", 
            "metadata": {}, 
            "outputs": [], 
            "execution_count": null
        }, 
        {
            "source": "import re\ns=listrow1[1][0]\ns.translate(str.maketrans('','','\\t\\n'))\n#print(k)", 
            "cell_type": "code", 
            "metadata": {}, 
            "outputs": [], 
            "execution_count": null
        }, 
        {
            "source": "<h1> this worked !!!!!!!!! \n    successfully removed \\t\\n from text \n    </h1>", 
            "cell_type": "markdown", 
            "metadata": {}
        }, 
        {
            "source": "#we will remove \\r now\np = s.translate(str.maketrans('','','\\r\\t\\n'))\nprint(p)\nprint(\"Bihar\") #just to check if the required characters are removed ", 
            "cell_type": "code", 
            "metadata": {}, 
            "outputs": [], 
            "execution_count": null
        }
    ], 
    "metadata": {
        "kernelspec": {
            "display_name": "Python 3.5", 
            "name": "python3", 
            "language": "python"
        }, 
        "language_info": {
            "mimetype": "text/x-python", 
            "nbconvert_exporter": "python", 
            "version": "3.5.5", 
            "name": "python", 
            "pygments_lexer": "ipython3", 
            "file_extension": ".py", 
            "codemirror_mode": {
                "version": 3, 
                "name": "ipython"
            }
        }
    }, 
    "nbformat": 4
}