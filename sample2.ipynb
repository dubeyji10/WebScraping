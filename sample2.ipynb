{
    "nbformat_minor": 1, 
    "cells": [
        {
            "source": "<h1> table parsing </h1>", 
            "cell_type": "markdown", 
            "metadata": {
                "collapsed": true
            }
        }, 
        {
            "source": "import requests\nfrom bs4 import BeautifulSoup as BS", 
            "cell_type": "code", 
            "metadata": {}, 
            "outputs": [], 
            "execution_count": 1
        }, 
        {
            "source": "url = \"http://www.gla.ac.in/admissions/counselling-offices\"\nresponse = requests.get(url)\nhtml = response.content", 
            "cell_type": "code", 
            "metadata": {}, 
            "outputs": [], 
            "execution_count": 2
        }, 
        {
            "source": "soup1 = BS(html,'html.parser')\ntable = soup1.find('tbody')", 
            "cell_type": "code", 
            "metadata": {}, 
            "outputs": [], 
            "execution_count": 3
        }, 
        {
            "source": "import pandas as pd\nimport lxml.html as lh", 
            "cell_type": "code", 
            "metadata": {}, 
            "outputs": [], 
            "execution_count": 4
        }, 
        {
            "source": "doc = lh.fromstring(html)", 
            "cell_type": "code", 
            "metadata": {}, 
            "outputs": [], 
            "execution_count": 5
        }, 
        {
            "source": "tr_elements = doc.xpath('//tr')", 
            "cell_type": "code", 
            "metadata": {}, 
            "outputs": [], 
            "execution_count": 6
        }, 
        {
            "source": "i=1\nfor T in tr_elements:\n    print(i,\"-\",len(T))\n    i+=1", 
            "cell_type": "code", 
            "metadata": {
                "scrolled": true
            }, 
            "outputs": [
                {
                    "output_type": "stream", 
                    "name": "stdout", 
                    "text": "1 - 5\n2 - 5\n3 - 4\n4 - 4\n5 - 4\n6 - 5\n7 - 5\n8 - 5\n9 - 4\n10 - 4\n11 - 4\n12 - 5\n13 - 4\n14 - 4\n15 - 5\n16 - 5\n17 - 4\n18 - 4\n19 - 4\n20 - 4\n21 - 4\n22 - 4\n23 - 4\n24 - 4\n25 - 4\n26 - 4\n27 - 4\n28 - 4\n29 - 4\n30 - 4\n31 - 4\n32 - 4\n33 - 4\n34 - 4\n35 - 4\n36 - 4\n37 - 4\n38 - 4\n39 - 4\n40 - 4\n"
                }
            ], 
            "execution_count": 7
        }, 
        {
            "source": "### 40 rows ... office names to varansi ", 
            "cell_type": "markdown", 
            "metadata": {}
        }, 
        {
            "source": "th_elements = doc.xpath('//th')", 
            "cell_type": "code", 
            "metadata": {}, 
            "outputs": [], 
            "execution_count": 8
        }, 
        {
            "source": "i=1\nfor T in th_elements:\n    T = T.text.replace('\\t','').replace('\\n','').replace('\\r','')\n    print(i,\"-\",len(T),\"-\",T,\"-\",type(T))\n    i+=1", 
            "cell_type": "code", 
            "metadata": {}, 
            "outputs": [
                {
                    "output_type": "stream", 
                    "name": "stdout", 
                    "text": "1 - 5 - State - <class 'str'>\n2 - 11 - Office Name - <class 'str'>\n3 - 7 - Address - <class 'str'>\n4 - 11 - Contact No. - <class 'str'>\n5 - 15 - Date of Opening - <class 'str'>\n"
                }
            ], 
            "execution_count": 9
        }, 
        {
            "source": "#Create empty list\ncol=[]\ni=0\n#For each row, store each first element (header) and an empty list\nfor t in th_elements:\n    i+=1\n    name=t.text.replace('\\t','').replace('\\n','').replace('\\r','')\n    print(\"{:2}.-'{:3}' \".format(i,name)) #refer to formatting output in python\n    col.append((name,[]))", 
            "cell_type": "code", 
            "metadata": {}, 
            "outputs": [
                {
                    "output_type": "stream", 
                    "name": "stdout", 
                    "text": " 1.-'State' \n 2.-'Office Name' \n 3.-'Address' \n 4.-'Contact No.' \n 5.-'Date of Opening' \n"
                }
            ], 
            "execution_count": 10
        }, 
        {
            "source": "print(len(col))", 
            "cell_type": "code", 
            "metadata": {}, 
            "outputs": [
                {
                    "output_type": "stream", 
                    "name": "stdout", 
                    "text": "5\n"
                }
            ], 
            "execution_count": 11
        }, 
        {
            "source": "print(col)", 
            "cell_type": "code", 
            "metadata": {}, 
            "outputs": [
                {
                    "output_type": "stream", 
                    "name": "stdout", 
                    "text": "[('State', []), ('Office Name', []), ('Address', []), ('Contact No.', []), ('Date of Opening', [])]\n"
                }
            ], 
            "execution_count": 12
        }, 
        {
            "source": "list_row = []\nfor row in table.findAll('tr'):\n    listcell1 = []\n    for cell in row.findAll('td'):\n        text = cell.text.replace('\\t','').replace('\\n','').replace('\\r','')\n        listcell1.append(text)\n    list_row.append(listcell1)", 
            "cell_type": "code", 
            "metadata": {}, 
            "outputs": [], 
            "execution_count": 13
        }, 
        {
            "source": "print(list_row)", 
            "cell_type": "code", 
            "metadata": {
                "scrolled": true
            }, 
            "outputs": [
                {
                    "output_type": "stream", 
                    "name": "stdout", 
                    "text": "[[], ['Bihar', 'Bhagalpur', 'Hotel Rajhans International, Kachari Chowk , M.G Road, Bhagalpur - 812001(Bihar)', '+91-8171128356, +918449431935', '20/05/2019'], ['Muzaffarpur', 'Hotel Urmila International,Maripur Main Road, Near Maripur Railway Overbridge, Muzaffarpur, Bihar-842001,', '+91-9473455001, +91-7250365002', '15/05/2019'], ['Patna', 'Shop No- L M - 7, Dumraon Palace, Fraser Road, Patna-1', '\\xa085349 07971,\\xa095576 07724', '17/05/2019'], ['Sasaram', 'Hotal Natraj International, Old G. T. Road (Near Model Thana), Beside Fazalganj Gas Agency, Sasaram(Rohtas), Bihar-821115,', '+91-9431866244, +91-9128057373', '25/05/2019'], ['Haryana', 'Faridabad', 'Shop No. SB-14 Second Floor, Crown Plaza, Sector 15A, Mathura Road, Faridabad-121007(H.R.)', '+91-9643957318 +91-8130971422', '15/05/2019'], ['Jharkhand', 'Ranchi', 'First Floor, Avinash Complex, Opposite Dr Amit Mukherjee, East Jail Road,Lalpur, Ranchi-834001(J.K.)', '+91-8084394307, 9117639430', '15/05/2019'], ['Madhya Pradesh', 'Bhopal', '170, IIFT Campus, Beside Allahabad Bank, Near Sargam Cinema, Zone II M.P Nagar Bhopal-462011(M.P.)', '+91-8474901787, +91-7060772531', '15/05/2019'], ['Gwalior', 'Shop No. 38, Rajiv Plaza Jayendraganj Lashkar Gwalior-474009(M.P.)', '+91-9568145600, +91-8979380626, +9412353140', '15/05/2019'], ['Indore', '103, Sukhmani Apartment, 5 Vishnupuri Colony, A.B. Road, Above Union Bank, Bhawarkuan, Indore-452001( M.P.)', '\\xa0+91-9412159467, +91-9760079135', '15/05/2019'], ['Shivpuri', 'Hotel Shivam Paradise Seth Estate Near Vishnu Mandir, Sidheshwar road Shivpuri\\xa0 -473551(M.P.)', '+91-8755447139, +919926215890', '15/05/2019'], ['Rajasthan', 'Alwar', 'Shop No. G-16 Wonder Mall Alwar\\xa0 (Raj)-301001', '+91-7357286900,+91-8955391416', '15/05/2019'], ['Bharatpur', 'Infront of Hanuman Mandir, Suraj pole Chauraha, circular road, Bharatpur - 321001 (Raj.)', '+91-6376645030, +91-9672002340', '01/05/2019'], ['Dholpur', 'Hotel Gaurav, Hospital Road, Near Kotwali, Dholpur - 328001 (Raj.)', '+91-7727979427, +91-8273093425', '15/05/2019'], ['Uttaranchal', 'Dehradun', 'B 34, IInd Floor, Meedo Plaza, Bhel Chowk, Rajpur Road, Dehradun, -248001(U.K.)', '+91-7060001917, +91-7302008809, +91-9761608809', '15/05/2019'], ['Uttar Pradesh', 'Agra', '8 A/M, 808-A 1st Floor, Near Khandari Crossing, Near Sagar Ratna Hotel NH-2, Agra, -282002(U.P.)', '+91-9927584178, +91-7900389707', '1/04/2019'], ['Aligarh', 'Mahajan Plaza, III Floor, Near Minakshi Fly over Ram ghat Aligarh-202001(U.P.)', '+91-9084301580, +91-9084301565', '01/04/2019'], ['Mathura', '17km stone, NH-2, Mathura-Delhi road p.o. Chaumuhan, Mathura-281 406 (u.p.) India', '8937099911, 6399020004, 6399020005', '01/04/2019'], ['Allahabad', 'Hotel Tepso (Beside\\xa0 Coffe House) 123/27 A Mahatma Gandhi Marg Civil Lines Allahabad-211001(U.P.)', '8917885320, 9519776497, 9412179002', '15/05/2019'], ['Banda', 'Hotel Gurudev Palace Civil Line Banda-210001(U.P.)', '+91-9456009465, +91-8171089585, +91-8171866111', '15/05/2019'], ['Bareilly', '148 Civil Lines, Second Floor TLC Building, Opposite ADM(E) Residence, Near Mandakini Hotel, Bareilly-243001(U.P.)', '+91-9568236377, +91-8954084897', '15/05/2019'], ['Basti', 'Room No 107, Hotel NR Group, Opposite Govt. Inter College Ground Gandhinagar Road, Dist- Basti U.P. 272001', '+91-8175074551,+91-8795453727', '15/05/2019'], ['Bulandshahr', 'Near PNB Bank, Opposite Raj Darbar Hotel, D.M.Colony Road, Bulandshahr-203001 (U.P)', '+91-7302068771, +91-7302068742', '15/05/2019'], ['Etah', '127, Aruna Nagar, Railway Road, Etah - 207001 (U.P.)', '+91-7900542260, +91-8923300590', '12/05/2019'], ['Etawah', 'NIMACT Campus, 15, Civil Lines, Near Dr. Sanjeev Yadav (DMC Hospital), Etawah \u2013 206001(U.P.)', '+91-7518228095', '15/05/2019'], ['Firozabad', 'D-16, IS Plaza, Near Yes Bank, Station Road, Firozabad-283203(U.P.)', '+91-7452821342, +91-8057258075', '15/05/2019'], ['Gorakhpur', 'Ist Floor Shop No.4, Cross Road The Mall, Bank Road Gorakhpur-273001(U.P.)', '+91-8077716159,+91-6396211328', '15/05/2019'], ['Hathras', 'II Floor, Near Agra Hospital, Vasudev Nagar, Agra Road, Hathras-282006(U.P.)', '+91-7060238189, +91-9568255917', '01/05/2019'], ['Jhansi', 'Hotel Yatrik, Elite Crossing, Janki Puram, Civil Lines, Jhansi - 284001 (U.P.)', '+91-7500446622, +91-8979669911', '15/05/2019'], ['Kanpur', '117/N/88, Kakadeo, Deoki Talkies Lane, Opposite CCD, Kanpur - 208025(U.P.)', '+91-8009509191, +91-9506035005', '15/05/2019'], ['Kasganj', 'Near Axis Bank, Laxmiganj, Kasganj- 207123(U.P.)', '+91-8006044401, +91-7037119023', '15/05/2019'], ['Lucknow', '1st Floor, A-Block, Suraj Deep Complex, Near Dainik Jagran Chauraha,1 Jopling Road Lucknow-226001(U.P.)', '+91-8737070303, +91-7081252359', '15/05/2019'], ['Mainpuri', 'Krishna Marriage Hall, Near IDBI Bank, Station Road, Manipuri-205001(U.P.)', '+91-7037839960', '15/05/2019'], ['Meerut', '347/1, Ground Floor, Prem G Plaza, Western Kutchery Road, Near Bombay Paint House, Meerut City, Meerut - 250001 (UP)', '+91-7060239364, +91-7060239335', '5/05/2019'], ['Moradabad', 'Nosegay Senior Secondary School, Madhubani Colony, Kanth Road, Near 23rd Btn. P.A.C., Moradabad-244001(UP)', '+91-6399122005, +91-6399122006', '14/05/2019'], ['Muzaffarnagar', '35/22/3, M.G. Complex, Near Liberty & Action Showroom, Lane No. 2, Sadar Bazar, Muzaffarnagar- 251001(U.P.)', '+91-8868963310, +91-8868823310', '15/05/2019'], ['Noida', 'H 50, Sector \u2013 63, Noida- 201307(U.P.)', '+91-9560800670, +91-7428841918', '15/05/2019'], ['Orai', 'Hotel Sunrise, 1684, Patel Nagar (Near Kalpi Bus Stand), ORAI- 285001, Distt. Jalaun (UP)', '+91-9452683498, +91-8171633514, +91-8171630011', '15/05/2019'], ['Sitapur', 'Hotel Apple, Opposite Sitapur Junction (Cantt Station), Avas Vikas Colony, Sitapur-261001', '+91-8737070202, +91-7081251886', '15/05/2019'], ['Varanasi', 'Shop No. 5, 3rd Floor, Kuber Complex (Mall), Rathyatra Chauraha, Singra Varanasi,\\xa0 221010(U.P.)', '+91-6399288635, +91-9084301609', '01/05/2019']]\n"
                }
            ], 
            "execution_count": 14
        }, 
        {
            "source": "#deleting first empty element", 
            "cell_type": "code", 
            "metadata": {}, 
            "outputs": [], 
            "execution_count": 15
        }, 
        {
            "source": "list_row.pop(0)", 
            "cell_type": "code", 
            "metadata": {}, 
            "outputs": [
                {
                    "output_type": "execute_result", 
                    "data": {
                        "text/plain": "[]"
                    }, 
                    "execution_count": 16, 
                    "metadata": {}
                }
            ], 
            "execution_count": 16
        }, 
        {
            "source": "print(list_row)", 
            "cell_type": "code", 
            "metadata": {
                "scrolled": true
            }, 
            "outputs": [
                {
                    "output_type": "stream", 
                    "name": "stdout", 
                    "text": "[['Bihar', 'Bhagalpur', 'Hotel Rajhans International, Kachari Chowk , M.G Road, Bhagalpur - 812001(Bihar)', '+91-8171128356, +918449431935', '20/05/2019'], ['Muzaffarpur', 'Hotel Urmila International,Maripur Main Road, Near Maripur Railway Overbridge, Muzaffarpur, Bihar-842001,', '+91-9473455001, +91-7250365002', '15/05/2019'], ['Patna', 'Shop No- L M - 7, Dumraon Palace, Fraser Road, Patna-1', '\\xa085349 07971,\\xa095576 07724', '17/05/2019'], ['Sasaram', 'Hotal Natraj International, Old G. T. Road (Near Model Thana), Beside Fazalganj Gas Agency, Sasaram(Rohtas), Bihar-821115,', '+91-9431866244, +91-9128057373', '25/05/2019'], ['Haryana', 'Faridabad', 'Shop No. SB-14 Second Floor, Crown Plaza, Sector 15A, Mathura Road, Faridabad-121007(H.R.)', '+91-9643957318 +91-8130971422', '15/05/2019'], ['Jharkhand', 'Ranchi', 'First Floor, Avinash Complex, Opposite Dr Amit Mukherjee, East Jail Road,Lalpur, Ranchi-834001(J.K.)', '+91-8084394307, 9117639430', '15/05/2019'], ['Madhya Pradesh', 'Bhopal', '170, IIFT Campus, Beside Allahabad Bank, Near Sargam Cinema, Zone II M.P Nagar Bhopal-462011(M.P.)', '+91-8474901787, +91-7060772531', '15/05/2019'], ['Gwalior', 'Shop No. 38, Rajiv Plaza Jayendraganj Lashkar Gwalior-474009(M.P.)', '+91-9568145600, +91-8979380626, +9412353140', '15/05/2019'], ['Indore', '103, Sukhmani Apartment, 5 Vishnupuri Colony, A.B. Road, Above Union Bank, Bhawarkuan, Indore-452001( M.P.)', '\\xa0+91-9412159467, +91-9760079135', '15/05/2019'], ['Shivpuri', 'Hotel Shivam Paradise Seth Estate Near Vishnu Mandir, Sidheshwar road Shivpuri\\xa0 -473551(M.P.)', '+91-8755447139, +919926215890', '15/05/2019'], ['Rajasthan', 'Alwar', 'Shop No. G-16 Wonder Mall Alwar\\xa0 (Raj)-301001', '+91-7357286900,+91-8955391416', '15/05/2019'], ['Bharatpur', 'Infront of Hanuman Mandir, Suraj pole Chauraha, circular road, Bharatpur - 321001 (Raj.)', '+91-6376645030, +91-9672002340', '01/05/2019'], ['Dholpur', 'Hotel Gaurav, Hospital Road, Near Kotwali, Dholpur - 328001 (Raj.)', '+91-7727979427, +91-8273093425', '15/05/2019'], ['Uttaranchal', 'Dehradun', 'B 34, IInd Floor, Meedo Plaza, Bhel Chowk, Rajpur Road, Dehradun, -248001(U.K.)', '+91-7060001917, +91-7302008809, +91-9761608809', '15/05/2019'], ['Uttar Pradesh', 'Agra', '8 A/M, 808-A 1st Floor, Near Khandari Crossing, Near Sagar Ratna Hotel NH-2, Agra, -282002(U.P.)', '+91-9927584178, +91-7900389707', '1/04/2019'], ['Aligarh', 'Mahajan Plaza, III Floor, Near Minakshi Fly over Ram ghat Aligarh-202001(U.P.)', '+91-9084301580, +91-9084301565', '01/04/2019'], ['Mathura', '17km stone, NH-2, Mathura-Delhi road p.o. Chaumuhan, Mathura-281 406 (u.p.) India', '8937099911, 6399020004, 6399020005', '01/04/2019'], ['Allahabad', 'Hotel Tepso (Beside\\xa0 Coffe House) 123/27 A Mahatma Gandhi Marg Civil Lines Allahabad-211001(U.P.)', '8917885320, 9519776497, 9412179002', '15/05/2019'], ['Banda', 'Hotel Gurudev Palace Civil Line Banda-210001(U.P.)', '+91-9456009465, +91-8171089585, +91-8171866111', '15/05/2019'], ['Bareilly', '148 Civil Lines, Second Floor TLC Building, Opposite ADM(E) Residence, Near Mandakini Hotel, Bareilly-243001(U.P.)', '+91-9568236377, +91-8954084897', '15/05/2019'], ['Basti', 'Room No 107, Hotel NR Group, Opposite Govt. Inter College Ground Gandhinagar Road, Dist- Basti U.P. 272001', '+91-8175074551,+91-8795453727', '15/05/2019'], ['Bulandshahr', 'Near PNB Bank, Opposite Raj Darbar Hotel, D.M.Colony Road, Bulandshahr-203001 (U.P)', '+91-7302068771, +91-7302068742', '15/05/2019'], ['Etah', '127, Aruna Nagar, Railway Road, Etah - 207001 (U.P.)', '+91-7900542260, +91-8923300590', '12/05/2019'], ['Etawah', 'NIMACT Campus, 15, Civil Lines, Near Dr. Sanjeev Yadav (DMC Hospital), Etawah \u2013 206001(U.P.)', '+91-7518228095', '15/05/2019'], ['Firozabad', 'D-16, IS Plaza, Near Yes Bank, Station Road, Firozabad-283203(U.P.)', '+91-7452821342, +91-8057258075', '15/05/2019'], ['Gorakhpur', 'Ist Floor Shop No.4, Cross Road The Mall, Bank Road Gorakhpur-273001(U.P.)', '+91-8077716159,+91-6396211328', '15/05/2019'], ['Hathras', 'II Floor, Near Agra Hospital, Vasudev Nagar, Agra Road, Hathras-282006(U.P.)', '+91-7060238189, +91-9568255917', '01/05/2019'], ['Jhansi', 'Hotel Yatrik, Elite Crossing, Janki Puram, Civil Lines, Jhansi - 284001 (U.P.)', '+91-7500446622, +91-8979669911', '15/05/2019'], ['Kanpur', '117/N/88, Kakadeo, Deoki Talkies Lane, Opposite CCD, Kanpur - 208025(U.P.)', '+91-8009509191, +91-9506035005', '15/05/2019'], ['Kasganj', 'Near Axis Bank, Laxmiganj, Kasganj- 207123(U.P.)', '+91-8006044401, +91-7037119023', '15/05/2019'], ['Lucknow', '1st Floor, A-Block, Suraj Deep Complex, Near Dainik Jagran Chauraha,1 Jopling Road Lucknow-226001(U.P.)', '+91-8737070303, +91-7081252359', '15/05/2019'], ['Mainpuri', 'Krishna Marriage Hall, Near IDBI Bank, Station Road, Manipuri-205001(U.P.)', '+91-7037839960', '15/05/2019'], ['Meerut', '347/1, Ground Floor, Prem G Plaza, Western Kutchery Road, Near Bombay Paint House, Meerut City, Meerut - 250001 (UP)', '+91-7060239364, +91-7060239335', '5/05/2019'], ['Moradabad', 'Nosegay Senior Secondary School, Madhubani Colony, Kanth Road, Near 23rd Btn. P.A.C., Moradabad-244001(UP)', '+91-6399122005, +91-6399122006', '14/05/2019'], ['Muzaffarnagar', '35/22/3, M.G. Complex, Near Liberty & Action Showroom, Lane No. 2, Sadar Bazar, Muzaffarnagar- 251001(U.P.)', '+91-8868963310, +91-8868823310', '15/05/2019'], ['Noida', 'H 50, Sector \u2013 63, Noida- 201307(U.P.)', '+91-9560800670, +91-7428841918', '15/05/2019'], ['Orai', 'Hotel Sunrise, 1684, Patel Nagar (Near Kalpi Bus Stand), ORAI- 285001, Distt. Jalaun (UP)', '+91-9452683498, +91-8171633514, +91-8171630011', '15/05/2019'], ['Sitapur', 'Hotel Apple, Opposite Sitapur Junction (Cantt Station), Avas Vikas Colony, Sitapur-261001', '+91-8737070202, +91-7081251886', '15/05/2019'], ['Varanasi', 'Shop No. 5, 3rd Floor, Kuber Complex (Mall), Rathyatra Chauraha, Singra Varanasi,\\xa0 221010(U.P.)', '+91-6399288635, +91-9084301609', '01/05/2019']]\n"
                }
            ], 
            "execution_count": 17
        }, 
        {
            "source": "states = []\ncities = []\naddress = []\ncontact = []\ndate = []\nfor sub_list in list_row:\n    if(len(sub_list)==5):\n        states.append(sub_list[0])\n        cities.append(sub_list[1])\n        address.append(sub_list[2])\n        contact.append(sub_list[3])\n        date.append(sub_list[4])\n    else:\n        cities.append(sub_list[0])\n        address.append(sub_list[1])\n        contact.append(sub_list[2])\n        date.append(sub_list[3])", 
            "cell_type": "code", 
            "metadata": {}, 
            "outputs": [], 
            "execution_count": 20
        }, 
        {
            "source": "print(states)", 
            "cell_type": "code", 
            "metadata": {}, 
            "outputs": [
                {
                    "output_type": "stream", 
                    "name": "stdout", 
                    "text": "['Bihar', 'Haryana', 'Jharkhand', 'Madhya Pradesh', 'Rajasthan', 'Uttaranchal', 'Uttar Pradesh']\n"
                }
            ], 
            "execution_count": 21
        }, 
        {
            "source": "print(cities)", 
            "cell_type": "code", 
            "metadata": {}, 
            "outputs": [
                {
                    "output_type": "stream", 
                    "name": "stdout", 
                    "text": "['Bhagalpur', 'Muzaffarpur', 'Patna', 'Sasaram', 'Faridabad', 'Ranchi', 'Bhopal', 'Gwalior', 'Indore', 'Shivpuri', 'Alwar', 'Bharatpur', 'Dholpur', 'Dehradun', 'Agra', 'Aligarh', 'Mathura', 'Allahabad', 'Banda', 'Bareilly', 'Basti', 'Bulandshahr', 'Etah', 'Etawah', 'Firozabad', 'Gorakhpur', 'Hathras', 'Jhansi', 'Kanpur', 'Kasganj', 'Lucknow', 'Mainpuri', 'Meerut', 'Moradabad', 'Muzaffarnagar', 'Noida', 'Orai', 'Sitapur', 'Varanasi']\n"
                }
            ], 
            "execution_count": 22
        }, 
        {
            "source": "print(address)", 
            "cell_type": "code", 
            "metadata": {
                "scrolled": true
            }, 
            "outputs": [
                {
                    "output_type": "stream", 
                    "name": "stdout", 
                    "text": "['Hotel Rajhans International, Kachari Chowk , M.G Road, Bhagalpur - 812001(Bihar)', 'Hotel Urmila International,Maripur Main Road, Near Maripur Railway Overbridge, Muzaffarpur, Bihar-842001,', 'Shop No- L M - 7, Dumraon Palace, Fraser Road, Patna-1', 'Hotal Natraj International, Old G. T. Road (Near Model Thana), Beside Fazalganj Gas Agency, Sasaram(Rohtas), Bihar-821115,', 'Shop No. SB-14 Second Floor, Crown Plaza, Sector 15A, Mathura Road, Faridabad-121007(H.R.)', 'First Floor, Avinash Complex, Opposite Dr Amit Mukherjee, East Jail Road,Lalpur, Ranchi-834001(J.K.)', '170, IIFT Campus, Beside Allahabad Bank, Near Sargam Cinema, Zone II M.P Nagar Bhopal-462011(M.P.)', 'Shop No. 38, Rajiv Plaza Jayendraganj Lashkar Gwalior-474009(M.P.)', '103, Sukhmani Apartment, 5 Vishnupuri Colony, A.B. Road, Above Union Bank, Bhawarkuan, Indore-452001( M.P.)', 'Hotel Shivam Paradise Seth Estate Near Vishnu Mandir, Sidheshwar road Shivpuri\\xa0 -473551(M.P.)', 'Shop No. G-16 Wonder Mall Alwar\\xa0 (Raj)-301001', 'Infront of Hanuman Mandir, Suraj pole Chauraha, circular road, Bharatpur - 321001 (Raj.)', 'Hotel Gaurav, Hospital Road, Near Kotwali, Dholpur - 328001 (Raj.)', 'B 34, IInd Floor, Meedo Plaza, Bhel Chowk, Rajpur Road, Dehradun, -248001(U.K.)', '8 A/M, 808-A 1st Floor, Near Khandari Crossing, Near Sagar Ratna Hotel NH-2, Agra, -282002(U.P.)', 'Mahajan Plaza, III Floor, Near Minakshi Fly over Ram ghat Aligarh-202001(U.P.)', '17km stone, NH-2, Mathura-Delhi road p.o. Chaumuhan, Mathura-281 406 (u.p.) India', 'Hotel Tepso (Beside\\xa0 Coffe House) 123/27 A Mahatma Gandhi Marg Civil Lines Allahabad-211001(U.P.)', 'Hotel Gurudev Palace Civil Line Banda-210001(U.P.)', '148 Civil Lines, Second Floor TLC Building, Opposite ADM(E) Residence, Near Mandakini Hotel, Bareilly-243001(U.P.)', 'Room No 107, Hotel NR Group, Opposite Govt. Inter College Ground Gandhinagar Road, Dist- Basti U.P. 272001', 'Near PNB Bank, Opposite Raj Darbar Hotel, D.M.Colony Road, Bulandshahr-203001 (U.P)', '127, Aruna Nagar, Railway Road, Etah - 207001 (U.P.)', 'NIMACT Campus, 15, Civil Lines, Near Dr. Sanjeev Yadav (DMC Hospital), Etawah \u2013 206001(U.P.)', 'D-16, IS Plaza, Near Yes Bank, Station Road, Firozabad-283203(U.P.)', 'Ist Floor Shop No.4, Cross Road The Mall, Bank Road Gorakhpur-273001(U.P.)', 'II Floor, Near Agra Hospital, Vasudev Nagar, Agra Road, Hathras-282006(U.P.)', 'Hotel Yatrik, Elite Crossing, Janki Puram, Civil Lines, Jhansi - 284001 (U.P.)', '117/N/88, Kakadeo, Deoki Talkies Lane, Opposite CCD, Kanpur - 208025(U.P.)', 'Near Axis Bank, Laxmiganj, Kasganj- 207123(U.P.)', '1st Floor, A-Block, Suraj Deep Complex, Near Dainik Jagran Chauraha,1 Jopling Road Lucknow-226001(U.P.)', 'Krishna Marriage Hall, Near IDBI Bank, Station Road, Manipuri-205001(U.P.)', '347/1, Ground Floor, Prem G Plaza, Western Kutchery Road, Near Bombay Paint House, Meerut City, Meerut - 250001 (UP)', 'Nosegay Senior Secondary School, Madhubani Colony, Kanth Road, Near 23rd Btn. P.A.C., Moradabad-244001(UP)', '35/22/3, M.G. Complex, Near Liberty & Action Showroom, Lane No. 2, Sadar Bazar, Muzaffarnagar- 251001(U.P.)', 'H 50, Sector \u2013 63, Noida- 201307(U.P.)', 'Hotel Sunrise, 1684, Patel Nagar (Near Kalpi Bus Stand), ORAI- 285001, Distt. Jalaun (UP)', 'Hotel Apple, Opposite Sitapur Junction (Cantt Station), Avas Vikas Colony, Sitapur-261001', 'Shop No. 5, 3rd Floor, Kuber Complex (Mall), Rathyatra Chauraha, Singra Varanasi,\\xa0 221010(U.P.)']\n"
                }
            ], 
            "execution_count": 23
        }, 
        {
            "source": "print(contact)", 
            "cell_type": "code", 
            "metadata": {}, 
            "outputs": [
                {
                    "output_type": "stream", 
                    "name": "stdout", 
                    "text": "['+91-8171128356, +918449431935', '+91-9473455001, +91-7250365002', '\\xa085349 07971,\\xa095576 07724', '+91-9431866244, +91-9128057373', '+91-9643957318 +91-8130971422', '+91-8084394307, 9117639430', '+91-8474901787, +91-7060772531', '+91-9568145600, +91-8979380626, +9412353140', '\\xa0+91-9412159467, +91-9760079135', '+91-8755447139, +919926215890', '+91-7357286900,+91-8955391416', '+91-6376645030, +91-9672002340', '+91-7727979427, +91-8273093425', '+91-7060001917, +91-7302008809, +91-9761608809', '+91-9927584178, +91-7900389707', '+91-9084301580, +91-9084301565', '8937099911, 6399020004, 6399020005', '8917885320, 9519776497, 9412179002', '+91-9456009465, +91-8171089585, +91-8171866111', '+91-9568236377, +91-8954084897', '+91-8175074551,+91-8795453727', '+91-7302068771, +91-7302068742', '+91-7900542260, +91-8923300590', '+91-7518228095', '+91-7452821342, +91-8057258075', '+91-8077716159,+91-6396211328', '+91-7060238189, +91-9568255917', '+91-7500446622, +91-8979669911', '+91-8009509191, +91-9506035005', '+91-8006044401, +91-7037119023', '+91-8737070303, +91-7081252359', '+91-7037839960', '+91-7060239364, +91-7060239335', '+91-6399122005, +91-6399122006', '+91-8868963310, +91-8868823310', '+91-9560800670, +91-7428841918', '+91-9452683498, +91-8171633514, +91-8171630011', '+91-8737070202, +91-7081251886', '+91-6399288635, +91-9084301609']\n"
                }
            ], 
            "execution_count": 24
        }, 
        {
            "source": "print(date)", 
            "cell_type": "code", 
            "metadata": {}, 
            "outputs": [
                {
                    "output_type": "stream", 
                    "name": "stdout", 
                    "text": "['20/05/2019', '15/05/2019', '17/05/2019', '25/05/2019', '15/05/2019', '15/05/2019', '15/05/2019', '15/05/2019', '15/05/2019', '15/05/2019', '15/05/2019', '01/05/2019', '15/05/2019', '15/05/2019', '1/04/2019', '01/04/2019', '01/04/2019', '15/05/2019', '15/05/2019', '15/05/2019', '15/05/2019', '15/05/2019', '12/05/2019', '15/05/2019', '15/05/2019', '15/05/2019', '01/05/2019', '15/05/2019', '15/05/2019', '15/05/2019', '15/05/2019', '15/05/2019', '5/05/2019', '14/05/2019', '15/05/2019', '15/05/2019', '15/05/2019', '15/05/2019', '01/05/2019']\n"
                }
            ], 
            "execution_count": 25
        }, 
        {
            "source": "col", 
            "cell_type": "code", 
            "metadata": {}, 
            "outputs": [
                {
                    "output_type": "execute_result", 
                    "data": {
                        "text/plain": "[('State', []),\n ('Office Name', []),\n ('Address', []),\n ('Contact No.', []),\n ('Date of Opening', [])]"
                    }, 
                    "execution_count": 26, 
                    "metadata": {}
                }
            ], 
            "execution_count": 26
        }, 
        {
            "source": "type(col)", 
            "cell_type": "code", 
            "metadata": {}, 
            "outputs": [
                {
                    "output_type": "execute_result", 
                    "data": {
                        "text/plain": "list"
                    }, 
                    "execution_count": 27, 
                    "metadata": {}
                }
            ], 
            "execution_count": 27
        }, 
        {
            "source": "type(col[0])", 
            "cell_type": "code", 
            "metadata": {}, 
            "outputs": [
                {
                    "output_type": "execute_result", 
                    "data": {
                        "text/plain": "tuple"
                    }, 
                    "execution_count": 28, 
                    "metadata": {}
                }
            ], 
            "execution_count": 28
        }, 
        {
            "source": "col[0]", 
            "cell_type": "code", 
            "metadata": {}, 
            "outputs": [
                {
                    "output_type": "execute_result", 
                    "data": {
                        "text/plain": "('State', [])"
                    }, 
                    "execution_count": 29, 
                    "metadata": {}
                }
            ], 
            "execution_count": 29
        }, 
        {
            "source": "col[0][1]", 
            "cell_type": "code", 
            "metadata": {}, 
            "outputs": [
                {
                    "output_type": "execute_result", 
                    "data": {
                        "text/plain": "[]"
                    }, 
                    "execution_count": 30, 
                    "metadata": {}
                }
            ], 
            "execution_count": 30
        }, 
        {
            "source": "for i in states:\n    print(i)\n    col[0][1].append(i)", 
            "cell_type": "code", 
            "metadata": {}, 
            "outputs": [
                {
                    "output_type": "stream", 
                    "name": "stdout", 
                    "text": "Bihar\nHaryana\nJharkhand\nMadhya Pradesh\nRajasthan\nUttaranchal\nUttar Pradesh\n"
                }
            ], 
            "execution_count": 31
        }, 
        {
            "source": "col[0]", 
            "cell_type": "code", 
            "metadata": {}, 
            "outputs": [
                {
                    "output_type": "execute_result", 
                    "data": {
                        "text/plain": "('State',\n ['Bihar',\n  'Haryana',\n  'Jharkhand',\n  'Madhya Pradesh',\n  'Rajasthan',\n  'Uttaranchal',\n  'Uttar Pradesh'])"
                    }, 
                    "execution_count": 32, 
                    "metadata": {}
                }
            ], 
            "execution_count": 32
        }, 
        {
            "source": "# we will do the same with other attributes", 
            "cell_type": "code", 
            "metadata": {}, 
            "outputs": [], 
            "execution_count": 33
        }, 
        {
            "source": "col[1]", 
            "cell_type": "code", 
            "metadata": {}, 
            "outputs": [
                {
                    "output_type": "execute_result", 
                    "data": {
                        "text/plain": "('Office Name', [])"
                    }, 
                    "execution_count": 34, 
                    "metadata": {}
                }
            ], 
            "execution_count": 34
        }, 
        {
            "source": "for i in cities:\n    col[1][1].append(i)", 
            "cell_type": "code", 
            "metadata": {}, 
            "outputs": [], 
            "execution_count": 35
        }, 
        {
            "source": "col[1]", 
            "cell_type": "code", 
            "metadata": {}, 
            "outputs": [
                {
                    "output_type": "execute_result", 
                    "data": {
                        "text/plain": "('Office Name',\n ['Bhagalpur',\n  'Muzaffarpur',\n  'Patna',\n  'Sasaram',\n  'Faridabad',\n  'Ranchi',\n  'Bhopal',\n  'Gwalior',\n  'Indore',\n  'Shivpuri',\n  'Alwar',\n  'Bharatpur',\n  'Dholpur',\n  'Dehradun',\n  'Agra',\n  'Aligarh',\n  'Mathura',\n  'Allahabad',\n  'Banda',\n  'Bareilly',\n  'Basti',\n  'Bulandshahr',\n  'Etah',\n  'Etawah',\n  'Firozabad',\n  'Gorakhpur',\n  'Hathras',\n  'Jhansi',\n  'Kanpur',\n  'Kasganj',\n  'Lucknow',\n  'Mainpuri',\n  'Meerut',\n  'Moradabad',\n  'Muzaffarnagar',\n  'Noida',\n  'Orai',\n  'Sitapur',\n  'Varanasi'])"
                    }, 
                    "execution_count": 36, 
                    "metadata": {}
                }
            ], 
            "execution_count": 36
        }, 
        {
            "source": "len(col[1][1])", 
            "cell_type": "code", 
            "metadata": {}, 
            "outputs": [
                {
                    "output_type": "execute_result", 
                    "data": {
                        "text/plain": "39"
                    }, 
                    "execution_count": 37, 
                    "metadata": {}
                }
            ], 
            "execution_count": 37
        }, 
        {
            "source": "#there are 39 offices so correct", 
            "cell_type": "code", 
            "metadata": {}, 
            "outputs": [], 
            "execution_count": 38
        }, 
        {
            "source": "for i in address:\n    col[2][1].append(i)", 
            "cell_type": "code", 
            "metadata": {}, 
            "outputs": [], 
            "execution_count": 39
        }, 
        {
            "source": "col[2]", 
            "cell_type": "code", 
            "metadata": {}, 
            "outputs": [
                {
                    "output_type": "execute_result", 
                    "data": {
                        "text/plain": "('Address',\n ['Hotel Rajhans International, Kachari Chowk , M.G Road, Bhagalpur - 812001(Bihar)',\n  'Hotel Urmila International,Maripur Main Road, Near Maripur Railway Overbridge, Muzaffarpur, Bihar-842001,',\n  'Shop No- L M - 7, Dumraon Palace, Fraser Road, Patna-1',\n  'Hotal Natraj International, Old G. T. Road (Near Model Thana), Beside Fazalganj Gas Agency, Sasaram(Rohtas), Bihar-821115,',\n  'Shop No. SB-14 Second Floor, Crown Plaza, Sector 15A, Mathura Road, Faridabad-121007(H.R.)',\n  'First Floor, Avinash Complex, Opposite Dr Amit Mukherjee, East Jail Road,Lalpur, Ranchi-834001(J.K.)',\n  '170, IIFT Campus, Beside Allahabad Bank, Near Sargam Cinema, Zone II M.P Nagar Bhopal-462011(M.P.)',\n  'Shop No. 38, Rajiv Plaza Jayendraganj Lashkar Gwalior-474009(M.P.)',\n  '103, Sukhmani Apartment, 5 Vishnupuri Colony, A.B. Road, Above Union Bank, Bhawarkuan, Indore-452001( M.P.)',\n  'Hotel Shivam Paradise Seth Estate Near Vishnu Mandir, Sidheshwar road Shivpuri\\xa0 -473551(M.P.)',\n  'Shop No. G-16 Wonder Mall Alwar\\xa0 (Raj)-301001',\n  'Infront of Hanuman Mandir, Suraj pole Chauraha, circular road, Bharatpur - 321001 (Raj.)',\n  'Hotel Gaurav, Hospital Road, Near Kotwali, Dholpur - 328001 (Raj.)',\n  'B 34, IInd Floor, Meedo Plaza, Bhel Chowk, Rajpur Road, Dehradun, -248001(U.K.)',\n  '8 A/M, 808-A 1st Floor, Near Khandari Crossing, Near Sagar Ratna Hotel NH-2, Agra, -282002(U.P.)',\n  'Mahajan Plaza, III Floor, Near Minakshi Fly over Ram ghat Aligarh-202001(U.P.)',\n  '17km stone, NH-2, Mathura-Delhi road p.o. Chaumuhan, Mathura-281 406 (u.p.) India',\n  'Hotel Tepso (Beside\\xa0 Coffe House) 123/27 A Mahatma Gandhi Marg Civil Lines Allahabad-211001(U.P.)',\n  'Hotel Gurudev Palace Civil Line Banda-210001(U.P.)',\n  '148 Civil Lines, Second Floor TLC Building, Opposite ADM(E) Residence, Near Mandakini Hotel, Bareilly-243001(U.P.)',\n  'Room No 107, Hotel NR Group, Opposite Govt. Inter College Ground Gandhinagar Road, Dist- Basti U.P. 272001',\n  'Near PNB Bank, Opposite Raj Darbar Hotel, D.M.Colony Road, Bulandshahr-203001 (U.P)',\n  '127, Aruna Nagar, Railway Road, Etah - 207001 (U.P.)',\n  'NIMACT Campus, 15, Civil Lines, Near Dr. Sanjeev Yadav (DMC Hospital), Etawah \u2013 206001(U.P.)',\n  'D-16, IS Plaza, Near Yes Bank, Station Road, Firozabad-283203(U.P.)',\n  'Ist Floor Shop No.4, Cross Road The Mall, Bank Road Gorakhpur-273001(U.P.)',\n  'II Floor, Near Agra Hospital, Vasudev Nagar, Agra Road, Hathras-282006(U.P.)',\n  'Hotel Yatrik, Elite Crossing, Janki Puram, Civil Lines, Jhansi - 284001 (U.P.)',\n  '117/N/88, Kakadeo, Deoki Talkies Lane, Opposite CCD, Kanpur - 208025(U.P.)',\n  'Near Axis Bank, Laxmiganj, Kasganj- 207123(U.P.)',\n  '1st Floor, A-Block, Suraj Deep Complex, Near Dainik Jagran Chauraha,1 Jopling Road Lucknow-226001(U.P.)',\n  'Krishna Marriage Hall, Near IDBI Bank, Station Road, Manipuri-205001(U.P.)',\n  '347/1, Ground Floor, Prem G Plaza, Western Kutchery Road, Near Bombay Paint House, Meerut City, Meerut - 250001 (UP)',\n  'Nosegay Senior Secondary School, Madhubani Colony, Kanth Road, Near 23rd Btn. P.A.C., Moradabad-244001(UP)',\n  '35/22/3, M.G. Complex, Near Liberty & Action Showroom, Lane No. 2, Sadar Bazar, Muzaffarnagar- 251001(U.P.)',\n  'H 50, Sector \u2013 63, Noida- 201307(U.P.)',\n  'Hotel Sunrise, 1684, Patel Nagar (Near Kalpi Bus Stand), ORAI- 285001, Distt. Jalaun (UP)',\n  'Hotel Apple, Opposite Sitapur Junction (Cantt Station), Avas Vikas Colony, Sitapur-261001',\n  'Shop No. 5, 3rd Floor, Kuber Complex (Mall), Rathyatra Chauraha, Singra Varanasi,\\xa0 221010(U.P.)'])"
                    }, 
                    "execution_count": 40, 
                    "metadata": {}
                }
            ], 
            "execution_count": 40
        }, 
        {
            "source": "len(col[2][1]) #39 addresses", 
            "cell_type": "code", 
            "metadata": {}, 
            "outputs": [
                {
                    "output_type": "execute_result", 
                    "data": {
                        "text/plain": "39"
                    }, 
                    "execution_count": 42, 
                    "metadata": {}
                }
            ], 
            "execution_count": 42
        }, 
        {
            "source": "for i in contact:\n    col[3][1].append(i)", 
            "cell_type": "code", 
            "metadata": {}, 
            "outputs": [], 
            "execution_count": 43
        }, 
        {
            "source": "col[3]", 
            "cell_type": "code", 
            "metadata": {}, 
            "outputs": [
                {
                    "output_type": "execute_result", 
                    "data": {
                        "text/plain": "('Contact No.',\n ['+91-8171128356, +918449431935',\n  '+91-9473455001, +91-7250365002',\n  '\\xa085349 07971,\\xa095576 07724',\n  '+91-9431866244, +91-9128057373',\n  '+91-9643957318 +91-8130971422',\n  '+91-8084394307, 9117639430',\n  '+91-8474901787, +91-7060772531',\n  '+91-9568145600, +91-8979380626, +9412353140',\n  '\\xa0+91-9412159467, +91-9760079135',\n  '+91-8755447139, +919926215890',\n  '+91-7357286900,+91-8955391416',\n  '+91-6376645030, +91-9672002340',\n  '+91-7727979427, +91-8273093425',\n  '+91-7060001917, +91-7302008809, +91-9761608809',\n  '+91-9927584178, +91-7900389707',\n  '+91-9084301580, +91-9084301565',\n  '8937099911, 6399020004, 6399020005',\n  '8917885320, 9519776497, 9412179002',\n  '+91-9456009465, +91-8171089585, +91-8171866111',\n  '+91-9568236377, +91-8954084897',\n  '+91-8175074551,+91-8795453727',\n  '+91-7302068771, +91-7302068742',\n  '+91-7900542260, +91-8923300590',\n  '+91-7518228095',\n  '+91-7452821342, +91-8057258075',\n  '+91-8077716159,+91-6396211328',\n  '+91-7060238189, +91-9568255917',\n  '+91-7500446622, +91-8979669911',\n  '+91-8009509191, +91-9506035005',\n  '+91-8006044401, +91-7037119023',\n  '+91-8737070303, +91-7081252359',\n  '+91-7037839960',\n  '+91-7060239364, +91-7060239335',\n  '+91-6399122005, +91-6399122006',\n  '+91-8868963310, +91-8868823310',\n  '+91-9560800670, +91-7428841918',\n  '+91-9452683498, +91-8171633514, +91-8171630011',\n  '+91-8737070202, +91-7081251886',\n  '+91-6399288635, +91-9084301609'])"
                    }, 
                    "execution_count": 45, 
                    "metadata": {}
                }
            ], 
            "execution_count": 45
        }, 
        {
            "source": "len(col[3][1]) #39 rows of contacts", 
            "cell_type": "code", 
            "metadata": {}, 
            "outputs": [
                {
                    "output_type": "execute_result", 
                    "data": {
                        "text/plain": "39"
                    }, 
                    "execution_count": 47, 
                    "metadata": {}
                }
            ], 
            "execution_count": 47
        }, 
        {
            "source": "for i in date:\n    col[4][1].append(i)", 
            "cell_type": "code", 
            "metadata": {}, 
            "outputs": [], 
            "execution_count": 48
        }, 
        {
            "source": "col[4]", 
            "cell_type": "code", 
            "metadata": {
                "scrolled": true
            }, 
            "outputs": [
                {
                    "output_type": "execute_result", 
                    "data": {
                        "text/plain": "('Date of Opening',\n ['20/05/2019',\n  '15/05/2019',\n  '17/05/2019',\n  '25/05/2019',\n  '15/05/2019',\n  '15/05/2019',\n  '15/05/2019',\n  '15/05/2019',\n  '15/05/2019',\n  '15/05/2019',\n  '15/05/2019',\n  '01/05/2019',\n  '15/05/2019',\n  '15/05/2019',\n  '1/04/2019',\n  '01/04/2019',\n  '01/04/2019',\n  '15/05/2019',\n  '15/05/2019',\n  '15/05/2019',\n  '15/05/2019',\n  '15/05/2019',\n  '12/05/2019',\n  '15/05/2019',\n  '15/05/2019',\n  '15/05/2019',\n  '01/05/2019',\n  '15/05/2019',\n  '15/05/2019',\n  '15/05/2019',\n  '15/05/2019',\n  '15/05/2019',\n  '5/05/2019',\n  '14/05/2019',\n  '15/05/2019',\n  '15/05/2019',\n  '15/05/2019',\n  '15/05/2019',\n  '01/05/2019'])"
                    }, 
                    "execution_count": 49, 
                    "metadata": {}
                }
            ], 
            "execution_count": 49
        }, 
        {
            "source": "len(col[4][1]) #39 dates for 39 offices", 
            "cell_type": "code", 
            "metadata": {}, 
            "outputs": [
                {
                    "output_type": "execute_result", 
                    "data": {
                        "text/plain": "39"
                    }, 
                    "execution_count": 53, 
                    "metadata": {}
                }
            ], 
            "execution_count": 53
        }, 
        {
            "source": "Dict={title:column for (title,column) in col}", 
            "cell_type": "code", 
            "metadata": {}, 
            "outputs": [], 
            "execution_count": 54
        }, 
        {
            "source": "for key, value in Dict.items():\n    print(key,\" : \",value,\"\\n\")", 
            "cell_type": "code", 
            "metadata": {
                "scrolled": true
            }, 
            "outputs": [
                {
                    "output_type": "stream", 
                    "name": "stdout", 
                    "text": "Contact No.  :  ['+91-8171128356, +918449431935', '+91-9473455001, +91-7250365002', '\\xa085349 07971,\\xa095576 07724', '+91-9431866244, +91-9128057373', '+91-9643957318 +91-8130971422', '+91-8084394307, 9117639430', '+91-8474901787, +91-7060772531', '+91-9568145600, +91-8979380626, +9412353140', '\\xa0+91-9412159467, +91-9760079135', '+91-8755447139, +919926215890', '+91-7357286900,+91-8955391416', '+91-6376645030, +91-9672002340', '+91-7727979427, +91-8273093425', '+91-7060001917, +91-7302008809, +91-9761608809', '+91-9927584178, +91-7900389707', '+91-9084301580, +91-9084301565', '8937099911, 6399020004, 6399020005', '8917885320, 9519776497, 9412179002', '+91-9456009465, +91-8171089585, +91-8171866111', '+91-9568236377, +91-8954084897', '+91-8175074551,+91-8795453727', '+91-7302068771, +91-7302068742', '+91-7900542260, +91-8923300590', '+91-7518228095', '+91-7452821342, +91-8057258075', '+91-8077716159,+91-6396211328', '+91-7060238189, +91-9568255917', '+91-7500446622, +91-8979669911', '+91-8009509191, +91-9506035005', '+91-8006044401, +91-7037119023', '+91-8737070303, +91-7081252359', '+91-7037839960', '+91-7060239364, +91-7060239335', '+91-6399122005, +91-6399122006', '+91-8868963310, +91-8868823310', '+91-9560800670, +91-7428841918', '+91-9452683498, +91-8171633514, +91-8171630011', '+91-8737070202, +91-7081251886', '+91-6399288635, +91-9084301609'] \n\nOffice Name  :  ['Bhagalpur', 'Muzaffarpur', 'Patna', 'Sasaram', 'Faridabad', 'Ranchi', 'Bhopal', 'Gwalior', 'Indore', 'Shivpuri', 'Alwar', 'Bharatpur', 'Dholpur', 'Dehradun', 'Agra', 'Aligarh', 'Mathura', 'Allahabad', 'Banda', 'Bareilly', 'Basti', 'Bulandshahr', 'Etah', 'Etawah', 'Firozabad', 'Gorakhpur', 'Hathras', 'Jhansi', 'Kanpur', 'Kasganj', 'Lucknow', 'Mainpuri', 'Meerut', 'Moradabad', 'Muzaffarnagar', 'Noida', 'Orai', 'Sitapur', 'Varanasi'] \n\nAddress  :  ['Hotel Rajhans International, Kachari Chowk , M.G Road, Bhagalpur - 812001(Bihar)', 'Hotel Urmila International,Maripur Main Road, Near Maripur Railway Overbridge, Muzaffarpur, Bihar-842001,', 'Shop No- L M - 7, Dumraon Palace, Fraser Road, Patna-1', 'Hotal Natraj International, Old G. T. Road (Near Model Thana), Beside Fazalganj Gas Agency, Sasaram(Rohtas), Bihar-821115,', 'Shop No. SB-14 Second Floor, Crown Plaza, Sector 15A, Mathura Road, Faridabad-121007(H.R.)', 'First Floor, Avinash Complex, Opposite Dr Amit Mukherjee, East Jail Road,Lalpur, Ranchi-834001(J.K.)', '170, IIFT Campus, Beside Allahabad Bank, Near Sargam Cinema, Zone II M.P Nagar Bhopal-462011(M.P.)', 'Shop No. 38, Rajiv Plaza Jayendraganj Lashkar Gwalior-474009(M.P.)', '103, Sukhmani Apartment, 5 Vishnupuri Colony, A.B. Road, Above Union Bank, Bhawarkuan, Indore-452001( M.P.)', 'Hotel Shivam Paradise Seth Estate Near Vishnu Mandir, Sidheshwar road Shivpuri\\xa0 -473551(M.P.)', 'Shop No. G-16 Wonder Mall Alwar\\xa0 (Raj)-301001', 'Infront of Hanuman Mandir, Suraj pole Chauraha, circular road, Bharatpur - 321001 (Raj.)', 'Hotel Gaurav, Hospital Road, Near Kotwali, Dholpur - 328001 (Raj.)', 'B 34, IInd Floor, Meedo Plaza, Bhel Chowk, Rajpur Road, Dehradun, -248001(U.K.)', '8 A/M, 808-A 1st Floor, Near Khandari Crossing, Near Sagar Ratna Hotel NH-2, Agra, -282002(U.P.)', 'Mahajan Plaza, III Floor, Near Minakshi Fly over Ram ghat Aligarh-202001(U.P.)', '17km stone, NH-2, Mathura-Delhi road p.o. Chaumuhan, Mathura-281 406 (u.p.) India', 'Hotel Tepso (Beside\\xa0 Coffe House) 123/27 A Mahatma Gandhi Marg Civil Lines Allahabad-211001(U.P.)', 'Hotel Gurudev Palace Civil Line Banda-210001(U.P.)', '148 Civil Lines, Second Floor TLC Building, Opposite ADM(E) Residence, Near Mandakini Hotel, Bareilly-243001(U.P.)', 'Room No 107, Hotel NR Group, Opposite Govt. Inter College Ground Gandhinagar Road, Dist- Basti U.P. 272001', 'Near PNB Bank, Opposite Raj Darbar Hotel, D.M.Colony Road, Bulandshahr-203001 (U.P)', '127, Aruna Nagar, Railway Road, Etah - 207001 (U.P.)', 'NIMACT Campus, 15, Civil Lines, Near Dr. Sanjeev Yadav (DMC Hospital), Etawah \u2013 206001(U.P.)', 'D-16, IS Plaza, Near Yes Bank, Station Road, Firozabad-283203(U.P.)', 'Ist Floor Shop No.4, Cross Road The Mall, Bank Road Gorakhpur-273001(U.P.)', 'II Floor, Near Agra Hospital, Vasudev Nagar, Agra Road, Hathras-282006(U.P.)', 'Hotel Yatrik, Elite Crossing, Janki Puram, Civil Lines, Jhansi - 284001 (U.P.)', '117/N/88, Kakadeo, Deoki Talkies Lane, Opposite CCD, Kanpur - 208025(U.P.)', 'Near Axis Bank, Laxmiganj, Kasganj- 207123(U.P.)', '1st Floor, A-Block, Suraj Deep Complex, Near Dainik Jagran Chauraha,1 Jopling Road Lucknow-226001(U.P.)', 'Krishna Marriage Hall, Near IDBI Bank, Station Road, Manipuri-205001(U.P.)', '347/1, Ground Floor, Prem G Plaza, Western Kutchery Road, Near Bombay Paint House, Meerut City, Meerut - 250001 (UP)', 'Nosegay Senior Secondary School, Madhubani Colony, Kanth Road, Near 23rd Btn. P.A.C., Moradabad-244001(UP)', '35/22/3, M.G. Complex, Near Liberty & Action Showroom, Lane No. 2, Sadar Bazar, Muzaffarnagar- 251001(U.P.)', 'H 50, Sector \u2013 63, Noida- 201307(U.P.)', 'Hotel Sunrise, 1684, Patel Nagar (Near Kalpi Bus Stand), ORAI- 285001, Distt. Jalaun (UP)', 'Hotel Apple, Opposite Sitapur Junction (Cantt Station), Avas Vikas Colony, Sitapur-261001', 'Shop No. 5, 3rd Floor, Kuber Complex (Mall), Rathyatra Chauraha, Singra Varanasi,\\xa0 221010(U.P.)'] \n\nDate of Opening  :  ['20/05/2019', '15/05/2019', '17/05/2019', '25/05/2019', '15/05/2019', '15/05/2019', '15/05/2019', '15/05/2019', '15/05/2019', '15/05/2019', '15/05/2019', '01/05/2019', '15/05/2019', '15/05/2019', '1/04/2019', '01/04/2019', '01/04/2019', '15/05/2019', '15/05/2019', '15/05/2019', '15/05/2019', '15/05/2019', '12/05/2019', '15/05/2019', '15/05/2019', '15/05/2019', '01/05/2019', '15/05/2019', '15/05/2019', '15/05/2019', '15/05/2019', '15/05/2019', '5/05/2019', '14/05/2019', '15/05/2019', '15/05/2019', '15/05/2019', '15/05/2019', '01/05/2019'] \n\nState  :  ['Bihar', 'Haryana', 'Jharkhand', 'Madhya Pradesh', 'Rajasthan', 'Uttaranchal', 'Uttar Pradesh'] \n\n"
                }
            ], 
            "execution_count": 59
        }, 
        {
            "source": "df=pd.DataFrame.from_dict(Dict,orient='index')", 
            "cell_type": "code", 
            "metadata": {}, 
            "outputs": [], 
            "execution_count": 62
        }, 
        {
            "source": "df.head()", 
            "cell_type": "code", 
            "metadata": {}, 
            "outputs": [
                {
                    "output_type": "execute_result", 
                    "data": {
                        "text/plain": "                                                                0   \\\nContact No.                          +91-8171128356, +918449431935   \nOffice Name                                              Bhagalpur   \nAddress          Hotel Rajhans International, Kachari Chowk , M...   \nDate of Opening                                         20/05/2019   \nState                                                        Bihar   \n\n                                                                1   \\\nContact No.                         +91-9473455001, +91-7250365002   \nOffice Name                                            Muzaffarpur   \nAddress          Hotel Urmila International,Maripur Main Road, ...   \nDate of Opening                                         15/05/2019   \nState                                                      Haryana   \n\n                                                                2   \\\nContact No.                              \u00a085349 07971,\u00a095576 07724   \nOffice Name                                                  Patna   \nAddress          Shop No- L M - 7, Dumraon Palace, Fraser Road,...   \nDate of Opening                                         17/05/2019   \nState                                                    Jharkhand   \n\n                                                                3   \\\nContact No.                         +91-9431866244, +91-9128057373   \nOffice Name                                                Sasaram   \nAddress          Hotal Natraj International, Old G. T. Road (Ne...   \nDate of Opening                                         25/05/2019   \nState                                               Madhya Pradesh   \n\n                                                                4   \\\nContact No.                          +91-9643957318 +91-8130971422   \nOffice Name                                              Faridabad   \nAddress          Shop No. SB-14 Second Floor, Crown Plaza, Sect...   \nDate of Opening                                         15/05/2019   \nState                                                    Rajasthan   \n\n                                                                5   \\\nContact No.                             +91-8084394307, 9117639430   \nOffice Name                                                 Ranchi   \nAddress          First Floor, Avinash Complex, Opposite Dr Amit...   \nDate of Opening                                         15/05/2019   \nState                                                  Uttaranchal   \n\n                                                                6   \\\nContact No.                         +91-8474901787, +91-7060772531   \nOffice Name                                                 Bhopal   \nAddress          170, IIFT Campus, Beside Allahabad Bank, Near ...   \nDate of Opening                                         15/05/2019   \nState                                                Uttar Pradesh   \n\n                                                                7   \\\nContact No.            +91-9568145600, +91-8979380626, +9412353140   \nOffice Name                                                Gwalior   \nAddress          Shop No. 38, Rajiv Plaza Jayendraganj Lashkar ...   \nDate of Opening                                         15/05/2019   \nState                                                         None   \n\n                                                                8   \\\nContact No.                        \u00a0+91-9412159467, +91-9760079135   \nOffice Name                                                 Indore   \nAddress          103, Sukhmani Apartment, 5 Vishnupuri Colony, ...   \nDate of Opening                                         15/05/2019   \nState                                                         None   \n\n                                                                9   \\\nContact No.                          +91-8755447139, +919926215890   \nOffice Name                                               Shivpuri   \nAddress          Hotel Shivam Paradise Seth Estate Near Vishnu ...   \nDate of Opening                                         15/05/2019   \nState                                                         None   \n\n                                       ...                          \\\nContact No.                            ...                           \nOffice Name                            ...                           \nAddress                                ...                           \nDate of Opening                        ...                           \nState                                  ...                           \n\n                                                               29  \\\nContact No.                        +91-8006044401, +91-7037119023   \nOffice Name                                               Kasganj   \nAddress          Near Axis Bank, Laxmiganj, Kasganj- 207123(U.P.)   \nDate of Opening                                        15/05/2019   \nState                                                        None   \n\n                                                                30  \\\nContact No.                         +91-8737070303, +91-7081252359   \nOffice Name                                                Lucknow   \nAddress          1st Floor, A-Block, Suraj Deep Complex, Near D...   \nDate of Opening                                         15/05/2019   \nState                                                         None   \n\n                                                                31  \\\nContact No.                                         +91-7037839960   \nOffice Name                                               Mainpuri   \nAddress          Krishna Marriage Hall, Near IDBI Bank, Station...   \nDate of Opening                                         15/05/2019   \nState                                                         None   \n\n                                                                32  \\\nContact No.                         +91-7060239364, +91-7060239335   \nOffice Name                                                 Meerut   \nAddress          347/1, Ground Floor, Prem G Plaza, Western Kut...   \nDate of Opening                                          5/05/2019   \nState                                                         None   \n\n                                                                33  \\\nContact No.                         +91-6399122005, +91-6399122006   \nOffice Name                                              Moradabad   \nAddress          Nosegay Senior Secondary School, Madhubani Col...   \nDate of Opening                                         14/05/2019   \nState                                                         None   \n\n                                                                34  \\\nContact No.                         +91-8868963310, +91-8868823310   \nOffice Name                                          Muzaffarnagar   \nAddress          35/22/3, M.G. Complex, Near Liberty & Action S...   \nDate of Opening                                         15/05/2019   \nState                                                         None   \n\n                                                     35  \\\nContact No.              +91-9560800670, +91-7428841918   \nOffice Name                                       Noida   \nAddress          H 50, Sector \u2013 63, Noida- 201307(U.P.)   \nDate of Opening                              15/05/2019   \nState                                              None   \n\n                                                                36  \\\nContact No.         +91-9452683498, +91-8171633514, +91-8171630011   \nOffice Name                                                   Orai   \nAddress          Hotel Sunrise, 1684, Patel Nagar (Near Kalpi B...   \nDate of Opening                                         15/05/2019   \nState                                                         None   \n\n                                                                37  \\\nContact No.                         +91-8737070202, +91-7081251886   \nOffice Name                                                Sitapur   \nAddress          Hotel Apple, Opposite Sitapur Junction (Cantt ...   \nDate of Opening                                         15/05/2019   \nState                                                         None   \n\n                                                                38  \nContact No.                         +91-6399288635, +91-9084301609  \nOffice Name                                               Varanasi  \nAddress          Shop No. 5, 3rd Floor, Kuber Complex (Mall), R...  \nDate of Opening                                         01/05/2019  \nState                                                         None  \n\n[5 rows x 39 columns]", 
                        "text/html": "<div>\n<style scoped>\n    .dataframe tbody tr th:only-of-type {\n        vertical-align: middle;\n    }\n\n    .dataframe tbody tr th {\n        vertical-align: top;\n    }\n\n    .dataframe thead th {\n        text-align: right;\n    }\n</style>\n<table border=\"1\" class=\"dataframe\">\n  <thead>\n    <tr style=\"text-align: right;\">\n      <th></th>\n      <th>0</th>\n      <th>1</th>\n      <th>2</th>\n      <th>3</th>\n      <th>4</th>\n      <th>5</th>\n      <th>6</th>\n      <th>7</th>\n      <th>8</th>\n      <th>9</th>\n      <th>...</th>\n      <th>29</th>\n      <th>30</th>\n      <th>31</th>\n      <th>32</th>\n      <th>33</th>\n      <th>34</th>\n      <th>35</th>\n      <th>36</th>\n      <th>37</th>\n      <th>38</th>\n    </tr>\n  </thead>\n  <tbody>\n    <tr>\n      <th>Contact No.</th>\n      <td>+91-8171128356, +918449431935</td>\n      <td>+91-9473455001, +91-7250365002</td>\n      <td>85349 07971,\u00a095576 07724</td>\n      <td>+91-9431866244, +91-9128057373</td>\n      <td>+91-9643957318 +91-8130971422</td>\n      <td>+91-8084394307, 9117639430</td>\n      <td>+91-8474901787, +91-7060772531</td>\n      <td>+91-9568145600, +91-8979380626, +9412353140</td>\n      <td>+91-9412159467, +91-9760079135</td>\n      <td>+91-8755447139, +919926215890</td>\n      <td>...</td>\n      <td>+91-8006044401, +91-7037119023</td>\n      <td>+91-8737070303, +91-7081252359</td>\n      <td>+91-7037839960</td>\n      <td>+91-7060239364, +91-7060239335</td>\n      <td>+91-6399122005, +91-6399122006</td>\n      <td>+91-8868963310, +91-8868823310</td>\n      <td>+91-9560800670, +91-7428841918</td>\n      <td>+91-9452683498, +91-8171633514, +91-8171630011</td>\n      <td>+91-8737070202, +91-7081251886</td>\n      <td>+91-6399288635, +91-9084301609</td>\n    </tr>\n    <tr>\n      <th>Office Name</th>\n      <td>Bhagalpur</td>\n      <td>Muzaffarpur</td>\n      <td>Patna</td>\n      <td>Sasaram</td>\n      <td>Faridabad</td>\n      <td>Ranchi</td>\n      <td>Bhopal</td>\n      <td>Gwalior</td>\n      <td>Indore</td>\n      <td>Shivpuri</td>\n      <td>...</td>\n      <td>Kasganj</td>\n      <td>Lucknow</td>\n      <td>Mainpuri</td>\n      <td>Meerut</td>\n      <td>Moradabad</td>\n      <td>Muzaffarnagar</td>\n      <td>Noida</td>\n      <td>Orai</td>\n      <td>Sitapur</td>\n      <td>Varanasi</td>\n    </tr>\n    <tr>\n      <th>Address</th>\n      <td>Hotel Rajhans International, Kachari Chowk , M...</td>\n      <td>Hotel Urmila International,Maripur Main Road, ...</td>\n      <td>Shop No- L M - 7, Dumraon Palace, Fraser Road,...</td>\n      <td>Hotal Natraj International, Old G. T. Road (Ne...</td>\n      <td>Shop No. SB-14 Second Floor, Crown Plaza, Sect...</td>\n      <td>First Floor, Avinash Complex, Opposite Dr Amit...</td>\n      <td>170, IIFT Campus, Beside Allahabad Bank, Near ...</td>\n      <td>Shop No. 38, Rajiv Plaza Jayendraganj Lashkar ...</td>\n      <td>103, Sukhmani Apartment, 5 Vishnupuri Colony, ...</td>\n      <td>Hotel Shivam Paradise Seth Estate Near Vishnu ...</td>\n      <td>...</td>\n      <td>Near Axis Bank, Laxmiganj, Kasganj- 207123(U.P.)</td>\n      <td>1st Floor, A-Block, Suraj Deep Complex, Near D...</td>\n      <td>Krishna Marriage Hall, Near IDBI Bank, Station...</td>\n      <td>347/1, Ground Floor, Prem G Plaza, Western Kut...</td>\n      <td>Nosegay Senior Secondary School, Madhubani Col...</td>\n      <td>35/22/3, M.G. Complex, Near Liberty &amp; Action S...</td>\n      <td>H 50, Sector \u2013 63, Noida- 201307(U.P.)</td>\n      <td>Hotel Sunrise, 1684, Patel Nagar (Near Kalpi B...</td>\n      <td>Hotel Apple, Opposite Sitapur Junction (Cantt ...</td>\n      <td>Shop No. 5, 3rd Floor, Kuber Complex (Mall), R...</td>\n    </tr>\n    <tr>\n      <th>Date of Opening</th>\n      <td>20/05/2019</td>\n      <td>15/05/2019</td>\n      <td>17/05/2019</td>\n      <td>25/05/2019</td>\n      <td>15/05/2019</td>\n      <td>15/05/2019</td>\n      <td>15/05/2019</td>\n      <td>15/05/2019</td>\n      <td>15/05/2019</td>\n      <td>15/05/2019</td>\n      <td>...</td>\n      <td>15/05/2019</td>\n      <td>15/05/2019</td>\n      <td>15/05/2019</td>\n      <td>5/05/2019</td>\n      <td>14/05/2019</td>\n      <td>15/05/2019</td>\n      <td>15/05/2019</td>\n      <td>15/05/2019</td>\n      <td>15/05/2019</td>\n      <td>01/05/2019</td>\n    </tr>\n    <tr>\n      <th>State</th>\n      <td>Bihar</td>\n      <td>Haryana</td>\n      <td>Jharkhand</td>\n      <td>Madhya Pradesh</td>\n      <td>Rajasthan</td>\n      <td>Uttaranchal</td>\n      <td>Uttar Pradesh</td>\n      <td>None</td>\n      <td>None</td>\n      <td>None</td>\n      <td>...</td>\n      <td>None</td>\n      <td>None</td>\n      <td>None</td>\n      <td>None</td>\n      <td>None</td>\n      <td>None</td>\n      <td>None</td>\n      <td>None</td>\n      <td>None</td>\n      <td>None</td>\n    </tr>\n  </tbody>\n</table>\n<p>5 rows \u00d7 39 columns</p>\n</div>"
                    }, 
                    "execution_count": 63, 
                    "metadata": {}
                }
            ], 
            "execution_count": 63
        }, 
        {
            "source": "df", 
            "cell_type": "code", 
            "metadata": {}, 
            "outputs": [
                {
                    "output_type": "execute_result", 
                    "data": {
                        "text/plain": "                                                                0   \\\nContact No.                          +91-8171128356, +918449431935   \nOffice Name                                              Bhagalpur   \nAddress          Hotel Rajhans International, Kachari Chowk , M...   \nDate of Opening                                         20/05/2019   \nState                                                        Bihar   \n\n                                                                1   \\\nContact No.                         +91-9473455001, +91-7250365002   \nOffice Name                                            Muzaffarpur   \nAddress          Hotel Urmila International,Maripur Main Road, ...   \nDate of Opening                                         15/05/2019   \nState                                                      Haryana   \n\n                                                                2   \\\nContact No.                              \u00a085349 07971,\u00a095576 07724   \nOffice Name                                                  Patna   \nAddress          Shop No- L M - 7, Dumraon Palace, Fraser Road,...   \nDate of Opening                                         17/05/2019   \nState                                                    Jharkhand   \n\n                                                                3   \\\nContact No.                         +91-9431866244, +91-9128057373   \nOffice Name                                                Sasaram   \nAddress          Hotal Natraj International, Old G. T. Road (Ne...   \nDate of Opening                                         25/05/2019   \nState                                               Madhya Pradesh   \n\n                                                                4   \\\nContact No.                          +91-9643957318 +91-8130971422   \nOffice Name                                              Faridabad   \nAddress          Shop No. SB-14 Second Floor, Crown Plaza, Sect...   \nDate of Opening                                         15/05/2019   \nState                                                    Rajasthan   \n\n                                                                5   \\\nContact No.                             +91-8084394307, 9117639430   \nOffice Name                                                 Ranchi   \nAddress          First Floor, Avinash Complex, Opposite Dr Amit...   \nDate of Opening                                         15/05/2019   \nState                                                  Uttaranchal   \n\n                                                                6   \\\nContact No.                         +91-8474901787, +91-7060772531   \nOffice Name                                                 Bhopal   \nAddress          170, IIFT Campus, Beside Allahabad Bank, Near ...   \nDate of Opening                                         15/05/2019   \nState                                                Uttar Pradesh   \n\n                                                                7   \\\nContact No.            +91-9568145600, +91-8979380626, +9412353140   \nOffice Name                                                Gwalior   \nAddress          Shop No. 38, Rajiv Plaza Jayendraganj Lashkar ...   \nDate of Opening                                         15/05/2019   \nState                                                         None   \n\n                                                                8   \\\nContact No.                        \u00a0+91-9412159467, +91-9760079135   \nOffice Name                                                 Indore   \nAddress          103, Sukhmani Apartment, 5 Vishnupuri Colony, ...   \nDate of Opening                                         15/05/2019   \nState                                                         None   \n\n                                                                9   \\\nContact No.                          +91-8755447139, +919926215890   \nOffice Name                                               Shivpuri   \nAddress          Hotel Shivam Paradise Seth Estate Near Vishnu ...   \nDate of Opening                                         15/05/2019   \nState                                                         None   \n\n                                       ...                          \\\nContact No.                            ...                           \nOffice Name                            ...                           \nAddress                                ...                           \nDate of Opening                        ...                           \nState                                  ...                           \n\n                                                               29  \\\nContact No.                        +91-8006044401, +91-7037119023   \nOffice Name                                               Kasganj   \nAddress          Near Axis Bank, Laxmiganj, Kasganj- 207123(U.P.)   \nDate of Opening                                        15/05/2019   \nState                                                        None   \n\n                                                                30  \\\nContact No.                         +91-8737070303, +91-7081252359   \nOffice Name                                                Lucknow   \nAddress          1st Floor, A-Block, Suraj Deep Complex, Near D...   \nDate of Opening                                         15/05/2019   \nState                                                         None   \n\n                                                                31  \\\nContact No.                                         +91-7037839960   \nOffice Name                                               Mainpuri   \nAddress          Krishna Marriage Hall, Near IDBI Bank, Station...   \nDate of Opening                                         15/05/2019   \nState                                                         None   \n\n                                                                32  \\\nContact No.                         +91-7060239364, +91-7060239335   \nOffice Name                                                 Meerut   \nAddress          347/1, Ground Floor, Prem G Plaza, Western Kut...   \nDate of Opening                                          5/05/2019   \nState                                                         None   \n\n                                                                33  \\\nContact No.                         +91-6399122005, +91-6399122006   \nOffice Name                                              Moradabad   \nAddress          Nosegay Senior Secondary School, Madhubani Col...   \nDate of Opening                                         14/05/2019   \nState                                                         None   \n\n                                                                34  \\\nContact No.                         +91-8868963310, +91-8868823310   \nOffice Name                                          Muzaffarnagar   \nAddress          35/22/3, M.G. Complex, Near Liberty & Action S...   \nDate of Opening                                         15/05/2019   \nState                                                         None   \n\n                                                     35  \\\nContact No.              +91-9560800670, +91-7428841918   \nOffice Name                                       Noida   \nAddress          H 50, Sector \u2013 63, Noida- 201307(U.P.)   \nDate of Opening                              15/05/2019   \nState                                              None   \n\n                                                                36  \\\nContact No.         +91-9452683498, +91-8171633514, +91-8171630011   \nOffice Name                                                   Orai   \nAddress          Hotel Sunrise, 1684, Patel Nagar (Near Kalpi B...   \nDate of Opening                                         15/05/2019   \nState                                                         None   \n\n                                                                37  \\\nContact No.                         +91-8737070202, +91-7081251886   \nOffice Name                                                Sitapur   \nAddress          Hotel Apple, Opposite Sitapur Junction (Cantt ...   \nDate of Opening                                         15/05/2019   \nState                                                         None   \n\n                                                                38  \nContact No.                         +91-6399288635, +91-9084301609  \nOffice Name                                               Varanasi  \nAddress          Shop No. 5, 3rd Floor, Kuber Complex (Mall), R...  \nDate of Opening                                         01/05/2019  \nState                                                         None  \n\n[5 rows x 39 columns]", 
                        "text/html": "<div>\n<style scoped>\n    .dataframe tbody tr th:only-of-type {\n        vertical-align: middle;\n    }\n\n    .dataframe tbody tr th {\n        vertical-align: top;\n    }\n\n    .dataframe thead th {\n        text-align: right;\n    }\n</style>\n<table border=\"1\" class=\"dataframe\">\n  <thead>\n    <tr style=\"text-align: right;\">\n      <th></th>\n      <th>0</th>\n      <th>1</th>\n      <th>2</th>\n      <th>3</th>\n      <th>4</th>\n      <th>5</th>\n      <th>6</th>\n      <th>7</th>\n      <th>8</th>\n      <th>9</th>\n      <th>...</th>\n      <th>29</th>\n      <th>30</th>\n      <th>31</th>\n      <th>32</th>\n      <th>33</th>\n      <th>34</th>\n      <th>35</th>\n      <th>36</th>\n      <th>37</th>\n      <th>38</th>\n    </tr>\n  </thead>\n  <tbody>\n    <tr>\n      <th>Contact No.</th>\n      <td>+91-8171128356, +918449431935</td>\n      <td>+91-9473455001, +91-7250365002</td>\n      <td>85349 07971,\u00a095576 07724</td>\n      <td>+91-9431866244, +91-9128057373</td>\n      <td>+91-9643957318 +91-8130971422</td>\n      <td>+91-8084394307, 9117639430</td>\n      <td>+91-8474901787, +91-7060772531</td>\n      <td>+91-9568145600, +91-8979380626, +9412353140</td>\n      <td>+91-9412159467, +91-9760079135</td>\n      <td>+91-8755447139, +919926215890</td>\n      <td>...</td>\n      <td>+91-8006044401, +91-7037119023</td>\n      <td>+91-8737070303, +91-7081252359</td>\n      <td>+91-7037839960</td>\n      <td>+91-7060239364, +91-7060239335</td>\n      <td>+91-6399122005, +91-6399122006</td>\n      <td>+91-8868963310, +91-8868823310</td>\n      <td>+91-9560800670, +91-7428841918</td>\n      <td>+91-9452683498, +91-8171633514, +91-8171630011</td>\n      <td>+91-8737070202, +91-7081251886</td>\n      <td>+91-6399288635, +91-9084301609</td>\n    </tr>\n    <tr>\n      <th>Office Name</th>\n      <td>Bhagalpur</td>\n      <td>Muzaffarpur</td>\n      <td>Patna</td>\n      <td>Sasaram</td>\n      <td>Faridabad</td>\n      <td>Ranchi</td>\n      <td>Bhopal</td>\n      <td>Gwalior</td>\n      <td>Indore</td>\n      <td>Shivpuri</td>\n      <td>...</td>\n      <td>Kasganj</td>\n      <td>Lucknow</td>\n      <td>Mainpuri</td>\n      <td>Meerut</td>\n      <td>Moradabad</td>\n      <td>Muzaffarnagar</td>\n      <td>Noida</td>\n      <td>Orai</td>\n      <td>Sitapur</td>\n      <td>Varanasi</td>\n    </tr>\n    <tr>\n      <th>Address</th>\n      <td>Hotel Rajhans International, Kachari Chowk , M...</td>\n      <td>Hotel Urmila International,Maripur Main Road, ...</td>\n      <td>Shop No- L M - 7, Dumraon Palace, Fraser Road,...</td>\n      <td>Hotal Natraj International, Old G. T. Road (Ne...</td>\n      <td>Shop No. SB-14 Second Floor, Crown Plaza, Sect...</td>\n      <td>First Floor, Avinash Complex, Opposite Dr Amit...</td>\n      <td>170, IIFT Campus, Beside Allahabad Bank, Near ...</td>\n      <td>Shop No. 38, Rajiv Plaza Jayendraganj Lashkar ...</td>\n      <td>103, Sukhmani Apartment, 5 Vishnupuri Colony, ...</td>\n      <td>Hotel Shivam Paradise Seth Estate Near Vishnu ...</td>\n      <td>...</td>\n      <td>Near Axis Bank, Laxmiganj, Kasganj- 207123(U.P.)</td>\n      <td>1st Floor, A-Block, Suraj Deep Complex, Near D...</td>\n      <td>Krishna Marriage Hall, Near IDBI Bank, Station...</td>\n      <td>347/1, Ground Floor, Prem G Plaza, Western Kut...</td>\n      <td>Nosegay Senior Secondary School, Madhubani Col...</td>\n      <td>35/22/3, M.G. Complex, Near Liberty &amp; Action S...</td>\n      <td>H 50, Sector \u2013 63, Noida- 201307(U.P.)</td>\n      <td>Hotel Sunrise, 1684, Patel Nagar (Near Kalpi B...</td>\n      <td>Hotel Apple, Opposite Sitapur Junction (Cantt ...</td>\n      <td>Shop No. 5, 3rd Floor, Kuber Complex (Mall), R...</td>\n    </tr>\n    <tr>\n      <th>Date of Opening</th>\n      <td>20/05/2019</td>\n      <td>15/05/2019</td>\n      <td>17/05/2019</td>\n      <td>25/05/2019</td>\n      <td>15/05/2019</td>\n      <td>15/05/2019</td>\n      <td>15/05/2019</td>\n      <td>15/05/2019</td>\n      <td>15/05/2019</td>\n      <td>15/05/2019</td>\n      <td>...</td>\n      <td>15/05/2019</td>\n      <td>15/05/2019</td>\n      <td>15/05/2019</td>\n      <td>5/05/2019</td>\n      <td>14/05/2019</td>\n      <td>15/05/2019</td>\n      <td>15/05/2019</td>\n      <td>15/05/2019</td>\n      <td>15/05/2019</td>\n      <td>01/05/2019</td>\n    </tr>\n    <tr>\n      <th>State</th>\n      <td>Bihar</td>\n      <td>Haryana</td>\n      <td>Jharkhand</td>\n      <td>Madhya Pradesh</td>\n      <td>Rajasthan</td>\n      <td>Uttaranchal</td>\n      <td>Uttar Pradesh</td>\n      <td>None</td>\n      <td>None</td>\n      <td>None</td>\n      <td>...</td>\n      <td>None</td>\n      <td>None</td>\n      <td>None</td>\n      <td>None</td>\n      <td>None</td>\n      <td>None</td>\n      <td>None</td>\n      <td>None</td>\n      <td>None</td>\n      <td>None</td>\n    </tr>\n  </tbody>\n</table>\n<p>5 rows \u00d7 39 columns</p>\n</div>"
                    }, 
                    "execution_count": 66, 
                    "metadata": {}
                }
            ], 
            "execution_count": 66
        }, 
        {
            "source": "df2=pd.concat({k: pd.Series(v) for k, v in Dict.items()}, axis=1)", 
            "cell_type": "code", 
            "metadata": {}, 
            "outputs": [], 
            "execution_count": 69
        }, 
        {
            "source": "df2.head()", 
            "cell_type": "code", 
            "metadata": {}, 
            "outputs": [
                {
                    "output_type": "execute_result", 
                    "data": {
                        "text/plain": "                                             Address  \\\n0  Hotel Rajhans International, Kachari Chowk , M...   \n1  Hotel Urmila International,Maripur Main Road, ...   \n2  Shop No- L M - 7, Dumraon Palace, Fraser Road,...   \n3  Hotal Natraj International, Old G. T. Road (Ne...   \n4  Shop No. SB-14 Second Floor, Crown Plaza, Sect...   \n\n                      Contact No. Date of Opening  Office Name           State  \n0   +91-8171128356, +918449431935      20/05/2019    Bhagalpur           Bihar  \n1  +91-9473455001, +91-7250365002      15/05/2019  Muzaffarpur         Haryana  \n2       \u00a085349 07971,\u00a095576 07724      17/05/2019        Patna       Jharkhand  \n3  +91-9431866244, +91-9128057373      25/05/2019      Sasaram  Madhya Pradesh  \n4   +91-9643957318 +91-8130971422      15/05/2019    Faridabad       Rajasthan  ", 
                        "text/html": "<div>\n<style scoped>\n    .dataframe tbody tr th:only-of-type {\n        vertical-align: middle;\n    }\n\n    .dataframe tbody tr th {\n        vertical-align: top;\n    }\n\n    .dataframe thead th {\n        text-align: right;\n    }\n</style>\n<table border=\"1\" class=\"dataframe\">\n  <thead>\n    <tr style=\"text-align: right;\">\n      <th></th>\n      <th>Address</th>\n      <th>Contact No.</th>\n      <th>Date of Opening</th>\n      <th>Office Name</th>\n      <th>State</th>\n    </tr>\n  </thead>\n  <tbody>\n    <tr>\n      <th>0</th>\n      <td>Hotel Rajhans International, Kachari Chowk , M...</td>\n      <td>+91-8171128356, +918449431935</td>\n      <td>20/05/2019</td>\n      <td>Bhagalpur</td>\n      <td>Bihar</td>\n    </tr>\n    <tr>\n      <th>1</th>\n      <td>Hotel Urmila International,Maripur Main Road, ...</td>\n      <td>+91-9473455001, +91-7250365002</td>\n      <td>15/05/2019</td>\n      <td>Muzaffarpur</td>\n      <td>Haryana</td>\n    </tr>\n    <tr>\n      <th>2</th>\n      <td>Shop No- L M - 7, Dumraon Palace, Fraser Road,...</td>\n      <td>85349 07971,\u00a095576 07724</td>\n      <td>17/05/2019</td>\n      <td>Patna</td>\n      <td>Jharkhand</td>\n    </tr>\n    <tr>\n      <th>3</th>\n      <td>Hotal Natraj International, Old G. T. Road (Ne...</td>\n      <td>+91-9431866244, +91-9128057373</td>\n      <td>25/05/2019</td>\n      <td>Sasaram</td>\n      <td>Madhya Pradesh</td>\n    </tr>\n    <tr>\n      <th>4</th>\n      <td>Shop No. SB-14 Second Floor, Crown Plaza, Sect...</td>\n      <td>+91-9643957318 +91-8130971422</td>\n      <td>15/05/2019</td>\n      <td>Faridabad</td>\n      <td>Rajasthan</td>\n    </tr>\n  </tbody>\n</table>\n</div>"
                    }, 
                    "execution_count": 70, 
                    "metadata": {}
                }
            ], 
            "execution_count": 70
        }, 
        {
            "source": "df", 
            "cell_type": "code", 
            "metadata": {}, 
            "outputs": [
                {
                    "output_type": "execute_result", 
                    "data": {
                        "text/plain": "                                                                0   \\\nContact No.                          +91-8171128356, +918449431935   \nOffice Name                                              Bhagalpur   \nAddress          Hotel Rajhans International, Kachari Chowk , M...   \nDate of Opening                                         20/05/2019   \nState                                                        Bihar   \n\n                                                                1   \\\nContact No.                         +91-9473455001, +91-7250365002   \nOffice Name                                            Muzaffarpur   \nAddress          Hotel Urmila International,Maripur Main Road, ...   \nDate of Opening                                         15/05/2019   \nState                                                      Haryana   \n\n                                                                2   \\\nContact No.                              \u00a085349 07971,\u00a095576 07724   \nOffice Name                                                  Patna   \nAddress          Shop No- L M - 7, Dumraon Palace, Fraser Road,...   \nDate of Opening                                         17/05/2019   \nState                                                    Jharkhand   \n\n                                                                3   \\\nContact No.                         +91-9431866244, +91-9128057373   \nOffice Name                                                Sasaram   \nAddress          Hotal Natraj International, Old G. T. Road (Ne...   \nDate of Opening                                         25/05/2019   \nState                                               Madhya Pradesh   \n\n                                                                4   \\\nContact No.                          +91-9643957318 +91-8130971422   \nOffice Name                                              Faridabad   \nAddress          Shop No. SB-14 Second Floor, Crown Plaza, Sect...   \nDate of Opening                                         15/05/2019   \nState                                                    Rajasthan   \n\n                                                                5   \\\nContact No.                             +91-8084394307, 9117639430   \nOffice Name                                                 Ranchi   \nAddress          First Floor, Avinash Complex, Opposite Dr Amit...   \nDate of Opening                                         15/05/2019   \nState                                                  Uttaranchal   \n\n                                                                6   \\\nContact No.                         +91-8474901787, +91-7060772531   \nOffice Name                                                 Bhopal   \nAddress          170, IIFT Campus, Beside Allahabad Bank, Near ...   \nDate of Opening                                         15/05/2019   \nState                                                Uttar Pradesh   \n\n                                                                7   \\\nContact No.            +91-9568145600, +91-8979380626, +9412353140   \nOffice Name                                                Gwalior   \nAddress          Shop No. 38, Rajiv Plaza Jayendraganj Lashkar ...   \nDate of Opening                                         15/05/2019   \nState                                                         None   \n\n                                                                8   \\\nContact No.                        \u00a0+91-9412159467, +91-9760079135   \nOffice Name                                                 Indore   \nAddress          103, Sukhmani Apartment, 5 Vishnupuri Colony, ...   \nDate of Opening                                         15/05/2019   \nState                                                         None   \n\n                                                                9   \\\nContact No.                          +91-8755447139, +919926215890   \nOffice Name                                               Shivpuri   \nAddress          Hotel Shivam Paradise Seth Estate Near Vishnu ...   \nDate of Opening                                         15/05/2019   \nState                                                         None   \n\n                                       ...                          \\\nContact No.                            ...                           \nOffice Name                            ...                           \nAddress                                ...                           \nDate of Opening                        ...                           \nState                                  ...                           \n\n                                                               29  \\\nContact No.                        +91-8006044401, +91-7037119023   \nOffice Name                                               Kasganj   \nAddress          Near Axis Bank, Laxmiganj, Kasganj- 207123(U.P.)   \nDate of Opening                                        15/05/2019   \nState                                                        None   \n\n                                                                30  \\\nContact No.                         +91-8737070303, +91-7081252359   \nOffice Name                                                Lucknow   \nAddress          1st Floor, A-Block, Suraj Deep Complex, Near D...   \nDate of Opening                                         15/05/2019   \nState                                                         None   \n\n                                                                31  \\\nContact No.                                         +91-7037839960   \nOffice Name                                               Mainpuri   \nAddress          Krishna Marriage Hall, Near IDBI Bank, Station...   \nDate of Opening                                         15/05/2019   \nState                                                         None   \n\n                                                                32  \\\nContact No.                         +91-7060239364, +91-7060239335   \nOffice Name                                                 Meerut   \nAddress          347/1, Ground Floor, Prem G Plaza, Western Kut...   \nDate of Opening                                          5/05/2019   \nState                                                         None   \n\n                                                                33  \\\nContact No.                         +91-6399122005, +91-6399122006   \nOffice Name                                              Moradabad   \nAddress          Nosegay Senior Secondary School, Madhubani Col...   \nDate of Opening                                         14/05/2019   \nState                                                         None   \n\n                                                                34  \\\nContact No.                         +91-8868963310, +91-8868823310   \nOffice Name                                          Muzaffarnagar   \nAddress          35/22/3, M.G. Complex, Near Liberty & Action S...   \nDate of Opening                                         15/05/2019   \nState                                                         None   \n\n                                                     35  \\\nContact No.              +91-9560800670, +91-7428841918   \nOffice Name                                       Noida   \nAddress          H 50, Sector \u2013 63, Noida- 201307(U.P.)   \nDate of Opening                              15/05/2019   \nState                                              None   \n\n                                                                36  \\\nContact No.         +91-9452683498, +91-8171633514, +91-8171630011   \nOffice Name                                                   Orai   \nAddress          Hotel Sunrise, 1684, Patel Nagar (Near Kalpi B...   \nDate of Opening                                         15/05/2019   \nState                                                         None   \n\n                                                                37  \\\nContact No.                         +91-8737070202, +91-7081251886   \nOffice Name                                                Sitapur   \nAddress          Hotel Apple, Opposite Sitapur Junction (Cantt ...   \nDate of Opening                                         15/05/2019   \nState                                                         None   \n\n                                                                38  \nContact No.                         +91-6399288635, +91-9084301609  \nOffice Name                                               Varanasi  \nAddress          Shop No. 5, 3rd Floor, Kuber Complex (Mall), R...  \nDate of Opening                                         01/05/2019  \nState                                                         None  \n\n[5 rows x 39 columns]", 
                        "text/html": "<div>\n<style scoped>\n    .dataframe tbody tr th:only-of-type {\n        vertical-align: middle;\n    }\n\n    .dataframe tbody tr th {\n        vertical-align: top;\n    }\n\n    .dataframe thead th {\n        text-align: right;\n    }\n</style>\n<table border=\"1\" class=\"dataframe\">\n  <thead>\n    <tr style=\"text-align: right;\">\n      <th></th>\n      <th>0</th>\n      <th>1</th>\n      <th>2</th>\n      <th>3</th>\n      <th>4</th>\n      <th>5</th>\n      <th>6</th>\n      <th>7</th>\n      <th>8</th>\n      <th>9</th>\n      <th>...</th>\n      <th>29</th>\n      <th>30</th>\n      <th>31</th>\n      <th>32</th>\n      <th>33</th>\n      <th>34</th>\n      <th>35</th>\n      <th>36</th>\n      <th>37</th>\n      <th>38</th>\n    </tr>\n  </thead>\n  <tbody>\n    <tr>\n      <th>Contact No.</th>\n      <td>+91-8171128356, +918449431935</td>\n      <td>+91-9473455001, +91-7250365002</td>\n      <td>85349 07971,\u00a095576 07724</td>\n      <td>+91-9431866244, +91-9128057373</td>\n      <td>+91-9643957318 +91-8130971422</td>\n      <td>+91-8084394307, 9117639430</td>\n      <td>+91-8474901787, +91-7060772531</td>\n      <td>+91-9568145600, +91-8979380626, +9412353140</td>\n      <td>+91-9412159467, +91-9760079135</td>\n      <td>+91-8755447139, +919926215890</td>\n      <td>...</td>\n      <td>+91-8006044401, +91-7037119023</td>\n      <td>+91-8737070303, +91-7081252359</td>\n      <td>+91-7037839960</td>\n      <td>+91-7060239364, +91-7060239335</td>\n      <td>+91-6399122005, +91-6399122006</td>\n      <td>+91-8868963310, +91-8868823310</td>\n      <td>+91-9560800670, +91-7428841918</td>\n      <td>+91-9452683498, +91-8171633514, +91-8171630011</td>\n      <td>+91-8737070202, +91-7081251886</td>\n      <td>+91-6399288635, +91-9084301609</td>\n    </tr>\n    <tr>\n      <th>Office Name</th>\n      <td>Bhagalpur</td>\n      <td>Muzaffarpur</td>\n      <td>Patna</td>\n      <td>Sasaram</td>\n      <td>Faridabad</td>\n      <td>Ranchi</td>\n      <td>Bhopal</td>\n      <td>Gwalior</td>\n      <td>Indore</td>\n      <td>Shivpuri</td>\n      <td>...</td>\n      <td>Kasganj</td>\n      <td>Lucknow</td>\n      <td>Mainpuri</td>\n      <td>Meerut</td>\n      <td>Moradabad</td>\n      <td>Muzaffarnagar</td>\n      <td>Noida</td>\n      <td>Orai</td>\n      <td>Sitapur</td>\n      <td>Varanasi</td>\n    </tr>\n    <tr>\n      <th>Address</th>\n      <td>Hotel Rajhans International, Kachari Chowk , M...</td>\n      <td>Hotel Urmila International,Maripur Main Road, ...</td>\n      <td>Shop No- L M - 7, Dumraon Palace, Fraser Road,...</td>\n      <td>Hotal Natraj International, Old G. T. Road (Ne...</td>\n      <td>Shop No. SB-14 Second Floor, Crown Plaza, Sect...</td>\n      <td>First Floor, Avinash Complex, Opposite Dr Amit...</td>\n      <td>170, IIFT Campus, Beside Allahabad Bank, Near ...</td>\n      <td>Shop No. 38, Rajiv Plaza Jayendraganj Lashkar ...</td>\n      <td>103, Sukhmani Apartment, 5 Vishnupuri Colony, ...</td>\n      <td>Hotel Shivam Paradise Seth Estate Near Vishnu ...</td>\n      <td>...</td>\n      <td>Near Axis Bank, Laxmiganj, Kasganj- 207123(U.P.)</td>\n      <td>1st Floor, A-Block, Suraj Deep Complex, Near D...</td>\n      <td>Krishna Marriage Hall, Near IDBI Bank, Station...</td>\n      <td>347/1, Ground Floor, Prem G Plaza, Western Kut...</td>\n      <td>Nosegay Senior Secondary School, Madhubani Col...</td>\n      <td>35/22/3, M.G. Complex, Near Liberty &amp; Action S...</td>\n      <td>H 50, Sector \u2013 63, Noida- 201307(U.P.)</td>\n      <td>Hotel Sunrise, 1684, Patel Nagar (Near Kalpi B...</td>\n      <td>Hotel Apple, Opposite Sitapur Junction (Cantt ...</td>\n      <td>Shop No. 5, 3rd Floor, Kuber Complex (Mall), R...</td>\n    </tr>\n    <tr>\n      <th>Date of Opening</th>\n      <td>20/05/2019</td>\n      <td>15/05/2019</td>\n      <td>17/05/2019</td>\n      <td>25/05/2019</td>\n      <td>15/05/2019</td>\n      <td>15/05/2019</td>\n      <td>15/05/2019</td>\n      <td>15/05/2019</td>\n      <td>15/05/2019</td>\n      <td>15/05/2019</td>\n      <td>...</td>\n      <td>15/05/2019</td>\n      <td>15/05/2019</td>\n      <td>15/05/2019</td>\n      <td>5/05/2019</td>\n      <td>14/05/2019</td>\n      <td>15/05/2019</td>\n      <td>15/05/2019</td>\n      <td>15/05/2019</td>\n      <td>15/05/2019</td>\n      <td>01/05/2019</td>\n    </tr>\n    <tr>\n      <th>State</th>\n      <td>Bihar</td>\n      <td>Haryana</td>\n      <td>Jharkhand</td>\n      <td>Madhya Pradesh</td>\n      <td>Rajasthan</td>\n      <td>Uttaranchal</td>\n      <td>Uttar Pradesh</td>\n      <td>None</td>\n      <td>None</td>\n      <td>None</td>\n      <td>...</td>\n      <td>None</td>\n      <td>None</td>\n      <td>None</td>\n      <td>None</td>\n      <td>None</td>\n      <td>None</td>\n      <td>None</td>\n      <td>None</td>\n      <td>None</td>\n      <td>None</td>\n    </tr>\n  </tbody>\n</table>\n<p>5 rows \u00d7 39 columns</p>\n</div>"
                    }, 
                    "execution_count": 71, 
                    "metadata": {}
                }
            ], 
            "execution_count": 71
        }, 
        {
            "source": "", 
            "cell_type": "code", 
            "metadata": {}, 
            "outputs": [], 
            "execution_count": null
        }, 
        {
            "source": "", 
            "cell_type": "code", 
            "metadata": {}, 
            "outputs": [], 
            "execution_count": null
        }, 
        {
            "source": "", 
            "cell_type": "code", 
            "metadata": {}, 
            "outputs": [], 
            "execution_count": null
        }, 
        {
            "source": "", 
            "cell_type": "code", 
            "metadata": {}, 
            "outputs": [], 
            "execution_count": null
        }, 
        {
            "source": "print(table.prettify())", 
            "cell_type": "code", 
            "metadata": {
                "scrolled": true
            }, 
            "outputs": [], 
            "execution_count": null
        }, 
        {
            "source": "for row in table.findAll('tr'):\n    print (row.text) #row.prettify()", 
            "cell_type": "code", 
            "metadata": {}, 
            "outputs": [], 
            "execution_count": null
        }, 
        {
            "source": "for row in table.findAll('tr'):\n    for cell in row.findAll('td'):\n        print(cell.text)", 
            "cell_type": "code", 
            "metadata": {}, 
            "outputs": [], 
            "execution_count": null
        }, 
        {
            "source": "<h1> # here we replace \\t with nothing ......... !! </h1>", 
            "cell_type": "markdown", 
            "metadata": {}
        }, 
        {
            "source": "for row in table.findAll('tr'):\n    for cell in row.findAll('td'):\n        print(cell.text.replace('\\t','')) # here we replace \\t with nothing ......... !!", 
            "cell_type": "code", 
            "metadata": {}, 
            "outputs": [], 
            "execution_count": null
        }, 
        {
            "source": "<h1> using replace method again ... <br> to remove \\n <br> !!!!</h1>", 
            "cell_type": "markdown", 
            "metadata": {}
        }, 
        {
            "source": "for row in table.findAll('tr'):\n    for cell in row.findAll('td'):\n        print(cell.text.replace('\\t','').replace('\\n','')) # here we replace \\t with nothing ......... !!", 
            "cell_type": "code", 
            "metadata": {}, 
            "outputs": [], 
            "execution_count": null
        }, 
        {
            "source": " <h1> <font color = \"red\">it worked !!!!!!!!!! </font> <font color = \"#0e0ef2\" > <br> but there is still \\r so we will remove it now </font> </h1>", 
            "cell_type": "markdown", 
            "metadata": {}
        }, 
        {
            "source": "for row in table.findAll('tr'):\n    for cell in row.findAll('td'):\n        print(cell.text.replace('\\t','').replace('\\n','').replace('\\r','')) # here we replace \\t with nothing ......... !!", 
            "cell_type": "code", 
            "metadata": {}, 
            "outputs": [], 
            "execution_count": null
        }, 
        {
            "source": "### now we have our required data ......  !!!!!!!!!!!!!!!!!!!!!!!!! <br> in the correct format !!!!! </br>", 
            "cell_type": "markdown", 
            "metadata": {}
        }, 
        {
            "source": "# <font color = \"#f112ee\"> now we will append all data into list </font>", 
            "cell_type": "markdown", 
            "metadata": {}
        }, 
        {
            "source": "listrow1 = []\nfor row in table.findAll('tr'):\n    listcell1 = []\n    for cell in row.findAll('td'):\n        text = cell.text.replace('\\t','').replace('\\n','').replace('\\r','')\n        listcell1.append(text)\n    listrow1.append(listcell1)", 
            "cell_type": "code", 
            "metadata": {}, 
            "outputs": [], 
            "execution_count": null
        }, 
        {
            "source": "print(type(listcell1))\nprint(type(listrow1))", 
            "cell_type": "code", 
            "metadata": {}, 
            "outputs": [], 
            "execution_count": null
        }, 
        {
            "source": "# now well will see our list", 
            "cell_type": "markdown", 
            "metadata": {}
        }, 
        {
            "source": "print(listrow1)", 
            "cell_type": "code", 
            "metadata": {
                "scrolled": true
            }, 
            "outputs": [], 
            "execution_count": null
        }, 
        {
            "source": "## it has five elements just like the table has 5 elements \n# <font color =\"#1feef1\" > yay !!!!!! <br> it worked", 
            "cell_type": "markdown", 
            "metadata": {}
        }, 
        {
            "source": "#  first row is : ", 
            "cell_type": "markdown", 
            "metadata": {}
        }, 
        {
            "source": "print(listrow1[0])", 
            "cell_type": "code", 
            "metadata": {}, 
            "outputs": [], 
            "execution_count": null
        }, 
        {
            "source": "# creating another list and saving the created list into it ------  a copy of it ...... ", 
            "cell_type": "markdown", 
            "metadata": {}
        }, 
        {
            "source": "listrow2 = list()", 
            "cell_type": "code", 
            "metadata": {}, 
            "outputs": [], 
            "execution_count": null
        }, 
        {
            "source": "print(listrow2)", 
            "cell_type": "code", 
            "metadata": {}, 
            "outputs": [], 
            "execution_count": null
        }, 
        {
            "source": "listrow2 = listrow1", 
            "cell_type": "code", 
            "metadata": {}, 
            "outputs": [], 
            "execution_count": null
        }, 
        {
            "source": "print(listrow2)", 
            "cell_type": "code", 
            "metadata": {
                "scrolled": true
            }, 
            "outputs": [], 
            "execution_count": null
        }, 
        {
            "source": "## now i'll do further manipulation and let's delete first empty element ..\n ### it is annoying :p ", 
            "cell_type": "markdown", 
            "metadata": {}
        }, 
        {
            "source": "listrow2.pop(0)", 
            "cell_type": "code", 
            "metadata": {}, 
            "outputs": [], 
            "execution_count": null
        }, 
        {
            "source": "print(listrow2)", 
            "cell_type": "code", 
            "metadata": {
                "scrolled": true
            }, 
            "outputs": [], 
            "execution_count": null
        }, 
        {
            "source": "# removed it and it is obvious that lists are nested here ! \n# now let's access elements", 
            "cell_type": "markdown", 
            "metadata": {}
        }, 
        {
            "source": "# now that we have removed the first empty annoying element -------- \n\n\n## our first row is -----------", 
            "cell_type": "markdown", 
            "metadata": {}
        }, 
        {
            "source": "print(listrow2[0])", 
            "cell_type": "code", 
            "metadata": {}, 
            "outputs": [], 
            "execution_count": null
        }, 
        {
            "source": "## first element is ---", 
            "cell_type": "markdown", 
            "metadata": {}
        }, 
        {
            "source": "print(listrow2[0][0])", 
            "cell_type": "code", 
            "metadata": {}, 
            "outputs": [], 
            "execution_count": null
        }, 
        {
            "source": "## second element is ---- ", 
            "cell_type": "markdown", 
            "metadata": {}
        }, 
        {
            "source": "print(listrow2[0][1])", 
            "cell_type": "code", 
            "metadata": {}, 
            "outputs": [], 
            "execution_count": null
        }, 
        {
            "source": "## third element is ---", 
            "cell_type": "markdown", 
            "metadata": {}
        }, 
        {
            "source": "print(listrow2[0][2])", 
            "cell_type": "code", 
            "metadata": {}, 
            "outputs": [], 
            "execution_count": null
        }, 
        {
            "source": "## fourth element is ---", 
            "cell_type": "markdown", 
            "metadata": {}
        }, 
        {
            "source": "print(listrow2[0][3])", 
            "cell_type": "code", 
            "metadata": {}, 
            "outputs": [], 
            "execution_count": null
        }, 
        {
            "source": "## fifth element is ---", 
            "cell_type": "markdown", 
            "metadata": {}
        }, 
        {
            "source": "print(listrow2[0][4])", 
            "cell_type": "code", 
            "metadata": {}, 
            "outputs": [], 
            "execution_count": null
        }, 
        {
            "source": "### and since there are now further elements --- upon running next cell we will get an error ", 
            "cell_type": "markdown", 
            "metadata": {}
        }, 
        {
            "source": "#print(listrow2[0][5]) #accessing 6th element ---- there isn't any !  \n\n#i have commented it remove pound sign run again if want to see", 
            "cell_type": "code", 
            "metadata": {}, 
            "outputs": [], 
            "execution_count": null
        }, 
        {
            "source": "# printing all element of the 1st row using a loop and there type", 
            "cell_type": "markdown", 
            "metadata": {}
        }, 
        {
            "source": "for i in listrow2[0]:\n    print(i,\"----------\",type(i),end='\\n')", 
            "cell_type": "code", 
            "metadata": {}, 
            "outputs": [], 
            "execution_count": null
        }, 
        {
            "source": "# how many enteries are there ?", 
            "cell_type": "markdown", 
            "metadata": {}
        }, 
        {
            "source": "print(len(listrow2),\"enteries\")", 
            "cell_type": "code", 
            "metadata": {}, 
            "outputs": [], 
            "execution_count": null
        }, 
        {
            "source": "listrow2[0]", 
            "cell_type": "code", 
            "metadata": {}, 
            "outputs": [], 
            "execution_count": null
        }, 
        {
            "source": "listrow2[0][0]", 
            "cell_type": "code", 
            "metadata": {}, 
            "outputs": [], 
            "execution_count": null
        }, 
        {
            "source": "states = list()", 
            "cell_type": "code", 
            "metadata": {}, 
            "outputs": [], 
            "execution_count": null
        }, 
        {
            "source": "print(states)", 
            "cell_type": "code", 
            "metadata": {}, 
            "outputs": [], 
            "execution_count": null
        }, 
        {
            "source": "listrow2", 
            "cell_type": "code", 
            "metadata": {}, 
            "outputs": [], 
            "execution_count": null
        }, 
        {
            "source": "final_list = []\nfor sub_list in listrow2:\n    final_list.append(sub_list[0])", 
            "cell_type": "code", 
            "metadata": {}, 
            "outputs": [], 
            "execution_count": null
        }, 
        {
            "source": "print(final_list)", 
            "cell_type": "code", 
            "metadata": {}, 
            "outputs": [], 
            "execution_count": null
        }, 
        {
            "source": "for i in final_list:\n    print(i,end=' \\n ')", 
            "cell_type": "code", 
            "metadata": {}, 
            "outputs": [], 
            "execution_count": null
        }, 
        {
            "source": "# there is a problem with the table ---------------------------\n ## first entries have 5 elements and rest have 4 ---------- \n \n # first city of state is included in the sta", 
            "cell_type": "markdown", 
            "metadata": {}
        }, 
        {
            "source": "## printing listrow2[1] element", 
            "cell_type": "markdown", 
            "metadata": {}
        }, 
        {
            "source": "print(listrow2[1])", 
            "cell_type": "code", 
            "metadata": {}, 
            "outputs": [], 
            "execution_count": null
        }, 
        {
            "source": "## it has 4 elements", 
            "cell_type": "markdown", 
            "metadata": {}
        }, 
        {
            "source": "## so i'll extract those rows only which have length of 5 .........", 
            "cell_type": "markdown", 
            "metadata": {}
        }, 
        {
            "source": "final_list2 = []\nfor sub_list in listrow2:\n    if(len(sub_list)==5):\n        final_list2.append(sub_list[0])", 
            "cell_type": "code", 
            "metadata": {}, 
            "outputs": [], 
            "execution_count": null
        }, 
        {
            "source": "print(final_list2)", 
            "cell_type": "code", 
            "metadata": {}, 
            "outputs": [], 
            "execution_count": null
        }, 
        {
            "source": "## here we got our list of states", 
            "cell_type": "markdown", 
            "metadata": {}
        }, 
        {
            "source": "states = list()", 
            "cell_type": "code", 
            "metadata": {}, 
            "outputs": [], 
            "execution_count": null
        }, 
        {
            "source": "print(states)", 
            "cell_type": "code", 
            "metadata": {}, 
            "outputs": [], 
            "execution_count": null
        }, 
        {
            "source": "states = final_list2", 
            "cell_type": "code", 
            "metadata": {}, 
            "outputs": [], 
            "execution_count": null
        }, 
        {
            "source": "print(states)", 
            "cell_type": "code", 
            "metadata": {}, 
            "outputs": [], 
            "execution_count": null
        }, 
        {
            "source": "# let's extract name of  cities \n\n### if length of list is 5 ------ extract 2nd ( [1] ) element -- if it's 4 extract 1st ([0] )element", 
            "cell_type": "markdown", 
            "metadata": {}
        }, 
        {
            "source": "final_list3 = []\nfor sub_list in listrow2:\n    if(len(sub_list)==5):\n        final_list3.append(sub_list[1])\n    else:\n        final_list3.append(sub_list[0])", 
            "cell_type": "code", 
            "metadata": {}, 
            "outputs": [], 
            "execution_count": null
        }, 
        {
            "source": "print(final_list3)", 
            "cell_type": "code", 
            "metadata": {}, 
            "outputs": [], 
            "execution_count": null
        }, 
        {
            "source": "cities = list()", 
            "cell_type": "code", 
            "metadata": {}, 
            "outputs": [], 
            "execution_count": null
        }, 
        {
            "source": "print(cities)", 
            "cell_type": "code", 
            "metadata": {}, 
            "outputs": [], 
            "execution_count": null
        }, 
        {
            "source": "cities = final_list3", 
            "cell_type": "code", 
            "metadata": {}, 
            "outputs": [], 
            "execution_count": null
        }, 
        {
            "source": "print(cities)", 
            "cell_type": "code", 
            "metadata": {}, 
            "outputs": [], 
            "execution_count": null
        }, 
        {
            "source": "## trying to create list of cities and state within same cell ---", 
            "cell_type": "markdown", 
            "metadata": {}
        }, 
        {
            "source": "states1 = []\ncities1 = []\naddress1 = []\ncontact1 = []\ndate1 = []\nfor sub_list in listrow2:\n    if(len(sub_list)==5):\n        states1.append(sub_list[0])\n        cities1.append(sub_list[1])\n        address1.append(sub_list[2])\n        contact1.append(sub_list[3])\n        date1.append(sub_list[4])\n    else:\n        cities1.append(sub_list[0])\n        address1.append(sub_list[1])\n        contact1.append(sub_list[2])\n        date1.append(sub_list[3])", 
            "cell_type": "code", 
            "metadata": {}, 
            "outputs": [], 
            "execution_count": null
        }, 
        {
            "source": "for i in states1:\n    print(i,end='\\n')", 
            "cell_type": "code", 
            "metadata": {}, 
            "outputs": [], 
            "execution_count": null
        }, 
        {
            "source": "for i in cities1:\n    print(i,end='\\n')", 
            "cell_type": "code", 
            "metadata": {
                "scrolled": true
            }, 
            "outputs": [], 
            "execution_count": null
        }, 
        {
            "source": "for i in address1:\n    print(i,end='\\n')", 
            "cell_type": "code", 
            "metadata": {
                "scrolled": true
            }, 
            "outputs": [], 
            "execution_count": null
        }, 
        {
            "source": "for i in contact1:\n    print(i,end='\\n')", 
            "cell_type": "code", 
            "metadata": {
                "scrolled": true
            }, 
            "outputs": [], 
            "execution_count": null
        }, 
        {
            "source": "for i in date1:\n    print(i,end='\\n')", 
            "cell_type": "code", 
            "metadata": {
                "scrolled": true
            }, 
            "outputs": [], 
            "execution_count": null
        }, 
        {
            "source": "", 
            "cell_type": "code", 
            "metadata": {}, 
            "outputs": [], 
            "execution_count": null
        }, 
        {
            "source": "", 
            "cell_type": "code", 
            "metadata": {}, 
            "outputs": [], 
            "execution_count": null
        }, 
        {
            "source": "", 
            "cell_type": "code", 
            "metadata": {}, 
            "outputs": [], 
            "execution_count": null
        }, 
        {
            "source": "", 
            "cell_type": "code", 
            "metadata": {}, 
            "outputs": [], 
            "execution_count": null
        }, 
        {
            "source": "dict1 = {}", 
            "cell_type": "code", 
            "metadata": {}, 
            "outputs": [], 
            "execution_count": null
        }, 
        {
            "source": "print(type(dict1))", 
            "cell_type": "code", 
            "metadata": {}, 
            "outputs": [], 
            "execution_count": null
        }, 
        {
            "source": "d = {3:4, 5:6, 7:8}", 
            "cell_type": "code", 
            "metadata": {}, 
            "outputs": [], 
            "execution_count": null
        }, 
        {
            "source": "dict1.update(d)", 
            "cell_type": "code", 
            "metadata": {}, 
            "outputs": [], 
            "execution_count": null
        }, 
        {
            "source": "print(dict1)", 
            "cell_type": "code", 
            "metadata": {}, 
            "outputs": [], 
            "execution_count": null
        }, 
        {
            "source": "## let's try using this method", 
            "cell_type": "markdown", 
            "metadata": {}
        }, 
        {
            "source": "dict2 = {}", 
            "cell_type": "code", 
            "metadata": {}, 
            "outputs": [], 
            "execution_count": null
        }, 
        {
            "source": "print(type(dict2))\n\ntup1 = ()\nprint(type(tup1))\ntup2 = ()\nprint(type(tup2))\n", 
            "cell_type": "code", 
            "metadata": {}, 
            "outputs": [], 
            "execution_count": null
        }, 
        {
            "source": "states2 = []\ncities2 = []\nfor sub_list in listrow2:\n    if(len(sub_list)==5):\n        states2.append(sub_list[0])\n        cities2.append(sub_list[1])\n        tup1 = tuple(cities2)\n        tup2 = tuple(states2)\n    else:\n        cities2.append(sub_list[0])\n        tup1 = tuple(cities2)", 
            "cell_type": "code", 
            "metadata": {}, 
            "outputs": [], 
            "execution_count": null
        }, 
        {
            "source": "print(tup1)", 
            "cell_type": "code", 
            "metadata": {}, 
            "outputs": [], 
            "execution_count": null
        }, 
        {
            "source": "print(tup2)", 
            "cell_type": "code", 
            "metadata": {}, 
            "outputs": [], 
            "execution_count": null
        }, 
        {
            "source": "", 
            "cell_type": "code", 
            "metadata": {}, 
            "outputs": [], 
            "execution_count": null
        }, 
        {
            "source": "", 
            "cell_type": "code", 
            "metadata": {}, 
            "outputs": [], 
            "execution_count": null
        }, 
        {
            "source": "", 
            "cell_type": "code", 
            "metadata": {}, 
            "outputs": [], 
            "execution_count": null
        }, 
        {
            "source": "", 
            "cell_type": "code", 
            "metadata": {}, 
            "outputs": [], 
            "execution_count": null
        }, 
        {
            "source": "", 
            "cell_type": "code", 
            "metadata": {}, 
            "outputs": [], 
            "execution_count": null
        }, 
        {
            "source": "", 
            "cell_type": "code", 
            "metadata": {}, 
            "outputs": [], 
            "execution_count": null
        }, 
        {
            "source": "# now let's deal with pandas ", 
            "cell_type": "markdown", 
            "metadata": {}
        }, 
        {
            "source": "import pandas as pd", 
            "cell_type": "code", 
            "metadata": {}, 
            "outputs": [], 
            "execution_count": null
        }, 
        {
            "source": "soup4 = BS(html,'html.parser')\ntable4 = soup4.find('tbody')\n\nres = []\nrow = []\n\nfor tr in soup4.find_all('tbody'):\n    for td in tr.find_all('th'):\n        row.append(td.text.replace('\\t','').replace('\\n','').replace('\\r',''))\n    res.append(row)\n    row = []\n\ndf = pd.DataFrame(data=res)", 
            "cell_type": "code", 
            "metadata": {}, 
            "outputs": [], 
            "execution_count": null
        }, 
        {
            "source": "df", 
            "cell_type": "code", 
            "metadata": {}, 
            "outputs": [], 
            "execution_count": null
        }, 
        {
            "source": "print(res)\ntype(res)\ntype(df)", 
            "cell_type": "code", 
            "metadata": {}, 
            "outputs": [], 
            "execution_count": null
        }, 
        {
            "source": "soup6 = BS(html,'html.parser')\ntable6 = soup6.find('tbody')", 
            "cell_type": "code", 
            "metadata": {}, 
            "outputs": [], 
            "execution_count": null
        }, 
        {
            "source": "for tr in soup6.findAll('tr'):\n    print(len(tr))\n    print(tr.text.replace('\\t','').replace('\\n','').replace('\\r',''),end='\\n')", 
            "cell_type": "code", 
            "metadata": {
                "scrolled": true
            }, 
            "outputs": [], 
            "execution_count": null
        }, 
        {
            "source": "", 
            "cell_type": "code", 
            "metadata": {}, 
            "outputs": [], 
            "execution_count": null
        }, 
        {
            "source": "", 
            "cell_type": "code", 
            "metadata": {}, 
            "outputs": [], 
            "execution_count": null
        }, 
        {
            "source": "", 
            "cell_type": "code", 
            "metadata": {}, 
            "outputs": [], 
            "execution_count": null
        }, 
        {
            "source": "", 
            "cell_type": "code", 
            "metadata": {}, 
            "outputs": [], 
            "execution_count": null
        }, 
        {
            "source": "", 
            "cell_type": "code", 
            "metadata": {}, 
            "outputs": [], 
            "execution_count": null
        }, 
        {
            "source": "", 
            "cell_type": "code", 
            "metadata": {}, 
            "outputs": [], 
            "execution_count": null
        }, 
        {
            "source": "", 
            "cell_type": "code", 
            "metadata": {}, 
            "outputs": [], 
            "execution_count": null
        }, 
        {
            "source": "", 
            "cell_type": "code", 
            "metadata": {}, 
            "outputs": [], 
            "execution_count": null
        }, 
        {
            "source": "", 
            "cell_type": "code", 
            "metadata": {}, 
            "outputs": [], 
            "execution_count": null
        }, 
        {
            "source": "", 
            "cell_type": "code", 
            "metadata": {}, 
            "outputs": [], 
            "execution_count": null
        }, 
        {
            "source": "", 
            "cell_type": "code", 
            "metadata": {}, 
            "outputs": [], 
            "execution_count": null
        }, 
        {
            "source": "", 
            "cell_type": "code", 
            "metadata": {}, 
            "outputs": [], 
            "execution_count": null
        }, 
        {
            "source": "", 
            "cell_type": "code", 
            "metadata": {}, 
            "outputs": [], 
            "execution_count": null
        }, 
        {
            "source": "", 
            "cell_type": "code", 
            "metadata": {}, 
            "outputs": [], 
            "execution_count": null
        }, 
        {
            "source": "", 
            "cell_type": "code", 
            "metadata": {}, 
            "outputs": [], 
            "execution_count": null
        }, 
        {
            "source": "", 
            "cell_type": "code", 
            "metadata": {}, 
            "outputs": [], 
            "execution_count": null
        }, 
        {
            "source": "", 
            "cell_type": "code", 
            "metadata": {}, 
            "outputs": [], 
            "execution_count": null
        }, 
        {
            "source": "", 
            "cell_type": "code", 
            "metadata": {}, 
            "outputs": [], 
            "execution_count": null
        }, 
        {
            "source": "", 
            "cell_type": "code", 
            "metadata": {}, 
            "outputs": [], 
            "execution_count": null
        }, 
        {
            "source": "", 
            "cell_type": "code", 
            "metadata": {}, 
            "outputs": [], 
            "execution_count": null
        }, 
        {
            "source": "", 
            "cell_type": "code", 
            "metadata": {}, 
            "outputs": [], 
            "execution_count": null
        }, 
        {
            "source": "", 
            "cell_type": "code", 
            "metadata": {}, 
            "outputs": [], 
            "execution_count": null
        }, 
        {
            "source": "# extract headers first", 
            "cell_type": "markdown", 
            "metadata": {}
        }, 
        {
            "source": "header_list = list()\nfor row in table.findAll('tr'):\n    for cell in row.findAll('th'):\n        text = cell.text.replace('\\t','').replace('\\n','').replace('\\r','')\n        header_list.append(text)", 
            "cell_type": "code", 
            "metadata": {}, 
            "outputs": [], 
            "execution_count": null
        }, 
        {
            "source": "print(header_list) #here it is", 
            "cell_type": "code", 
            "metadata": {}, 
            "outputs": [], 
            "execution_count": null
        }, 
        {
            "source": "for i in range(len(header_list)):\n    print(type(header_list[i]),\"------------\",header_list[i])", 
            "cell_type": "code", 
            "metadata": {}, 
            "outputs": [], 
            "execution_count": null
        }, 
        {
            "source": "df = pd.DataFrame(header_list,cities = ['States', 'Cities']) ", 
            "cell_type": "code", 
            "metadata": {}, 
            "outputs": [], 
            "execution_count": null
        }, 
        {
            "source": "", 
            "cell_type": "code", 
            "metadata": {}, 
            "outputs": [], 
            "execution_count": null
        }, 
        {
            "source": "", 
            "cell_type": "code", 
            "metadata": {}, 
            "outputs": [], 
            "execution_count": null
        }, 
        {
            "source": "", 
            "cell_type": "code", 
            "metadata": {}, 
            "outputs": [], 
            "execution_count": null
        }, 
        {
            "source": "", 
            "cell_type": "code", 
            "metadata": {}, 
            "outputs": [], 
            "execution_count": null
        }, 
        {
            "source": "", 
            "cell_type": "code", 
            "metadata": {}, 
            "outputs": [], 
            "execution_count": null
        }, 
        {
            "source": "import re\ns=listrow1[1][0]\ns.translate(str.maketrans('','','\\t\\n'))\n#print(k)", 
            "cell_type": "code", 
            "metadata": {}, 
            "outputs": [], 
            "execution_count": null
        }, 
        {
            "source": "<h1> this worked !!!!!!!!! \n    successfully removed \\t\\n from text \n    </h1>", 
            "cell_type": "markdown", 
            "metadata": {}
        }, 
        {
            "source": "#we will remove \\r now\np = s.translate(str.maketrans('','','\\r\\t\\n'))\nprint(p)\nprint(\"Bihar\") #just to check if the required characters are removed ", 
            "cell_type": "code", 
            "metadata": {}, 
            "outputs": [], 
            "execution_count": null
        }
    ], 
    "metadata": {
        "kernelspec": {
            "display_name": "Python 3.5", 
            "name": "python3", 
            "language": "python"
        }, 
        "language_info": {
            "mimetype": "text/x-python", 
            "nbconvert_exporter": "python", 
            "version": "3.5.5", 
            "name": "python", 
            "file_extension": ".py", 
            "pygments_lexer": "ipython3", 
            "codemirror_mode": {
                "version": 3, 
                "name": "ipython"
            }
        }
    }, 
    "nbformat": 4
}